{
 "cells": [
  {
   "cell_type": "code",
   "execution_count": 18,
   "metadata": {},
   "outputs": [
    {
     "name": "stdout",
     "output_type": "stream",
     "text": [
      "/Users/macbook/divtel/SST\n"
     ]
    }
   ],
   "source": [
    "!pwd"
   ]
  },
  {
   "cell_type": "code",
   "execution_count": 19,
   "metadata": {},
   "outputs": [
    {
     "name": "stdout",
     "output_type": "stream",
     "text": [
      "The autoreload extension is already loaded. To reload it, use:\n",
      "  %reload_ext autoreload\n"
     ]
    }
   ],
   "source": [
    "%load_ext autoreload\n",
    "%autoreload 2\n",
    "%reload_ext autoreload\n",
    "%matplotlib inline\n",
    "import astropy.units as u\n",
    "import numpy as np\n",
    "import matplotlib.pyplot as plt\n",
    "import sys\n",
    "from ipywidgets import interactive, FloatSlider, interact, fixed\n",
    "from divtel import *\n",
    "import copy\n",
    "import astropy.units as u\n",
    "from astropy.coordinates import SkyCoord\n",
    "from astroplan.plots import plot_sky\n",
    "from astroplan import FixedTarget\n",
    "#from . import utils\n",
    "#from .const import COLORS\n",
    "#from . import pointing\n",
    "\n",
    "from matplotlib.transforms import Affine2D\n",
    "from astropy.visualization.wcsaxes import SphericalCircle\n",
    "\n",
    "import healpy as hp\n",
    "import tqdm\n",
    "\n",
    "#!jupyter labextension install @jupyter-widgets/jupyterlab-manager"
   ]
  },
  {
   "cell_type": "markdown",
   "metadata": {},
   "source": [
    "## LOAD CTA CONFIG"
   ]
  },
  {
   "cell_type": "code",
   "execution_count": 20,
   "metadata": {},
   "outputs": [
    {
     "name": "stdout",
     "output_type": "stream",
     "text": [
      "Observer         :  CTA South\n",
      "Location         :  Paranal , (1946.635798, -5467.63394562, -2642.49852123) km\n",
      "Observation time :  2025-02-21T13:35:12.413\n"
     ]
    }
   ],
   "source": [
    "cta = CTA_Info('south')"
   ]
  },
  {
   "cell_type": "code",
   "execution_count": 21,
   "metadata": {},
   "outputs": [],
   "source": [
    "# Note that if the radius is in meters, \n",
    "# you can set LoadConfig(file, radius=\"meters\")\n",
    "# defalut is in degrees\n",
    "\n",
    "array = LoadConfig(\"/Users/macbook/divtel/Paranal_only_SST.txt\", frame=cta)\n"
   ]
  },
  {
   "cell_type": "code",
   "execution_count": null,
   "metadata": {},
   "outputs": [],
   "source": []
  },
  {
   "cell_type": "markdown",
   "metadata": {},
   "source": [
    "## Check configuration table"
   ]
  },
  {
   "cell_type": "code",
   "execution_count": 22,
   "metadata": {},
   "outputs": [
    {
     "data": {
      "text/html": [
       "<div><i>Table length=46</i>\n",
       "<table id=\"table5027978784\" class=\"table-striped table-bordered table-condensed\">\n",
       "<thead><tr><th>id</th><th>x</th><th>y</th><th>z</th><th>az</th><th>alt</th><th>zn</th><th>focal</th><th>radius</th><th>fov</th><th>p_x</th><th>p_y</th><th>p_z</th><th>d_tel</th></tr></thead>\n",
       "<thead><tr><th></th><th>m</th><th>m</th><th>m</th><th>deg</th><th>deg</th><th>deg</th><th>m</th><th>deg</th><th>deg2</th><th></th><th></th><th></th><th>m</th></tr></thead>\n",
       "<thead><tr><th>int64</th><th>float64</th><th>float64</th><th>float64</th><th>float64</th><th>float64</th><th>float64</th><th>float64</th><th>float64</th><th>float64</th><th>float64</th><th>float64</th><th>float64</th><th>float64</th></tr></thead>\n",
       "<tr><td>1</td><td>199.0</td><td>0.0</td><td>16.25</td><td>0.000</td><td>0.000</td><td>90.000</td><td>5.600</td><td>4.450</td><td>62.462</td><td>1.000</td><td>-0.000</td><td>0.000</td><td>200.19</td></tr>\n",
       "<tr><td>2</td><td>-230.0</td><td>0.0</td><td>22.75</td><td>0.000</td><td>0.000</td><td>90.000</td><td>5.600</td><td>4.450</td><td>62.462</td><td>1.000</td><td>-0.000</td><td>0.000</td><td>229.36</td></tr>\n",
       "<tr><td>3</td><td>-249.0</td><td>-325.0</td><td>40.75</td><td>0.000</td><td>0.000</td><td>90.000</td><td>5.600</td><td>4.450</td><td>62.462</td><td>1.000</td><td>-0.000</td><td>0.000</td><td>409.12</td></tr>\n",
       "<tr><td>4</td><td>-249.0</td><td>325.0</td><td>17.25</td><td>0.000</td><td>0.000</td><td>90.000</td><td>5.600</td><td>4.450</td><td>62.462</td><td>1.000</td><td>-0.000</td><td>0.000</td><td>409.16</td></tr>\n",
       "<tr><td>5</td><td>-249.0</td><td>-577.0</td><td>54.25</td><td>0.000</td><td>0.000</td><td>90.000</td><td>5.600</td><td>4.450</td><td>62.462</td><td>1.000</td><td>-0.000</td><td>0.000</td><td>628.62</td></tr>\n",
       "<tr><td>6</td><td>-249.0</td><td>577.0</td><td>8.25</td><td>0.000</td><td>0.000</td><td>90.000</td><td>5.600</td><td>4.450</td><td>62.462</td><td>1.000</td><td>-0.000</td><td>0.000</td><td>628.51</td></tr>\n",
       "<tr><td>7</td><td>-220.0</td><td>-797.0</td><td>68.25</td><td>0.000</td><td>0.000</td><td>90.000</td><td>5.600</td><td>4.450</td><td>62.462</td><td>1.000</td><td>-0.000</td><td>0.000</td><td>827.51</td></tr>\n",
       "<tr><td>8</td><td>-220.0</td><td>797.0</td><td>10.25</td><td>0.000</td><td>0.000</td><td>90.000</td><td>5.600</td><td>4.450</td><td>62.462</td><td>1.000</td><td>-0.000</td><td>0.000</td><td>826.84</td></tr>\n",
       "<tr><td>9</td><td>0.0</td><td>-499.0</td><td>39.75</td><td>0.000</td><td>0.000</td><td>90.000</td><td>5.600</td><td>4.450</td><td>62.462</td><td>1.000</td><td>-0.000</td><td>0.000</td><td>499.10</td></tr>\n",
       "<tr><td>...</td><td>...</td><td>...</td><td>...</td><td>...</td><td>...</td><td>...</td><td>...</td><td>...</td><td>...</td><td>...</td><td>...</td><td>...</td><td>...</td></tr>\n",
       "<tr><td>38</td><td>748.0</td><td>367.0</td><td>6.25</td><td>0.000</td><td>0.000</td><td>90.000</td><td>5.600</td><td>4.450</td><td>62.462</td><td>1.000</td><td>-0.000</td><td>0.000</td><td>834.17</td></tr>\n",
       "<tr><td>39</td><td>816.0</td><td>-648.0</td><td>41.25</td><td>0.000</td><td>0.000</td><td>90.000</td><td>5.600</td><td>4.450</td><td>62.462</td><td>1.000</td><td>-0.000</td><td>0.000</td><td>1042.64</td></tr>\n",
       "<tr><td>40</td><td>816.0</td><td>648.0</td><td>18.75</td><td>0.000</td><td>0.000</td><td>90.000</td><td>5.600</td><td>4.450</td><td>62.462</td><td>1.000</td><td>-0.000</td><td>0.000</td><td>1042.63</td></tr>\n",
       "<tr><td>41</td><td>0.0</td><td>-950.0</td><td>75.25</td><td>0.000</td><td>0.000</td><td>90.000</td><td>5.600</td><td>4.450</td><td>62.462</td><td>1.000</td><td>-0.000</td><td>0.000</td><td>951.09</td></tr>\n",
       "<tr><td>42</td><td>0.0</td><td>950.0</td><td>28.25</td><td>0.000</td><td>0.000</td><td>90.000</td><td>5.600</td><td>4.450</td><td>62.462</td><td>1.000</td><td>-0.000</td><td>0.000</td><td>950.00</td></tr>\n",
       "<tr><td>43</td><td>-955.0</td><td>-199.0</td><td>39.25</td><td>0.000</td><td>0.000</td><td>90.000</td><td>5.600</td><td>4.450</td><td>62.462</td><td>1.000</td><td>-0.000</td><td>0.000</td><td>974.84</td></tr>\n",
       "<tr><td>44</td><td>-955.0</td><td>199.0</td><td>22.75</td><td>0.000</td><td>0.000</td><td>90.000</td><td>5.600</td><td>4.450</td><td>62.462</td><td>1.000</td><td>-0.000</td><td>0.000</td><td>974.81</td></tr>\n",
       "<tr><td>45</td><td>955.0</td><td>-199.0</td><td>7.75</td><td>0.000</td><td>0.000</td><td>90.000</td><td>5.600</td><td>4.450</td><td>62.462</td><td>1.000</td><td>-0.000</td><td>0.000</td><td>976.48</td></tr>\n",
       "<tr><td>46</td><td>955.0</td><td>199.0</td><td>5.25</td><td>0.000</td><td>0.000</td><td>90.000</td><td>5.600</td><td>4.450</td><td>62.462</td><td>1.000</td><td>-0.000</td><td>0.000</td><td>976.54</td></tr>\n",
       "</table></div>"
      ],
      "text/plain": [
       "<Table length=46>\n",
       "  id     x       y       z       az   ...   p_x     p_y     p_z    d_tel \n",
       "         m       m       m      deg   ...                            m   \n",
       "int64 float64 float64 float64 float64 ... float64 float64 float64 float64\n",
       "----- ------- ------- ------- ------- ... ------- ------- ------- -------\n",
       "    1   199.0     0.0   16.25   0.000 ...   1.000  -0.000   0.000  200.19\n",
       "    2  -230.0     0.0   22.75   0.000 ...   1.000  -0.000   0.000  229.36\n",
       "    3  -249.0  -325.0   40.75   0.000 ...   1.000  -0.000   0.000  409.12\n",
       "    4  -249.0   325.0   17.25   0.000 ...   1.000  -0.000   0.000  409.16\n",
       "    5  -249.0  -577.0   54.25   0.000 ...   1.000  -0.000   0.000  628.62\n",
       "    6  -249.0   577.0    8.25   0.000 ...   1.000  -0.000   0.000  628.51\n",
       "    7  -220.0  -797.0   68.25   0.000 ...   1.000  -0.000   0.000  827.51\n",
       "    8  -220.0   797.0   10.25   0.000 ...   1.000  -0.000   0.000  826.84\n",
       "    9     0.0  -499.0   39.75   0.000 ...   1.000  -0.000   0.000  499.10\n",
       "  ...     ...     ...     ...     ... ...     ...     ...     ...     ...\n",
       "   38   748.0   367.0    6.25   0.000 ...   1.000  -0.000   0.000  834.17\n",
       "   39   816.0  -648.0   41.25   0.000 ...   1.000  -0.000   0.000 1042.64\n",
       "   40   816.0   648.0   18.75   0.000 ...   1.000  -0.000   0.000 1042.63\n",
       "   41     0.0  -950.0   75.25   0.000 ...   1.000  -0.000   0.000  951.09\n",
       "   42     0.0   950.0   28.25   0.000 ...   1.000  -0.000   0.000  950.00\n",
       "   43  -955.0  -199.0   39.25   0.000 ...   1.000  -0.000   0.000  974.84\n",
       "   44  -955.0   199.0   22.75   0.000 ...   1.000  -0.000   0.000  974.81\n",
       "   45   955.0  -199.0    7.75   0.000 ...   1.000  -0.000   0.000  976.48\n",
       "   46   955.0   199.0    5.25   0.000 ...   1.000  -0.000   0.000  976.54"
      ]
     },
     "execution_count": 22,
     "metadata": {},
     "output_type": "execute_result"
    }
   ],
   "source": [
    "array.table.units = \"deg\"\n",
    "array.table\n"
   ]
  },
  {
   "cell_type": "code",
   "execution_count": 23,
   "metadata": {},
   "outputs": [],
   "source": [
    "table=array.table"
   ]
  },
  {
   "cell_type": "markdown",
   "metadata": {},
   "source": [
    "## Check the telescope spatial distribution\n",
    "This is useful to pick the groups"
   ]
  },
  {
   "cell_type": "code",
   "execution_count": 24,
   "metadata": {},
   "outputs": [
    {
     "data": {
      "text/html": [
       "<div><i>Table length=46</i>\n",
       "<table id=\"table5027978784\" class=\"table-striped table-bordered table-condensed\">\n",
       "<thead><tr><th>id</th><th>x</th><th>y</th><th>z</th><th>az</th><th>alt</th><th>zn</th><th>focal</th><th>radius</th><th>fov</th><th>p_x</th><th>p_y</th><th>p_z</th><th>d_tel</th></tr></thead>\n",
       "<thead><tr><th></th><th>m</th><th>m</th><th>m</th><th>deg</th><th>deg</th><th>deg</th><th>m</th><th>deg</th><th>deg2</th><th></th><th></th><th></th><th>m</th></tr></thead>\n",
       "<thead><tr><th>int64</th><th>float64</th><th>float64</th><th>float64</th><th>float64</th><th>float64</th><th>float64</th><th>float64</th><th>float64</th><th>float64</th><th>float64</th><th>float64</th><th>float64</th><th>float64</th></tr></thead>\n",
       "<tr><td>1</td><td>199.0</td><td>0.0</td><td>16.25</td><td>0.000</td><td>0.000</td><td>90.000</td><td>5.600</td><td>4.450</td><td>62.462</td><td>1.000</td><td>-0.000</td><td>0.000</td><td>200.19</td></tr>\n",
       "<tr><td>2</td><td>-230.0</td><td>0.0</td><td>22.75</td><td>0.000</td><td>0.000</td><td>90.000</td><td>5.600</td><td>4.450</td><td>62.462</td><td>1.000</td><td>-0.000</td><td>0.000</td><td>229.36</td></tr>\n",
       "<tr><td>3</td><td>-249.0</td><td>-325.0</td><td>40.75</td><td>0.000</td><td>0.000</td><td>90.000</td><td>5.600</td><td>4.450</td><td>62.462</td><td>1.000</td><td>-0.000</td><td>0.000</td><td>409.12</td></tr>\n",
       "<tr><td>4</td><td>-249.0</td><td>325.0</td><td>17.25</td><td>0.000</td><td>0.000</td><td>90.000</td><td>5.600</td><td>4.450</td><td>62.462</td><td>1.000</td><td>-0.000</td><td>0.000</td><td>409.16</td></tr>\n",
       "<tr><td>5</td><td>-249.0</td><td>-577.0</td><td>54.25</td><td>0.000</td><td>0.000</td><td>90.000</td><td>5.600</td><td>4.450</td><td>62.462</td><td>1.000</td><td>-0.000</td><td>0.000</td><td>628.62</td></tr>\n",
       "<tr><td>6</td><td>-249.0</td><td>577.0</td><td>8.25</td><td>0.000</td><td>0.000</td><td>90.000</td><td>5.600</td><td>4.450</td><td>62.462</td><td>1.000</td><td>-0.000</td><td>0.000</td><td>628.51</td></tr>\n",
       "<tr><td>7</td><td>-220.0</td><td>-797.0</td><td>68.25</td><td>0.000</td><td>0.000</td><td>90.000</td><td>5.600</td><td>4.450</td><td>62.462</td><td>1.000</td><td>-0.000</td><td>0.000</td><td>827.51</td></tr>\n",
       "<tr><td>8</td><td>-220.0</td><td>797.0</td><td>10.25</td><td>0.000</td><td>0.000</td><td>90.000</td><td>5.600</td><td>4.450</td><td>62.462</td><td>1.000</td><td>-0.000</td><td>0.000</td><td>826.84</td></tr>\n",
       "<tr><td>9</td><td>0.0</td><td>-499.0</td><td>39.75</td><td>0.000</td><td>0.000</td><td>90.000</td><td>5.600</td><td>4.450</td><td>62.462</td><td>1.000</td><td>-0.000</td><td>0.000</td><td>499.10</td></tr>\n",
       "<tr><td>...</td><td>...</td><td>...</td><td>...</td><td>...</td><td>...</td><td>...</td><td>...</td><td>...</td><td>...</td><td>...</td><td>...</td><td>...</td><td>...</td></tr>\n",
       "<tr><td>38</td><td>748.0</td><td>367.0</td><td>6.25</td><td>0.000</td><td>0.000</td><td>90.000</td><td>5.600</td><td>4.450</td><td>62.462</td><td>1.000</td><td>-0.000</td><td>0.000</td><td>834.17</td></tr>\n",
       "<tr><td>39</td><td>816.0</td><td>-648.0</td><td>41.25</td><td>0.000</td><td>0.000</td><td>90.000</td><td>5.600</td><td>4.450</td><td>62.462</td><td>1.000</td><td>-0.000</td><td>0.000</td><td>1042.64</td></tr>\n",
       "<tr><td>40</td><td>816.0</td><td>648.0</td><td>18.75</td><td>0.000</td><td>0.000</td><td>90.000</td><td>5.600</td><td>4.450</td><td>62.462</td><td>1.000</td><td>-0.000</td><td>0.000</td><td>1042.63</td></tr>\n",
       "<tr><td>41</td><td>0.0</td><td>-950.0</td><td>75.25</td><td>0.000</td><td>0.000</td><td>90.000</td><td>5.600</td><td>4.450</td><td>62.462</td><td>1.000</td><td>-0.000</td><td>0.000</td><td>951.09</td></tr>\n",
       "<tr><td>42</td><td>0.0</td><td>950.0</td><td>28.25</td><td>0.000</td><td>0.000</td><td>90.000</td><td>5.600</td><td>4.450</td><td>62.462</td><td>1.000</td><td>-0.000</td><td>0.000</td><td>950.00</td></tr>\n",
       "<tr><td>43</td><td>-955.0</td><td>-199.0</td><td>39.25</td><td>0.000</td><td>0.000</td><td>90.000</td><td>5.600</td><td>4.450</td><td>62.462</td><td>1.000</td><td>-0.000</td><td>0.000</td><td>974.84</td></tr>\n",
       "<tr><td>44</td><td>-955.0</td><td>199.0</td><td>22.75</td><td>0.000</td><td>0.000</td><td>90.000</td><td>5.600</td><td>4.450</td><td>62.462</td><td>1.000</td><td>-0.000</td><td>0.000</td><td>974.81</td></tr>\n",
       "<tr><td>45</td><td>955.0</td><td>-199.0</td><td>7.75</td><td>0.000</td><td>0.000</td><td>90.000</td><td>5.600</td><td>4.450</td><td>62.462</td><td>1.000</td><td>-0.000</td><td>0.000</td><td>976.48</td></tr>\n",
       "<tr><td>46</td><td>955.0</td><td>199.0</td><td>5.25</td><td>0.000</td><td>0.000</td><td>90.000</td><td>5.600</td><td>4.450</td><td>62.462</td><td>1.000</td><td>-0.000</td><td>0.000</td><td>976.54</td></tr>\n",
       "</table></div>"
      ],
      "text/plain": [
       "<Table length=46>\n",
       "  id     x       y       z       az   ...   p_x     p_y     p_z    d_tel \n",
       "         m       m       m      deg   ...                            m   \n",
       "int64 float64 float64 float64 float64 ... float64 float64 float64 float64\n",
       "----- ------- ------- ------- ------- ... ------- ------- ------- -------\n",
       "    1   199.0     0.0   16.25   0.000 ...   1.000  -0.000   0.000  200.19\n",
       "    2  -230.0     0.0   22.75   0.000 ...   1.000  -0.000   0.000  229.36\n",
       "    3  -249.0  -325.0   40.75   0.000 ...   1.000  -0.000   0.000  409.12\n",
       "    4  -249.0   325.0   17.25   0.000 ...   1.000  -0.000   0.000  409.16\n",
       "    5  -249.0  -577.0   54.25   0.000 ...   1.000  -0.000   0.000  628.62\n",
       "    6  -249.0   577.0    8.25   0.000 ...   1.000  -0.000   0.000  628.51\n",
       "    7  -220.0  -797.0   68.25   0.000 ...   1.000  -0.000   0.000  827.51\n",
       "    8  -220.0   797.0   10.25   0.000 ...   1.000  -0.000   0.000  826.84\n",
       "    9     0.0  -499.0   39.75   0.000 ...   1.000  -0.000   0.000  499.10\n",
       "  ...     ...     ...     ...     ... ...     ...     ...     ...     ...\n",
       "   38   748.0   367.0    6.25   0.000 ...   1.000  -0.000   0.000  834.17\n",
       "   39   816.0  -648.0   41.25   0.000 ...   1.000  -0.000   0.000 1042.64\n",
       "   40   816.0   648.0   18.75   0.000 ...   1.000  -0.000   0.000 1042.63\n",
       "   41     0.0  -950.0   75.25   0.000 ...   1.000  -0.000   0.000  951.09\n",
       "   42     0.0   950.0   28.25   0.000 ...   1.000  -0.000   0.000  950.00\n",
       "   43  -955.0  -199.0   39.25   0.000 ...   1.000  -0.000   0.000  974.84\n",
       "   44  -955.0   199.0   22.75   0.000 ...   1.000  -0.000   0.000  974.81\n",
       "   45   955.0  -199.0    7.75   0.000 ...   1.000  -0.000   0.000  976.48\n",
       "   46   955.0   199.0    5.25   0.000 ...   1.000  -0.000   0.000  976.54"
      ]
     },
     "execution_count": 24,
     "metadata": {},
     "output_type": "execute_result"
    }
   ],
   "source": [
    "array.table"
   ]
  },
  {
   "cell_type": "code",
   "execution_count": 25,
   "metadata": {},
   "outputs": [
    {
     "data": {
      "image/png": "[encoded data removed]",
      "text/plain": [
       "<Figure size 800x600 with 1 Axes>"
      ]
     },
     "metadata": {},
     "output_type": "display_data"
    }
   ],
   "source": [
    "# Loop through all the telescopes\n",
    "#for fov in array.table[\"fov\"]:\n",
    "#    print(fov)\n",
    "colors = [\n",
    "    'lightseagreen' if np.isclose(fov, 14.5356) else\n",
    "    'blueviolet' if np.isclose(fov, 46.707) else \n",
    "    'green' if np.isclose(fov, 62.462) else\n",
    "    'red'  # Default color if none of the conditions match\n",
    "    for fov in array.table[\"fov\"]\n",
    "]\n",
    "fov_labels = {\n",
    "    'lightseagreen': 'LST',\n",
    "    'blueviolet': 'MST',\n",
    "    'green': 'SST'\n",
    "}\n",
    "for i in range(len(array.table)):\n",
    "    plt.scatter(array.table['x'][i], array.table['y'][i], c=colors[i], label=fov_labels[colors[i]])\n",
    "\n",
    "    # Annotate each point with the telescope ID\n",
    "    #matplotlib.pyplot.annotate(text, xy, xytext=None, xycoords='data', textcoords=None, arrowprops=None, annotation_clip=None, **kwargs)\n",
    "#Annotate the point xy with text text.\n",
    "#In the simplest form, the text is placed at xy.\n",
    "    plt.annotate(str(array.table[\"id\"][i]),\n",
    "                 (array.table['x'][i], array.table['y'][i]),  # Point position\n",
    "                 textcoords=\"offset points\",  # Text position relative to the point\n",
    "                 xytext=(5, 5),  # Offset in pixels (to avoid overlapping the point)\n",
    "                 ha='center', fontsize=10, color='blue')\n",
    "handles, labels = plt.gca().get_legend_handles_labels()\n",
    "#handles, labels like this is doing\n",
    "    #plt.gca() gets the current Axes object, which is where your plot is\n",
    "    #.get_legend_handles_labels()\n",
    "        #handles: Returns a list of the graphical elements (e.g., lines, scatter plot points) that would appear in the legend.\n",
    "        # labels: Returns the text labels associated with each graphical element in handles\n",
    "\n",
    "by_label = dict(zip(labels, handles))  # Remove duplicate labels, the dictionary by the structure takes out the double \n",
    "plt.legend(by_label.values(), by_label.keys())\n",
    "#by_label.values This is pulling out the unique graphical elements\n",
    "# by_label.keys  This is retrieving the unique text \n",
    "plt.savefig(\"./different_telescopes.png\", dpi=300, bbox_inches=\"tight\")\n",
    "plt.show() "
   ]
  },
  {
   "cell_type": "markdown",
   "metadata": {},
   "source": [
    "## Check the hyper field of view (hFoV)"
   ]
  },
  {
   "cell_type": "markdown",
   "metadata": {},
   "source": [
    "This is the whole telescope array hFoV maybe? (ask)"
   ]
  },
  {
   "cell_type": "code",
   "execution_count": 26,
   "metadata": {},
   "outputs": [
    {
     "name": "stderr",
     "output_type": "stream",
     "text": [
      "46it [00:06,  7.20it/s]\n"
     ]
    },
    {
     "data": {
      "text/plain": [
       "(62.238869377690584, 46.0)"
      ]
     },
     "execution_count": 26,
     "metadata": {},
     "output_type": "execute_result"
    }
   ],
   "source": [
    "array.hFoV(m_cut=3) "
   ]
  },
  {
   "cell_type": "code",
   "execution_count": 27,
   "metadata": {},
   "outputs": [],
   "source": [
    "#array.hFoV(m_cut=3)"
   ]
  },
  {
   "cell_type": "markdown",
   "metadata": {},
   "source": [
    "## Grouping telescopes"
   ]
  },
  {
   "cell_type": "code",
   "execution_count": 28,
   "metadata": {},
   "outputs": [],
   "source": [
    "\n",
    "\n",
    "sub_group_div = {'1':[24,12,30,42,8,18], \n",
    "             '2':[44,32,34],\n",
    "              '3':[43,33,35],\n",
    "              '4':[23,41,29,11,7,17],\n",
    "              '5':[37,39,45],\n",
    "              '6':[38,40,46],\n",
    "              '7':[1,2,9,10],\n",
    "              '8':[16,26,28],\n",
    "              '9':[15,25,27],\n",
    "              '10':[13,14,36],\n",
    "              '11':[5,19,21],\n",
    "              '12':[6,20,22],\n",
    "              '13':[3,4,31]\n",
    "            \n",
    "    \n",
    "}\n"
   ]
  },
  {
   "cell_type": "code",
   "execution_count": 29,
   "metadata": {},
   "outputs": [],
   "source": [
    "def compute_center_of_gravity(group):\n",
    "    x, y, z = group['x'], group['y'], group['z']\n",
    "    cog_x = round(np.mean(x),2)\n",
    "    cog_y = round(np.mean(y),2)\n",
    "    cog_z = round(np.mean(z),2)\n",
    "    return cog_x, cog_y, cog_z\n",
    "\n",
    "# Function to create new telescope list with center of gravity\n",
    "def create_new_group_list(tel_group):\n",
    "    new_telescopes = []\n",
    "    for group in tel_group.groups:\n",
    "        print(tel_group.groups)\n",
    "        print (group['focal'][0],round(group['radius'][0],2))\n",
    "        #id_ = group[\"id\"][0]\n",
    "        cog = compute_center_of_gravity(group)\n",
    "        focal, fov = group['focal'][0], round(group['radius'][0],2)  # Assuming same within a group\n",
    "        new_telescopes.append([*cog, focal, fov])\n",
    "    return new_telescopes\n"
   ]
  },
  {
   "cell_type": "code",
   "execution_count": 30,
   "metadata": {},
   "outputs": [],
   "source": [
    "tel_group, labels, number_of_telescopes_subarray_1 =array.group_by(sub_group_div)"
   ]
  },
  {
   "cell_type": "code",
   "execution_count": 31,
   "metadata": {},
   "outputs": [
    {
     "name": "stdout",
     "output_type": "stream",
     "text": [
      "<TableGroups indices=[ 0  6  9 12 18 21 24 28 31 34 37 40 43 46]>\n",
      "5.6 4.45\n",
      "<TableGroups indices=[ 0  6  9 12 18 21 24 28 31 34 37 40 43 46]>\n",
      "5.6 4.45\n",
      "<TableGroups indices=[ 0  6  9 12 18 21 24 28 31 34 37 40 43 46]>\n",
      "5.6 4.45\n",
      "<TableGroups indices=[ 0  6  9 12 18 21 24 28 31 34 37 40 43 46]>\n",
      "5.6 4.45\n",
      "<TableGroups indices=[ 0  6  9 12 18 21 24 28 31 34 37 40 43 46]>\n",
      "5.6 4.45\n",
      "<TableGroups indices=[ 0  6  9 12 18 21 24 28 31 34 37 40 43 46]>\n",
      "5.6 4.45\n",
      "<TableGroups indices=[ 0  6  9 12 18 21 24 28 31 34 37 40 43 46]>\n",
      "5.6 4.45\n",
      "<TableGroups indices=[ 0  6  9 12 18 21 24 28 31 34 37 40 43 46]>\n",
      "5.6 4.45\n",
      "<TableGroups indices=[ 0  6  9 12 18 21 24 28 31 34 37 40 43 46]>\n",
      "5.6 4.45\n",
      "<TableGroups indices=[ 0  6  9 12 18 21 24 28 31 34 37 40 43 46]>\n",
      "5.6 4.45\n",
      "<TableGroups indices=[ 0  6  9 12 18 21 24 28 31 34 37 40 43 46]>\n",
      "5.6 4.45\n",
      "<TableGroups indices=[ 0  6  9 12 18 21 24 28 31 34 37 40 43 46]>\n",
      "5.6 4.45\n",
      "<TableGroups indices=[ 0  6  9 12 18 21 24 28 31 34 37 40 43 46]>\n",
      "5.6 4.45\n"
     ]
    }
   ],
   "source": [
    "# Step 2: Create new telescope list with center of gravity\n",
    "new_telescopes = create_new_group_list(tel_group)\n",
    "\n"
   ]
  },
  {
   "cell_type": "code",
   "execution_count": 32,
   "metadata": {},
   "outputs": [
    {
     "name": "stdout",
     "output_type": "stream",
     "text": [
      "New telescope data has been written to ./SST_best_config_div_conv_together.txt\n"
     ]
    }
   ],
   "source": [
    "# Define the file path where you want to save the output\n",
    "output_file_path = './SST_best_config_div_conv_together.txt'\n",
    "\n",
    "# Open the file in write mode\n",
    "with open(output_file_path, 'w') as file:\n",
    "    \n",
    "    # Write a header\n",
    "    #file.write(\"Group ID, X_Center, Y_Center, Z_Center, Focal Length, FOV\\n\")\n",
    "    \n",
    "    # Loop through all new telescopes (grouped telescopes)\n",
    "    for i, telescope in enumerate(new_telescopes):\n",
    "        # Assuming telescope is a list like [x_center, y_center, z_center, focal_length, fov]\n",
    "        values = ' '.join(map(str, telescope))  # Convert all elements to string\n",
    "        # Write the data to the file\n",
    "        #print(values)\n",
    "        file.write(f\"{values}\\n\")\n",
    "\n",
    "print(f\"New telescope data has been written to {output_file_path}\")\n"
   ]
  },
  {
   "cell_type": "raw",
   "metadata": {},
   "source": [
    "range(len(array.telescopes))"
   ]
  },
  {
   "cell_type": "markdown",
   "metadata": {},
   "source": [
    "## MULTIPLE DIVERGENCES"
   ]
  },
  {
   "cell_type": "markdown",
   "metadata": {},
   "source": [
    "SST configuration with two subarrays"
   ]
  },
  {
   "cell_type": "code",
   "execution_count": 33,
   "metadata": {},
   "outputs": [],
   "source": [
    "array_SST_2_diff_div= LoadConfig('./SST_best_config_div_conv_together.txt', frame=cta, pointing2src=True)"
   ]
  },
  {
   "cell_type": "code",
   "execution_count": 34,
   "metadata": {},
   "outputs": [
    {
     "data": {
      "text/html": [
       "<div><i>Table length=13</i>\n",
       "<table id=\"table5027620160\" class=\"table-striped table-bordered table-condensed\">\n",
       "<thead><tr><th>id</th><th>x</th><th>y</th><th>z</th><th>az</th><th>alt</th><th>zn</th><th>focal</th><th>radius</th><th>fov</th><th>p_x</th><th>p_y</th><th>p_z</th><th>d_tel</th></tr></thead>\n",
       "<thead><tr><th></th><th>m</th><th>m</th><th>m</th><th>deg</th><th>deg</th><th>deg</th><th>m</th><th>deg</th><th>deg2</th><th></th><th></th><th></th><th>m</th></tr></thead>\n",
       "<thead><tr><th>int64</th><th>float64</th><th>float64</th><th>float64</th><th>float64</th><th>float64</th><th>float64</th><th>float64</th><th>float64</th><th>float64</th><th>float64</th><th>float64</th><th>float64</th><th>float64</th></tr></thead>\n",
       "<tr><td>1</td><td>0.0</td><td>816.83</td><td>21.83</td><td>0.000</td><td>0.000</td><td>90.000</td><td>5.600</td><td>4.450</td><td>62.462</td><td>1.000</td><td>-0.000</td><td>0.000</td><td>816.85</td></tr>\n",
       "<tr><td>2</td><td>-840.0</td><td>404.67</td><td>16.75</td><td>0.000</td><td>0.000</td><td>90.000</td><td>5.600</td><td>4.450</td><td>62.462</td><td>1.000</td><td>-0.000</td><td>0.000</td><td>931.85</td></tr>\n",
       "<tr><td>3</td><td>-840.0</td><td>-404.67</td><td>55.92</td><td>0.000</td><td>0.000</td><td>90.000</td><td>5.600</td><td>4.450</td><td>62.462</td><td>1.000</td><td>-0.000</td><td>0.000</td><td>932.21</td></tr>\n",
       "<tr><td>4</td><td>0.0</td><td>-816.83</td><td>65.42</td><td>0.000</td><td>0.000</td><td>90.000</td><td>5.600</td><td>4.450</td><td>62.462</td><td>1.000</td><td>-0.000</td><td>0.000</td><td>817.70</td></tr>\n",
       "<tr><td>5</td><td>839.67</td><td>-404.67</td><td>17.75</td><td>0.000</td><td>0.000</td><td>90.000</td><td>5.600</td><td>4.450</td><td>62.462</td><td>1.000</td><td>-0.000</td><td>0.000</td><td>932.76</td></tr>\n",
       "<tr><td>6</td><td>839.67</td><td>404.67</td><td>10.08</td><td>0.000</td><td>0.000</td><td>90.000</td><td>5.600</td><td>4.450</td><td>62.462</td><td>1.000</td><td>-0.000</td><td>0.000</td><td>932.87</td></tr>\n",
       "<tr><td>7</td><td>-7.75</td><td>0.0</td><td>22.5</td><td>0.000</td><td>0.000</td><td>90.000</td><td>5.600</td><td>4.450</td><td>62.462</td><td>1.000</td><td>-0.000</td><td>0.000</td><td>8.77</td></tr>\n",
       "<tr><td>8</td><td>415.67</td><td>402.0</td><td>12.42</td><td>0.000</td><td>0.000</td><td>90.000</td><td>5.600</td><td>4.450</td><td>62.462</td><td>1.000</td><td>-0.000</td><td>0.000</td><td>578.95</td></tr>\n",
       "<tr><td>9</td><td>415.67</td><td>-402.0</td><td>27.92</td><td>0.000</td><td>0.000</td><td>90.000</td><td>5.600</td><td>4.450</td><td>62.462</td><td>1.000</td><td>-0.000</td><td>0.000</td><td>578.74</td></tr>\n",
       "<tr><td>10</td><td>429.33</td><td>0.0</td><td>16.08</td><td>0.000</td><td>0.000</td><td>90.000</td><td>5.600</td><td>4.450</td><td>62.462</td><td>1.000</td><td>-0.000</td><td>0.000</td><td>430.16</td></tr>\n",
       "<tr><td>11</td><td>-415.67</td><td>-402.0</td><td>48.25</td><td>0.000</td><td>0.000</td><td>90.000</td><td>5.600</td><td>4.450</td><td>62.462</td><td>1.000</td><td>-0.000</td><td>0.000</td><td>578.14</td></tr>\n",
       "<tr><td>12</td><td>-415.67</td><td>402.0</td><td>15.58</td><td>0.000</td><td>0.000</td><td>90.000</td><td>5.600</td><td>4.450</td><td>62.462</td><td>1.000</td><td>-0.000</td><td>0.000</td><td>577.90</td></tr>\n",
       "<tr><td>13</td><td>-429.67</td><td>0.0</td><td>29.42</td><td>0.000</td><td>0.000</td><td>90.000</td><td>5.600</td><td>4.450</td><td>62.462</td><td>1.000</td><td>-0.000</td><td>0.000</td><td>429.00</td></tr>\n",
       "</table></div>"
      ],
      "text/plain": [
       "<Table length=13>\n",
       "  id     x       y       z       az   ...   p_x     p_y     p_z    d_tel \n",
       "         m       m       m      deg   ...                            m   \n",
       "int64 float64 float64 float64 float64 ... float64 float64 float64 float64\n",
       "----- ------- ------- ------- ------- ... ------- ------- ------- -------\n",
       "    1     0.0  816.83   21.83   0.000 ...   1.000  -0.000   0.000  816.85\n",
       "    2  -840.0  404.67   16.75   0.000 ...   1.000  -0.000   0.000  931.85\n",
       "    3  -840.0 -404.67   55.92   0.000 ...   1.000  -0.000   0.000  932.21\n",
       "    4     0.0 -816.83   65.42   0.000 ...   1.000  -0.000   0.000  817.70\n",
       "    5  839.67 -404.67   17.75   0.000 ...   1.000  -0.000   0.000  932.76\n",
       "    6  839.67  404.67   10.08   0.000 ...   1.000  -0.000   0.000  932.87\n",
       "    7   -7.75     0.0    22.5   0.000 ...   1.000  -0.000   0.000    8.77\n",
       "    8  415.67   402.0   12.42   0.000 ...   1.000  -0.000   0.000  578.95\n",
       "    9  415.67  -402.0   27.92   0.000 ...   1.000  -0.000   0.000  578.74\n",
       "   10  429.33     0.0   16.08   0.000 ...   1.000  -0.000   0.000  430.16\n",
       "   11 -415.67  -402.0   48.25   0.000 ...   1.000  -0.000   0.000  578.14\n",
       "   12 -415.67   402.0   15.58   0.000 ...   1.000  -0.000   0.000  577.90\n",
       "   13 -429.67     0.0   29.42   0.000 ...   1.000  -0.000   0.000  429.00"
      ]
     },
     "execution_count": 34,
     "metadata": {},
     "output_type": "execute_result"
    }
   ],
   "source": [
    "array_SST_2_diff_div.table.units = \"deg\"\n",
    "array_SST_2_diff_div.table\n"
   ]
  },
  {
   "cell_type": "markdown",
   "metadata": {},
   "source": [
    "## Here I am trying to find the multiplicity for each subarray division "
   ]
  },
  {
   "cell_type": "raw",
   "metadata": {},
   "source": [
    "So we already have the multiplicity of the whole array in an array, I did it previously, the only thing now is to try to organize them "
   ]
  },
  {
   "cell_type": "code",
   "execution_count": 49,
   "metadata": {},
   "outputs": [
    {
     "data": {
      "text/plain": [
       "[6, 3, 3, 6, 3, 3, 4, 3, 3, 3, 3, 3, 3]"
      ]
     },
     "execution_count": 49,
     "metadata": {},
     "output_type": "execute_result"
    }
   ],
   "source": [
    " number_of_telescopes_subarray_1"
   ]
  },
  {
   "cell_type": "code",
   "execution_count": 64,
   "metadata": {},
   "outputs": [
    {
     "name": "stdout",
     "output_type": "stream",
     "text": [
      "[[0.0, 816.83, 21.83, 5.6, 4.450000000000001, 62.46242685852285], [-840.0, 404.67, 16.75, 5.6, 4.450000000000001, 62.46242685852285], [-840.0, -404.67, 55.92, 5.6, 4.450000000000001, 62.46242685852285], [0.0, -816.83, 65.42, 5.6, 4.450000000000001, 62.46242685852285], [839.67, -404.67, 17.75, 5.6, 4.450000000000001, 62.46242685852285], [839.67, 404.67, 10.08, 5.6, 4.450000000000001, 62.46242685852285]]\n",
      "[6, 3, 3, 6, 3, 3]\n"
     ]
    }
   ],
   "source": [
    "table_SST_conv = []\n",
    "table_SST= array_SST_2_diff_div.table\n",
    "number_of_telescopes_config_SST_conv=[]\n",
    "# Append the columns for LST so I know what to get or expect\n",
    "table_SST_conv.append(table_SST['x'])\n",
    "table_SST_conv.append(table_SST['y'])\n",
    "table_SST_conv.append(table_SST['z'])\n",
    "table_SST_conv.append(table_SST['focal'])\n",
    "table_SST_conv.append(table_SST['radius'])\n",
    "table_SST_conv.append(table_SST['fov'])\n",
    "\n",
    "# Initialize sub_config and other variables\n",
    "sub_config = []\n",
    "telescopes = [1, 2,3,4,5,6]  # Telescope indices\n",
    "# Loop through the telescopes so I can write them in a file\n",
    "for tel in telescopes:\n",
    "    # Putting it tel-1 because the first column we had the index\n",
    "    sub_config.append([col[tel - 1] for col in table_SST_conv])\n",
    "    number_of_telescopes_config_SST_conv.append(number_of_telescopes_subarray_1[tel-1])\n",
    "\n",
    "\n",
    "# Print the result for verification\n",
    "print(sub_config)\n",
    "print(number_of_telescopes_config_SST_conv)"
   ]
  },
  {
   "cell_type": "code",
   "execution_count": 65,
   "metadata": {},
   "outputs": [
    {
     "name": "stdout",
     "output_type": "stream",
     "text": [
      "[[-7.75, 0.0, 22.5, 5.6, 4.450000000000001, 62.46242685852285], [415.67, 402.0, 12.42, 5.6, 4.450000000000001, 62.46242685852285], [415.67, -402.0, 27.92, 5.6, 4.450000000000001, 62.46242685852285], [429.33, 0.0, 16.08, 5.6, 4.450000000000001, 62.46242685852285], [-415.67, -402.0, 48.25, 5.6, 4.450000000000001, 62.46242685852285], [-415.67, 402.0, 15.58, 5.6, 4.450000000000001, 62.46242685852285], [-429.67, 0.0, 29.42, 5.6, 4.450000000000001, 62.46242685852285]]\n",
      "[4, 3, 3, 3, 3, 3, 3]\n"
     ]
    }
   ],
   "source": [
    "table_SST_div = []\n",
    "table_SST= array_SST_2_diff_div.table\n",
    "number_of_telescopes_config_SST_div=[]\n",
    "# Append the columns for LST so I know what to get or expect\n",
    "table_SST_div.append(table_SST['x'])\n",
    "table_SST_div.append(table_SST['y'])\n",
    "table_SST_div.append(table_SST['z'])\n",
    "table_SST_div.append(table_SST['focal'])\n",
    "table_SST_div.append(table_SST['radius'])\n",
    "table_SST_div.append(table_SST['fov'])\n",
    "\n",
    "# Initialize sub_config and other variables\n",
    "sub_config_div= []\n",
    "telescopes = [7,8,9,10,11,12,13]  # Telescope indices\n",
    "# Loop through the telescopes so I can write them in a file\n",
    "for tel in telescopes:\n",
    "    # Adjust for 1-based indexing in telescopes to 0-based indexing in Python\n",
    "    sub_config_div.append([col[tel - 1] for col in table_SST_div])\n",
    "    number_of_telescopes_config_SST_div.append( number_of_telescopes_subarray_1[tel-1])\n",
    "\n",
    "\n",
    "# Print the result for verification\n",
    "print(sub_config_div)\n",
    "print(number_of_telescopes_config_SST_div)"
   ]
  },
  {
   "cell_type": "code",
   "execution_count": 66,
   "metadata": {},
   "outputs": [
    {
     "name": "stdout",
     "output_type": "stream",
     "text": [
      "[[0.0, 816.83, 21.83, 5.6, 4.450000000000001, 62.46242685852285], [-840.0, 404.67, 16.75, 5.6, 4.450000000000001, 62.46242685852285], [-840.0, -404.67, 55.92, 5.6, 4.450000000000001, 62.46242685852285], [0.0, -816.83, 65.42, 5.6, 4.450000000000001, 62.46242685852285], [839.67, -404.67, 17.75, 5.6, 4.450000000000001, 62.46242685852285], [839.67, 404.67, 10.08, 5.6, 4.450000000000001, 62.46242685852285]]\n"
     ]
    }
   ],
   "source": [
    "print(sub_config)"
   ]
  },
  {
   "cell_type": "code",
   "execution_count": 67,
   "metadata": {},
   "outputs": [
    {
     "name": "stdout",
     "output_type": "stream",
     "text": [
      "New telescope data has been written to ./best_config_SST_conv.txt\n"
     ]
    }
   ],
   "source": [
    "# Define the file path where you want to save the output\n",
    "output_file_path_3 = './best_config_SST_conv.txt'\n",
    "\n",
    "# Open the file in write mode\n",
    "with open(output_file_path_3, 'w') as file:\n",
    "    \n",
    "    # Write a header\n",
    "    #file.write(\"Group ID, X_Center, Y_Center, Z_Center, Focal Length, FOV\\n\")\n",
    "    \n",
    "    # Loop through all new telescopes (grouped telescopes)\n",
    "   for telescope in sub_config:\n",
    "        # Assuming each telescope in sub_config is a list like [x_center, y_center, z_center, focal_length, fov]\n",
    "        values = ' '.join(map(str, telescope))  # Convert all elements to string\n",
    "        file.write(f\"{values}\\n\")  # Write each row of telescope data\n",
    "\n",
    "print(f\"New telescope data has been written to {output_file_path_3}\")\n",
    "# Define the file path where you want to save the output\n"
   ]
  },
  {
   "cell_type": "code",
   "execution_count": 68,
   "metadata": {},
   "outputs": [
    {
     "name": "stdout",
     "output_type": "stream",
     "text": [
      "New telescope data has been written to ./best_config_SST_div.txt\n"
     ]
    }
   ],
   "source": [
    "output_file_path_4 = './best_config_SST_div.txt'\n",
    "\n",
    "# Open the file in write mode\n",
    "with open(output_file_path_4, 'w') as file:\n",
    "    \n",
    "    # Write a header\n",
    "    #file.write(\"Group ID, X_Center, Y_Center, Z_Center, Focal Length, FOV\\n\")\n",
    "    \n",
    "    # Loop through all new telescopes (grouped telescopes)\n",
    "   for telescope in sub_config_div:\n",
    "        # Assuming each telescope in sub_config is a list like [x_center, y_center, z_center, focal_length, fov]\n",
    "        values = ' '.join(map(str, telescope))  # Convert all elements to string\n",
    "        file.write(f\"{values}\\n\")  # Write each row of telescope data\n",
    "\n",
    "print(f\"New telescope data has been written to {output_file_path_4}\")"
   ]
  },
  {
   "cell_type": "code",
   "execution_count": 69,
   "metadata": {},
   "outputs": [],
   "source": [
    "full_array = LoadConfig(\"/Users/macbook/divtel/Paranal_only_SST.txt\", frame=cta)\n",
    "array_conv = LoadConfig(\"/Users/macbook/divtel/SST/best_config_SST_conv.txt\", frame=cta)\n",
    "array_div = LoadConfig(\"/Users/macbook/divtel/SST/best_config_SST_div.txt\", frame=cta)"
   ]
  },
  {
   "cell_type": "code",
   "execution_count": 70,
   "metadata": {},
   "outputs": [
    {
     "data": {
      "text/html": [
       "<div><i>Table length=7</i>\n",
       "<table id=\"table5033547616\" class=\"table-striped table-bordered table-condensed\">\n",
       "<thead><tr><th>id</th><th>x</th><th>y</th><th>z</th><th>az</th><th>alt</th><th>zn</th><th>focal</th><th>radius</th><th>fov</th><th>p_x</th><th>p_y</th><th>p_z</th><th>d_tel</th></tr></thead>\n",
       "<thead><tr><th></th><th>m</th><th>m</th><th>m</th><th>deg</th><th>deg</th><th>deg</th><th>m</th><th>deg</th><th>deg2</th><th></th><th></th><th></th><th>m</th></tr></thead>\n",
       "<thead><tr><th>int64</th><th>float64</th><th>float64</th><th>float64</th><th>float64</th><th>float64</th><th>float64</th><th>float64</th><th>float64</th><th>float64</th><th>float64</th><th>float64</th><th>float64</th><th>float64</th></tr></thead>\n",
       "<tr><td>1</td><td>-7.75</td><td>0.0</td><td>22.5</td><td>0.000</td><td>0.000</td><td>90.000</td><td>5.600</td><td>4.450</td><td>62.462</td><td>1.000</td><td>-0.000</td><td>0.000</td><td>6.92</td></tr>\n",
       "<tr><td>2</td><td>415.67</td><td>402.0</td><td>12.42</td><td>0.000</td><td>0.000</td><td>90.000</td><td>5.600</td><td>4.450</td><td>62.462</td><td>1.000</td><td>-0.000</td><td>0.000</td><td>579.22</td></tr>\n",
       "<tr><td>3</td><td>415.67</td><td>-402.0</td><td>27.92</td><td>0.000</td><td>0.000</td><td>90.000</td><td>5.600</td><td>4.450</td><td>62.462</td><td>1.000</td><td>-0.000</td><td>0.000</td><td>579.10</td></tr>\n",
       "<tr><td>4</td><td>429.33</td><td>0.0</td><td>16.08</td><td>0.000</td><td>0.000</td><td>90.000</td><td>5.600</td><td>4.450</td><td>62.462</td><td>1.000</td><td>-0.000</td><td>0.000</td><td>430.57</td></tr>\n",
       "<tr><td>5</td><td>-415.67</td><td>-402.0</td><td>48.25</td><td>0.000</td><td>0.000</td><td>90.000</td><td>5.600</td><td>4.450</td><td>62.462</td><td>1.000</td><td>-0.000</td><td>0.000</td><td>577.91</td></tr>\n",
       "<tr><td>6</td><td>-415.67</td><td>402.0</td><td>15.58</td><td>0.000</td><td>0.000</td><td>90.000</td><td>5.600</td><td>4.450</td><td>62.462</td><td>1.000</td><td>-0.000</td><td>0.000</td><td>577.50</td></tr>\n",
       "<tr><td>7</td><td>-429.67</td><td>0.0</td><td>29.42</td><td>0.000</td><td>0.000</td><td>90.000</td><td>5.600</td><td>4.450</td><td>62.462</td><td>1.000</td><td>-0.000</td><td>0.000</td><td>428.54</td></tr>\n",
       "</table></div>"
      ],
      "text/plain": [
       "<Table length=7>\n",
       "  id     x       y       z       az   ...   p_x     p_y     p_z    d_tel \n",
       "         m       m       m      deg   ...                            m   \n",
       "int64 float64 float64 float64 float64 ... float64 float64 float64 float64\n",
       "----- ------- ------- ------- ------- ... ------- ------- ------- -------\n",
       "    1   -7.75     0.0    22.5   0.000 ...   1.000  -0.000   0.000    6.92\n",
       "    2  415.67   402.0   12.42   0.000 ...   1.000  -0.000   0.000  579.22\n",
       "    3  415.67  -402.0   27.92   0.000 ...   1.000  -0.000   0.000  579.10\n",
       "    4  429.33     0.0   16.08   0.000 ...   1.000  -0.000   0.000  430.57\n",
       "    5 -415.67  -402.0   48.25   0.000 ...   1.000  -0.000   0.000  577.91\n",
       "    6 -415.67   402.0   15.58   0.000 ...   1.000  -0.000   0.000  577.50\n",
       "    7 -429.67     0.0   29.42   0.000 ...   1.000  -0.000   0.000  428.54"
      ]
     },
     "execution_count": 70,
     "metadata": {},
     "output_type": "execute_result"
    }
   ],
   "source": [
    "array_div.table.units='deg'\n",
    "array_div.table"
   ]
  },
  {
   "cell_type": "code",
   "execution_count": 71,
   "metadata": {},
   "outputs": [
    {
     "data": {
      "text/html": [
       "<div><i>Table length=6</i>\n",
       "<table id=\"table5042155696\" class=\"table-striped table-bordered table-condensed\">\n",
       "<thead><tr><th>id</th><th>x</th><th>y</th><th>z</th><th>az</th><th>alt</th><th>zn</th><th>focal</th><th>radius</th><th>fov</th><th>p_x</th><th>p_y</th><th>p_z</th><th>d_tel</th></tr></thead>\n",
       "<thead><tr><th></th><th>m</th><th>m</th><th>m</th><th>deg</th><th>deg</th><th>deg</th><th>m</th><th>deg</th><th>deg2</th><th></th><th></th><th></th><th>m</th></tr></thead>\n",
       "<thead><tr><th>int64</th><th>float64</th><th>float64</th><th>float64</th><th>float64</th><th>float64</th><th>float64</th><th>float64</th><th>float64</th><th>float64</th><th>float64</th><th>float64</th><th>float64</th><th>float64</th></tr></thead>\n",
       "<tr><td>1</td><td>0.0</td><td>816.83</td><td>21.83</td><td>0.000</td><td>0.000</td><td>90.000</td><td>5.600</td><td>4.450</td><td>62.462</td><td>1.000</td><td>-0.000</td><td>0.000</td><td>816.88</td></tr>\n",
       "<tr><td>2</td><td>-840.0</td><td>404.67</td><td>16.75</td><td>0.000</td><td>0.000</td><td>90.000</td><td>5.600</td><td>4.450</td><td>62.462</td><td>1.000</td><td>-0.000</td><td>0.000</td><td>932.41</td></tr>\n",
       "<tr><td>3</td><td>-840.0</td><td>-404.67</td><td>55.92</td><td>0.000</td><td>0.000</td><td>90.000</td><td>5.600</td><td>4.450</td><td>62.462</td><td>1.000</td><td>-0.000</td><td>0.000</td><td>932.62</td></tr>\n",
       "<tr><td>4</td><td>0.0</td><td>-816.83</td><td>65.42</td><td>0.000</td><td>0.000</td><td>90.000</td><td>5.600</td><td>4.450</td><td>62.462</td><td>1.000</td><td>-0.000</td><td>0.000</td><td>817.54</td></tr>\n",
       "<tr><td>5</td><td>839.67</td><td>-404.67</td><td>17.75</td><td>0.000</td><td>0.000</td><td>90.000</td><td>5.600</td><td>4.450</td><td>62.462</td><td>1.000</td><td>-0.000</td><td>0.000</td><td>932.29</td></tr>\n",
       "<tr><td>6</td><td>839.67</td><td>404.67</td><td>10.08</td><td>0.000</td><td>0.000</td><td>90.000</td><td>5.600</td><td>4.450</td><td>62.462</td><td>1.000</td><td>-0.000</td><td>0.000</td><td>932.44</td></tr>\n",
       "</table></div>"
      ],
      "text/plain": [
       "<Table length=6>\n",
       "  id     x       y       z       az   ...   p_x     p_y     p_z    d_tel \n",
       "         m       m       m      deg   ...                            m   \n",
       "int64 float64 float64 float64 float64 ... float64 float64 float64 float64\n",
       "----- ------- ------- ------- ------- ... ------- ------- ------- -------\n",
       "    1     0.0  816.83   21.83   0.000 ...   1.000  -0.000   0.000  816.88\n",
       "    2  -840.0  404.67   16.75   0.000 ...   1.000  -0.000   0.000  932.41\n",
       "    3  -840.0 -404.67   55.92   0.000 ...   1.000  -0.000   0.000  932.62\n",
       "    4     0.0 -816.83   65.42   0.000 ...   1.000  -0.000   0.000  817.54\n",
       "    5  839.67 -404.67   17.75   0.000 ...   1.000  -0.000   0.000  932.29\n",
       "    6  839.67  404.67   10.08   0.000 ...   1.000  -0.000   0.000  932.44"
      ]
     },
     "execution_count": 71,
     "metadata": {},
     "output_type": "execute_result"
    }
   ],
   "source": [
    "array_conv.table.units='deg'\n",
    "array_conv.table"
   ]
  },
  {
   "cell_type": "code",
   "execution_count": 72,
   "metadata": {},
   "outputs": [
    {
     "data": {
      "text/html": [
       "<div><i>Table length=46</i>\n",
       "<table id=\"table5027625344\" class=\"table-striped table-bordered table-condensed\">\n",
       "<thead><tr><th>id</th><th>x</th><th>y</th><th>z</th><th>az</th><th>alt</th><th>zn</th><th>focal</th><th>radius</th><th>fov</th><th>p_x</th><th>p_y</th><th>p_z</th><th>d_tel</th></tr></thead>\n",
       "<thead><tr><th></th><th>m</th><th>m</th><th>m</th><th>deg</th><th>deg</th><th>deg</th><th>m</th><th>deg</th><th>deg2</th><th></th><th></th><th></th><th>m</th></tr></thead>\n",
       "<thead><tr><th>int64</th><th>float64</th><th>float64</th><th>float64</th><th>float64</th><th>float64</th><th>float64</th><th>float64</th><th>float64</th><th>float64</th><th>float64</th><th>float64</th><th>float64</th><th>float64</th></tr></thead>\n",
       "<tr><td>1</td><td>199.0</td><td>0.0</td><td>16.25</td><td>0.000</td><td>0.000</td><td>90.000</td><td>5.600</td><td>4.450</td><td>62.462</td><td>1.000</td><td>-0.000</td><td>0.000</td><td>200.19</td></tr>\n",
       "<tr><td>2</td><td>-230.0</td><td>0.0</td><td>22.75</td><td>0.000</td><td>0.000</td><td>90.000</td><td>5.600</td><td>4.450</td><td>62.462</td><td>1.000</td><td>-0.000</td><td>0.000</td><td>229.36</td></tr>\n",
       "<tr><td>3</td><td>-249.0</td><td>-325.0</td><td>40.75</td><td>0.000</td><td>0.000</td><td>90.000</td><td>5.600</td><td>4.450</td><td>62.462</td><td>1.000</td><td>-0.000</td><td>0.000</td><td>409.12</td></tr>\n",
       "<tr><td>4</td><td>-249.0</td><td>325.0</td><td>17.25</td><td>0.000</td><td>0.000</td><td>90.000</td><td>5.600</td><td>4.450</td><td>62.462</td><td>1.000</td><td>-0.000</td><td>0.000</td><td>409.16</td></tr>\n",
       "<tr><td>5</td><td>-249.0</td><td>-577.0</td><td>54.25</td><td>0.000</td><td>0.000</td><td>90.000</td><td>5.600</td><td>4.450</td><td>62.462</td><td>1.000</td><td>-0.000</td><td>0.000</td><td>628.62</td></tr>\n",
       "<tr><td>6</td><td>-249.0</td><td>577.0</td><td>8.25</td><td>0.000</td><td>0.000</td><td>90.000</td><td>5.600</td><td>4.450</td><td>62.462</td><td>1.000</td><td>-0.000</td><td>0.000</td><td>628.51</td></tr>\n",
       "<tr><td>7</td><td>-220.0</td><td>-797.0</td><td>68.25</td><td>0.000</td><td>0.000</td><td>90.000</td><td>5.600</td><td>4.450</td><td>62.462</td><td>1.000</td><td>-0.000</td><td>0.000</td><td>827.51</td></tr>\n",
       "<tr><td>8</td><td>-220.0</td><td>797.0</td><td>10.25</td><td>0.000</td><td>0.000</td><td>90.000</td><td>5.600</td><td>4.450</td><td>62.462</td><td>1.000</td><td>-0.000</td><td>0.000</td><td>826.84</td></tr>\n",
       "<tr><td>9</td><td>0.0</td><td>-499.0</td><td>39.75</td><td>0.000</td><td>0.000</td><td>90.000</td><td>5.600</td><td>4.450</td><td>62.462</td><td>1.000</td><td>-0.000</td><td>0.000</td><td>499.10</td></tr>\n",
       "<tr><td>...</td><td>...</td><td>...</td><td>...</td><td>...</td><td>...</td><td>...</td><td>...</td><td>...</td><td>...</td><td>...</td><td>...</td><td>...</td><td>...</td></tr>\n",
       "<tr><td>38</td><td>748.0</td><td>367.0</td><td>6.25</td><td>0.000</td><td>0.000</td><td>90.000</td><td>5.600</td><td>4.450</td><td>62.462</td><td>1.000</td><td>-0.000</td><td>0.000</td><td>834.17</td></tr>\n",
       "<tr><td>39</td><td>816.0</td><td>-648.0</td><td>41.25</td><td>0.000</td><td>0.000</td><td>90.000</td><td>5.600</td><td>4.450</td><td>62.462</td><td>1.000</td><td>-0.000</td><td>0.000</td><td>1042.64</td></tr>\n",
       "<tr><td>40</td><td>816.0</td><td>648.0</td><td>18.75</td><td>0.000</td><td>0.000</td><td>90.000</td><td>5.600</td><td>4.450</td><td>62.462</td><td>1.000</td><td>-0.000</td><td>0.000</td><td>1042.63</td></tr>\n",
       "<tr><td>41</td><td>0.0</td><td>-950.0</td><td>75.25</td><td>0.000</td><td>0.000</td><td>90.000</td><td>5.600</td><td>4.450</td><td>62.462</td><td>1.000</td><td>-0.000</td><td>0.000</td><td>951.09</td></tr>\n",
       "<tr><td>42</td><td>0.0</td><td>950.0</td><td>28.25</td><td>0.000</td><td>0.000</td><td>90.000</td><td>5.600</td><td>4.450</td><td>62.462</td><td>1.000</td><td>-0.000</td><td>0.000</td><td>950.00</td></tr>\n",
       "<tr><td>43</td><td>-955.0</td><td>-199.0</td><td>39.25</td><td>0.000</td><td>0.000</td><td>90.000</td><td>5.600</td><td>4.450</td><td>62.462</td><td>1.000</td><td>-0.000</td><td>0.000</td><td>974.84</td></tr>\n",
       "<tr><td>44</td><td>-955.0</td><td>199.0</td><td>22.75</td><td>0.000</td><td>0.000</td><td>90.000</td><td>5.600</td><td>4.450</td><td>62.462</td><td>1.000</td><td>-0.000</td><td>0.000</td><td>974.81</td></tr>\n",
       "<tr><td>45</td><td>955.0</td><td>-199.0</td><td>7.75</td><td>0.000</td><td>0.000</td><td>90.000</td><td>5.600</td><td>4.450</td><td>62.462</td><td>1.000</td><td>-0.000</td><td>0.000</td><td>976.48</td></tr>\n",
       "<tr><td>46</td><td>955.0</td><td>199.0</td><td>5.25</td><td>0.000</td><td>0.000</td><td>90.000</td><td>5.600</td><td>4.450</td><td>62.462</td><td>1.000</td><td>-0.000</td><td>0.000</td><td>976.54</td></tr>\n",
       "</table></div>"
      ],
      "text/plain": [
       "<Table length=46>\n",
       "  id     x       y       z       az   ...   p_x     p_y     p_z    d_tel \n",
       "         m       m       m      deg   ...                            m   \n",
       "int64 float64 float64 float64 float64 ... float64 float64 float64 float64\n",
       "----- ------- ------- ------- ------- ... ------- ------- ------- -------\n",
       "    1   199.0     0.0   16.25   0.000 ...   1.000  -0.000   0.000  200.19\n",
       "    2  -230.0     0.0   22.75   0.000 ...   1.000  -0.000   0.000  229.36\n",
       "    3  -249.0  -325.0   40.75   0.000 ...   1.000  -0.000   0.000  409.12\n",
       "    4  -249.0   325.0   17.25   0.000 ...   1.000  -0.000   0.000  409.16\n",
       "    5  -249.0  -577.0   54.25   0.000 ...   1.000  -0.000   0.000  628.62\n",
       "    6  -249.0   577.0    8.25   0.000 ...   1.000  -0.000   0.000  628.51\n",
       "    7  -220.0  -797.0   68.25   0.000 ...   1.000  -0.000   0.000  827.51\n",
       "    8  -220.0   797.0   10.25   0.000 ...   1.000  -0.000   0.000  826.84\n",
       "    9     0.0  -499.0   39.75   0.000 ...   1.000  -0.000   0.000  499.10\n",
       "  ...     ...     ...     ...     ... ...     ...     ...     ...     ...\n",
       "   38   748.0   367.0    6.25   0.000 ...   1.000  -0.000   0.000  834.17\n",
       "   39   816.0  -648.0   41.25   0.000 ...   1.000  -0.000   0.000 1042.64\n",
       "   40   816.0   648.0   18.75   0.000 ...   1.000  -0.000   0.000 1042.63\n",
       "   41     0.0  -950.0   75.25   0.000 ...   1.000  -0.000   0.000  951.09\n",
       "   42     0.0   950.0   28.25   0.000 ...   1.000  -0.000   0.000  950.00\n",
       "   43  -955.0  -199.0   39.25   0.000 ...   1.000  -0.000   0.000  974.84\n",
       "   44  -955.0   199.0   22.75   0.000 ...   1.000  -0.000   0.000  974.81\n",
       "   45   955.0  -199.0    7.75   0.000 ...   1.000  -0.000   0.000  976.48\n",
       "   46   955.0   199.0    5.25   0.000 ...   1.000  -0.000   0.000  976.54"
      ]
     },
     "execution_count": 72,
     "metadata": {},
     "output_type": "execute_result"
    }
   ],
   "source": [
    "full_array.table.units='deg'\n",
    "full_array.table"
   ]
  },
  {
   "cell_type": "code",
   "execution_count": 93,
   "metadata": {},
   "outputs": [
    {
     "name": "stdout",
     "output_type": "stream",
     "text": [
      "the barycenter for the calculations[-0.73913043  0.         29.65217391]\n",
      "the barycenter for the calculations of the second divergence[-0.73913043  0.         29.65217391]\n"
     ]
    },
    {
     "name": "stderr",
     "output_type": "stream",
     "text": [
      "6it [00:00,  7.31it/s]\n",
      "7it [00:00,  7.28it/s]\n",
      "6it [00:00,  6.93it/s]\n"
     ]
    },
    {
     "name": "stdout",
     "output_type": "stream",
     "text": [
      "13.06239815442191\n"
     ]
    },
    {
     "name": "stderr",
     "output_type": "stream",
     "text": [
      "7it [00:00,  7.35it/s]\n"
     ]
    },
    {
     "data": {
      "image/png": "[encoded data removed]",
      "text/plain": [
       "<Figure size 850x540 with 2 Axes>"
      ]
     },
     "metadata": {},
     "output_type": "display_data"
    },
    {
     "data": {
      "image/png": "[encoded data removed]",
      "text/plain": [
       "<Figure size 850x540 with 2 Axes>"
      ]
     },
     "metadata": {},
     "output_type": "display_data"
    },
    {
     "data": {
      "image/png": "[encoded data removed]",
      "text/plain": [
       "<Figure size 850x540 with 2 Axes>"
      ]
     },
     "metadata": {},
     "output_type": "display_data"
    }
   ],
   "source": [
    "array_conv.divergent_pointing_2_div(complete_array=full_array,tel_group_2=array_div, div1=-0.0083, div2=0.013, az=0, alt=60)\n",
    "array_conv.multiplicity_plot_2_div(array_div, subarray_mult_1=number_of_telescopes_config_SST_conv, subarray_mult_2=number_of_telescopes_config_SST_div)\n",
    "\n"
   ]
  },
  {
   "cell_type": "code",
   "execution_count": 80,
   "metadata": {},
   "outputs": [
    {
     "name": "stderr",
     "output_type": "stream",
     "text": [
      "46it [00:06,  7.34it/s]\n",
      "46it [00:06,  7.35it/s]\n"
     ]
    },
    {
     "data": {
      "image/png": "[encoded data removed]",
      "text/plain": [
       "<Figure size 850x540 with 2 Axes>"
      ]
     },
     "metadata": {},
     "output_type": "display_data"
    }
   ],
   "source": [
    "full_array.divergent_pointing(div=0.007, az=0, alt=60)\n",
    "full_array.multiplicity_plot()"
   ]
  },
  {
   "cell_type": "code",
   "execution_count": null,
   "metadata": {},
   "outputs": [],
   "source": [
    "## IN THE MULTIPLICITY PLOTS!!!! THERE IS A PROBLEM WITH THE POINTING THE PI!!!1"
   ]
  },
  {
   "cell_type": "code",
   "execution_count": 81,
   "metadata": {},
   "outputs": [
    {
     "name": "stderr",
     "output_type": "stream",
     "text": [
      "46it [00:06,  7.36it/s]\n"
     ]
    },
    {
     "data": {
      "text/plain": [
       "(204.17129316082276, 14.01226796839874)"
      ]
     },
     "execution_count": 81,
     "metadata": {},
     "output_type": "execute_result"
    }
   ],
   "source": [
    "full_array.hFoV()"
   ]
  },
  {
   "cell_type": "code",
   "execution_count": 94,
   "metadata": {},
   "outputs": [
    {
     "name": "stderr",
     "output_type": "stream",
     "text": [
      "6it [00:00,  6.95it/s]\n",
      "7it [00:01,  6.76it/s]\n"
     ]
    },
    {
     "data": {
      "text/plain": [
       "(213.18058588363635, 13.416707677165354)"
      ]
     },
     "execution_count": 94,
     "metadata": {},
     "output_type": "execute_result"
    }
   ],
   "source": [
    "array_conv.hFoV_for_2_arrays(array_2=array_div, subarray_mult=number_of_telescopes_config_SST_conv, subarray_mult_2=number_of_telescopes_config_SST_div)"
   ]
  },
  {
   "cell_type": "code",
   "execution_count": 95,
   "metadata": {},
   "outputs": [],
   "source": [
    "## here we can play around a bit with the same number as before only that we stop at 0.013\n",
    "#The idea could be to do an if lets see if I am able to do it "
   ]
  },
  {
   "cell_type": "markdown",
   "metadata": {},
   "source": [
    "# CHOOSING THE DIFFERENT CONVERGENCES\n",
    "## DIV lets try 0.0022, 0.0043, 0.008, 0.01135, 0.013"
   ]
  },
  {
   "cell_type": "code",
   "execution_count": 101,
   "metadata": {},
   "outputs": [
    {
     "name": "stderr",
     "output_type": "stream",
     "text": [
      "7it [00:00,  7.36it/s]\n",
      "7it [00:00,  7.11it/s]\n"
     ]
    },
    {
     "data": {
      "image/png": "[encoded data removed]",
      "text/plain": [
       "<Figure size 850x540 with 2 Axes>"
      ]
     },
     "metadata": {},
     "output_type": "display_data"
    }
   ],
   "source": [
    "array_div.divergent_pointing(div=0.0022, az=0, alt=60)\n",
    "array_div.multiplicity_plot()"
   ]
  },
  {
   "cell_type": "code",
   "execution_count": 105,
   "metadata": {},
   "outputs": [
    {
     "name": "stderr",
     "output_type": "stream",
     "text": [
      "7it [00:00,  7.18it/s]\n"
     ]
    },
    {
     "data": {
      "text/plain": [
       "(80.33613860255637, 17.021384263793667)"
      ]
     },
     "execution_count": 105,
     "metadata": {},
     "output_type": "execute_result"
    }
   ],
   "source": [
    "array_div.hFoV(subarray_mult=number_of_telescopes_config_SST_div)"
   ]
  },
  {
   "cell_type": "code",
   "execution_count": 116,
   "metadata": {},
   "outputs": [
    {
     "name": "stderr",
     "output_type": "stream",
     "text": [
      "7it [00:01,  6.90it/s]\n"
     ]
    }
   ],
   "source": [
    "hFoV_to_stop=array_div.hFoV(subarray_mult=number_of_telescopes_config_SST_div,m_cut=21)[0]"
   ]
  },
  {
   "cell_type": "code",
   "execution_count": 117,
   "metadata": {},
   "outputs": [
    {
     "data": {
      "text/plain": [
       "45.977555001724234"
      ]
     },
     "execution_count": 117,
     "metadata": {},
     "output_type": "execute_result"
    }
   ],
   "source": [
    "hFoV_to_stop"
   ]
  },
  {
   "cell_type": "code",
   "execution_count": 121,
   "metadata": {},
   "outputs": [
    {
     "name": "stdout",
     "output_type": "stream",
     "text": [
      "-6.226068608767667 rad\n",
      "-6.2564375606284095 rad\n",
      "-0.026747746551176732 rad\n",
      "-0.057116698411919575 rad\n",
      "-0.030087200256950553 rad\n",
      "-6.253098106922636 rad\n"
     ]
    },
    {
     "name": "stderr",
     "output_type": "stream",
     "text": [
      "6it [00:00,  7.00it/s]\n",
      "6it [00:00,  7.38it/s]\n"
     ]
    },
    {
     "name": "stdout",
     "output_type": "stream",
     "text": [
      "25.13946746671573\n",
      "-6.228125761186492 rad\n",
      "-6.2573507176332335 rad\n",
      "-0.025834589546352316 rad\n",
      "-0.05505954599309382 rad\n",
      "-0.028936764342142318 rad\n",
      "-6.254248542837444 rad\n"
     ]
    },
    {
     "name": "stderr",
     "output_type": "stream",
     "text": [
      "6it [00:00,  7.17it/s]\n",
      "6it [00:00,  7.44it/s]\n"
     ]
    },
    {
     "name": "stdout",
     "output_type": "stream",
     "text": [
      "26.33283811850036\n",
      "-6.230183376417663 rad\n",
      "-6.258267591556827 rad\n",
      "-0.024917715622760017 rad\n",
      "-0.05300193076192361 rad\n",
      "-0.02779141688155784 rad\n",
      "-6.255393890298029 rad\n"
     ]
    },
    {
     "name": "stderr",
     "output_type": "stream",
     "text": [
      "6it [00:00,  7.38it/s]\n",
      "6it [00:00,  7.32it/s]\n"
     ]
    },
    {
     "name": "stdout",
     "output_type": "stream",
     "text": [
      "27.355727248601468\n",
      "-6.232241437287188 rad\n",
      "-6.2591882036326645 rad\n",
      "-0.023997103546922194 rad\n",
      "-0.05094386989239874 rad\n",
      "-0.026651127120515206 rad\n",
      "-6.256534180059071 rad\n"
     ]
    },
    {
     "name": "stderr",
     "output_type": "stream",
     "text": [
      "6it [00:00,  7.38it/s]\n",
      "6it [00:00,  7.22it/s]\n"
     ]
    },
    {
     "name": "stdout",
     "output_type": "stream",
     "text": [
      "28.50975601076682\n",
      "-6.234299926598579 rad\n",
      "-6.26011257524273 rad\n",
      "-0.023072731936855995 rad\n",
      "-0.048885380581006554 rad\n",
      "-0.02551586452322052 rad\n",
      "-6.257669442656366 rad\n"
     ]
    },
    {
     "name": "stderr",
     "output_type": "stream",
     "text": [
      "6it [00:00,  7.29it/s]\n",
      "6it [00:00,  7.36it/s]\n"
     ]
    },
    {
     "name": "stdout",
     "output_type": "stream",
     "text": [
      "29.598214956900055\n",
      "-6.236358827133708 rad\n",
      "-6.261040727918664 rad\n",
      "-0.022144579260921837 rad\n",
      "-0.04682648004587753 rad\n",
      "-0.024385598771175854 rad\n",
      "-6.258799708408411 rad\n"
     ]
    },
    {
     "name": "stderr",
     "output_type": "stream",
     "text": [
      "6it [00:00,  6.34it/s]\n",
      "6it [00:00,  7.30it/s]\n"
     ]
    },
    {
     "name": "stdout",
     "output_type": "stream",
     "text": [
      "30.581762197381888\n",
      "-6.238418121653659 rad\n",
      "-6.2619726833429175 rad\n",
      "-0.021212623836668776 rad\n",
      "-0.04476718552592773 rad\n",
      "-0.02326029976159738 rad\n",
      "-6.259925007417989 rad\n"
     ]
    },
    {
     "name": "stderr",
     "output_type": "stream",
     "text": [
      "6it [00:00,  7.18it/s]\n",
      "6it [00:00,  7.30it/s]\n"
     ]
    },
    {
     "name": "stdout",
     "output_type": "stream",
     "text": [
      "31.919386444437187\n",
      "-6.240477792899586 rad\n",
      "-6.262908463349918 rad\n",
      "-0.020276843829668323 rad\n",
      "-0.042707514280000414 rad\n",
      "-0.022139937605840654 rad\n",
      "-6.261045369573745 rad\n"
     ]
    },
    {
     "name": "stderr",
     "output_type": "stream",
     "text": [
      "6it [00:00,  7.37it/s]\n",
      "6it [00:00,  7.22it/s]\n"
     ]
    },
    {
     "name": "stdout",
     "output_type": "stream",
     "text": [
      "33.08652916980896\n",
      "-6.242537823593583 rad\n",
      "-6.263848089927247 rad\n",
      "-0.01933721725233939 rad\n",
      "-0.040647483586002675 rad\n",
      "-0.021024482627832963 rad\n",
      "-6.262160824551753 rad\n"
     ]
    },
    {
     "name": "stderr",
     "output_type": "stream",
     "text": [
      "6it [00:00,  7.29it/s]\n",
      "6it [00:00,  7.32it/s]\n"
     ]
    },
    {
     "name": "stdout",
     "output_type": "stream",
     "text": [
      "34.437267380070686\n",
      "-6.244598196439544 rad\n",
      "-6.264791585216818 rad\n",
      "-0.018393721962768783 rad\n",
      "-0.038587110740042174 rad\n",
      "-0.019913905362514583 rad\n",
      "-6.263271401817072 rad\n"
     ]
    },
    {
     "name": "stderr",
     "output_type": "stream",
     "text": [
      "6it [00:00,  7.31it/s]\n",
      "6it [00:00,  7.14it/s]\n"
     ]
    },
    {
     "name": "stdout",
     "output_type": "stream",
     "text": [
      "35.55195425261677\n",
      "-6.246658894124027 rad\n",
      "-6.265738971516071 rad\n",
      "-0.017446335663515278 rad\n",
      "-0.036526413055558926 rad\n",
      "-0.01880817655429201 rad\n",
      "-6.264377130625294 rad\n"
     ]
    },
    {
     "name": "stderr",
     "output_type": "stream",
     "text": [
      "6it [00:00,  7.19it/s]\n",
      "6it [00:00,  7.16it/s]\n"
     ]
    },
    {
     "name": "stdout",
     "output_type": "stream",
     "text": [
      "36.81089472043352\n",
      "-6.24871989931713 rad\n",
      "-6.266690271279171 rad\n",
      "-0.01649503590041501 rad\n",
      "-0.034465407862456665 rad\n",
      "-0.017707267155494755 rad\n",
      "-6.2654780400240915 rad\n"
     ]
    },
    {
     "name": "stderr",
     "output_type": "stream",
     "text": [
      "6it [00:00,  7.14it/s]\n",
      "6it [00:00,  7.10it/s]\n"
     ]
    },
    {
     "name": "stdout",
     "output_type": "stream",
     "text": [
      "38.09606311466312\n",
      "-6.250781194673355 rad\n",
      "-6.2676455071182176 rad\n",
      "-0.015539800061368236 rad\n",
      "-0.03240411250623154 rad\n",
      "-0.016611148324843228 rad\n",
      "-6.266574158854743 rad\n"
     ]
    },
    {
     "name": "stderr",
     "output_type": "stream",
     "text": [
      "6it [00:00,  7.37it/s]\n",
      "6it [00:00,  7.36it/s]\n"
     ]
    },
    {
     "name": "stdout",
     "output_type": "stream",
     "text": [
      "39.25009187682847\n",
      "-6.252842762832485 rad\n",
      "-6.2686047018044615 rad\n",
      "-0.014580605375124733 rad\n",
      "-0.03034254434710082 rad\n",
      "-0.015519791425925966 rad\n",
      "-6.26766551575366 rad\n"
     ]
    },
    {
     "name": "stderr",
     "output_type": "stream",
     "text": [
      "6it [00:00,  7.22it/s]\n",
      "6it [00:00,  7.24it/s]\n"
     ]
    },
    {
     "name": "stdout",
     "output_type": "stream",
     "text": [
      "40.758197645567286\n",
      "-6.254904586420461 rad\n",
      "-6.2695678782695285 rad\n",
      "-0.013617428910057683 rad\n",
      "-0.02828072075912491 rad\n",
      "-0.014433168025683507 rad\n",
      "-6.268752139153903 rad\n"
     ]
    },
    {
     "name": "stderr",
     "output_type": "stream",
     "text": [
      "6it [00:00,  7.38it/s]\n",
      "6it [00:00,  7.30it/s]\n"
     ]
    },
    {
     "name": "stdout",
     "output_type": "stream",
     "text": [
      "41.93845433414549\n",
      "-6.256966648050254 rad\n",
      "-6.27053505960666 rad\n",
      "-0.012650247572925988 rad\n",
      "-0.026218659129332522 rad\n",
      "-0.013351249892903816 rad\n",
      "-6.269834057286682 rad\n"
     ]
    },
    {
     "name": "stderr",
     "output_type": "stream",
     "text": [
      "6it [00:00,  7.20it/s]\n",
      "6it [00:00,  7.38it/s]\n"
     ]
    },
    {
     "name": "stdout",
     "output_type": "stream",
     "text": [
      "43.36787632364576\n",
      "-6.259028930322744 rad\n",
      "-6.271506269071953 rad\n",
      "-0.011679038107633932 rad\n",
      "-0.0241563768568418 rad\n",
      "-0.012274008996722152 rad\n",
      "-6.270911298182864 rad\n"
     ]
    },
    {
     "name": "stderr",
     "output_type": "stream",
     "text": [
      "6it [00:00,  6.94it/s]\n",
      "6it [00:00,  7.32it/s]\n"
     ]
    },
    {
     "name": "stdout",
     "output_type": "stream",
     "text": [
      "44.69238660749463\n",
      "-6.261091415827606 rad\n",
      "-6.272481530085609 rad\n",
      "-0.010703777093977074 rad\n",
      "-0.022093891351981032 rad\n",
      "-0.011201417505135591 rad\n",
      "-6.27198388967445 rad\n"
     ]
    },
    {
     "name": "stderr",
     "output_type": "stream",
     "text": [
      "6it [00:00,  7.05it/s]\n",
      "6it [00:00,  7.43it/s]"
     ]
    },
    {
     "name": "stdout",
     "output_type": "stream",
     "text": [
      "46.134922560201325\n",
      "stop, the -0.0013526315789473679\n"
     ]
    },
    {
     "name": "stderr",
     "output_type": "stream",
     "text": [
      "\n"
     ]
    }
   ],
   "source": [
    "conv=np.linspace(-0.0035,-0.0011, 20)\n",
    "for convergence in conv:\n",
    "    array_conv.divergent_pointing(div=convergence, az=0, alt=60)\n",
    "    hFoV_conv=array_conv.hFoV(subarray_mult=number_of_telescopes_config_SST_conv,m_cut=23)[0]\n",
    "    print(array_conv.hFoV(subarray_mult=number_of_telescopes_config_SST_conv,m_cut=23)[0])\n",
    "    if hFoV_conv > hFoV_to_stop:\n",
    "        convergence_to_stop=convergence\n",
    "        print(f\"stop, the {convergence}\")\n",
    "        break "
   ]
  },
  {
   "cell_type": "code",
   "execution_count": 123,
   "metadata": {},
   "outputs": [
    {
     "data": {
      "text/plain": [
       "-0.0013526315789473679"
      ]
     },
     "execution_count": 123,
     "metadata": {},
     "output_type": "execute_result"
    }
   ],
   "source": [
    "convergence_to_stop"
   ]
  },
  {
   "cell_type": "code",
   "execution_count": 142,
   "metadata": {},
   "outputs": [
    {
     "name": "stderr",
     "output_type": "stream",
     "text": [
      "7it [00:00,  7.13it/s]\n"
     ]
    },
    {
     "name": "stdout",
     "output_type": "stream",
     "text": [
      "-6.148406455252941 rad\n",
      "-6.224296157423696 rad\n",
      "-0.05888914975588966 rad\n",
      "-0.13477885192664507 rad\n",
      "-0.07790173269392353 rad\n",
      "-6.205283574485662 rad\n"
     ]
    },
    {
     "name": "stderr",
     "output_type": "stream",
     "text": [
      "6it [00:00,  7.36it/s]\n",
      "7it [00:00,  7.44it/s]\n"
     ]
    },
    {
     "name": "stdout",
     "output_type": "stream",
     "text": [
      "-6.149524832796958 rad\n",
      "-6.224729635710567 rad\n",
      "-0.058455671469019865 rad\n",
      "-0.13366047438262862 rad\n",
      "-0.0771456105339956 rad\n",
      "-6.206039696645591 rad\n"
     ]
    },
    {
     "name": "stderr",
     "output_type": "stream",
     "text": [
      "6it [00:00,  7.52it/s]\n",
      "7it [00:00,  7.40it/s]\n"
     ]
    },
    {
     "name": "stdout",
     "output_type": "stream",
     "text": [
      "-6.1506435445352885 rad\n",
      "-6.225164028031221 rad\n",
      "-0.05802127914836541 rad\n",
      "-0.13254176264429773 rad\n",
      "-0.07639145326026675 rad\n",
      "-6.2067938539193195 rad\n"
     ]
    },
    {
     "name": "stderr",
     "output_type": "stream",
     "text": [
      "6it [00:00,  7.33it/s]\n",
      "7it [00:00,  7.26it/s]\n"
     ]
    },
    {
     "name": "stdout",
     "output_type": "stream",
     "text": [
      "-6.151762587832646 rad\n",
      "-6.225599337121608 rad\n",
      "-0.057585970057978386 rad\n",
      "-0.1314227193469404 rad\n",
      "-0.0756392540672155 rad\n",
      "-6.20754605311237 rad\n"
     ]
    },
    {
     "name": "stderr",
     "output_type": "stream",
     "text": [
      "6it [00:00,  7.30it/s]\n",
      "7it [00:00,  7.42it/s]\n"
     ]
    },
    {
     "name": "stdout",
     "output_type": "stream",
     "text": [
      "-6.152881960048865 rad\n",
      "-6.226035565727873 rad\n",
      "-0.0571497414517137 rad\n",
      "-0.13030334713072111 rad\n",
      "-0.07488900617580763 rad\n",
      "-6.208296301003779 rad\n"
     ]
    },
    {
     "name": "stderr",
     "output_type": "stream",
     "text": [
      "6it [00:00,  7.41it/s]\n",
      "7it [00:00,  7.33it/s]\n"
     ]
    },
    {
     "name": "stdout",
     "output_type": "stream",
     "text": [
      "-6.154001658538943 rad\n",
      "-6.226472716606402 rad\n",
      "-0.056712590573184674 rad\n",
      "-0.1291836486406428 rad\n",
      "-0.07414070283340335 rad\n",
      "-6.209044604346182 rad\n"
     ]
    },
    {
     "name": "stderr",
     "output_type": "stream",
     "text": [
      "6it [00:00,  7.42it/s]\n",
      "7it [00:00,  7.29it/s]\n"
     ]
    },
    {
     "name": "stdout",
     "output_type": "stream",
     "text": [
      "-6.155121680653073 rad\n",
      "-6.226910792523865 rad\n",
      "-0.056274514655720864 rad\n",
      "-0.12806362652651337 rad\n",
      "-0.0733943373136694 rad\n",
      "-6.209790969865917 rad\n"
     ]
    },
    {
     "name": "stderr",
     "output_type": "stream",
     "text": [
      "6it [00:00,  6.99it/s]\n",
      "7it [00:01,  5.94it/s]\n"
     ]
    },
    {
     "name": "stdout",
     "output_type": "stream",
     "text": [
      "-6.156242023736674 rad\n",
      "-6.227349796257262 rad\n",
      "-0.05583551092232408 rad\n",
      "-0.12694328344291206 rad\n",
      "-0.07264990291648354 rad\n",
      "-6.210535404263103 rad\n"
     ]
    },
    {
     "name": "stderr",
     "output_type": "stream",
     "text": [
      "6it [00:00,  7.06it/s]\n",
      "7it [00:01,  6.95it/s]\n"
     ]
    },
    {
     "name": "stdout",
     "output_type": "stream",
     "text": [
      "-6.157362685130433 rad\n",
      "-6.227789730593962 rad\n",
      "-0.055395576585623996 rad\n",
      "-0.1258226220491525 rad\n",
      "-0.07190739296784443 rad\n",
      "-6.211277914211742 rad\n"
     ]
    },
    {
     "name": "stderr",
     "output_type": "stream",
     "text": [
      "6it [00:00,  7.14it/s]\n",
      "7it [00:01,  6.88it/s]\n"
     ]
    },
    {
     "name": "stdout",
     "output_type": "stream",
     "text": [
      "-6.158483662170338 rad\n",
      "-6.228230598331753 rad\n",
      "-0.05495470884783327 rad\n",
      "-0.12470164500924863 rad\n",
      "-0.07116680081978144 rad\n",
      "-6.212018506359804 rad\n"
     ]
    },
    {
     "name": "stderr",
     "output_type": "stream",
     "text": [
      "6it [00:00,  6.86it/s]\n",
      "7it [00:01,  6.65it/s]\n"
     ]
    },
    {
     "name": "stdout",
     "output_type": "stream",
     "text": [
      "-6.159604952187707 rad\n",
      "-6.228672402278882 rad\n",
      "-0.054512904900704484 rad\n",
      "-0.12358035499187903 rad\n",
      "-0.07042811985026098 rad\n",
      "-6.212757187329325 rad\n"
     ]
    },
    {
     "name": "stderr",
     "output_type": "stream",
     "text": [
      "6it [00:00,  7.10it/s]\n",
      "7it [00:00,  7.10it/s]\n"
     ]
    },
    {
     "name": "stdout",
     "output_type": "stream",
     "text": [
      "-6.160726552509233 rad\n",
      "-6.2291151452541005 rad\n",
      "-0.05407016192548619 rad\n",
      "-0.12245875467035283 rad\n",
      "-0.0696913434630968 rad\n",
      "-6.213493963716489 rad\n"
     ]
    },
    {
     "name": "stderr",
     "output_type": "stream",
     "text": [
      "6it [00:00,  7.24it/s]\n",
      "7it [00:00,  7.04it/s]\n"
     ]
    },
    {
     "name": "stdout",
     "output_type": "stream",
     "text": [
      "-6.161848460457016 rad\n",
      "-6.229558830086711 rad\n",
      "-0.05362647709287538 rad\n",
      "-0.12133684672257106 rad\n",
      "-0.06895646508785624 rad\n",
      "-6.21422884209173 rad\n"
     ]
    },
    {
     "name": "stderr",
     "output_type": "stream",
     "text": [
      "6it [00:00,  7.34it/s]\n",
      "7it [00:00,  7.30it/s]\n"
     ]
    },
    {
     "name": "stdout",
     "output_type": "stream",
     "text": [
      "-6.1629706733485925 rad\n",
      "-6.230003459616611 rad\n",
      "-0.05318184756297528 rad\n",
      "-0.12021463383099373 rad\n",
      "-0.06822347817977237 rad\n",
      "-6.214961828999813 rad\n"
     ]
    },
    {
     "name": "stderr",
     "output_type": "stream",
     "text": [
      "6it [00:00,  7.21it/s]\n",
      "7it [00:00,  7.34it/s]\n"
     ]
    },
    {
     "name": "stdout",
     "output_type": "stream",
     "text": [
      "-6.1640931884969845 rad\n",
      "-6.230449036694337 rad\n",
      "-0.05273627048525009 rad\n",
      "-0.11909211868260217 rad\n",
      "-0.06749237621964888 rad\n",
      "-6.215692930959937 rad\n"
     ]
    },
    {
     "name": "stderr",
     "output_type": "stream",
     "text": [
      "6it [00:00,  7.23it/s]\n",
      "7it [00:00,  7.31it/s]\n"
     ]
    },
    {
     "name": "stdout",
     "output_type": "stream",
     "text": [
      "-6.165216003210722 rad\n",
      "-6.230895564181109 rad\n",
      "-0.052289742998476996 rad\n",
      "-0.11796930396886385 rad\n",
      "-0.06676315271377131 rad\n",
      "-6.216422154465815 rad\n"
     ]
    },
    {
     "name": "stderr",
     "output_type": "stream",
     "text": [
      "6it [00:00,  7.37it/s]\n",
      "7it [00:00,  7.15it/s]\n"
     ]
    },
    {
     "name": "stdout",
     "output_type": "stream",
     "text": [
      "-6.166339114793891 rad\n",
      "-6.231343044948883 rad\n",
      "-0.051842262230703984 rad\n",
      "-0.11684619238569516 rad\n",
      "-0.06603580119381425 rad\n",
      "-6.2171495059857715 rad\n"
     ]
    },
    {
     "name": "stderr",
     "output_type": "stream",
     "text": [
      "6it [00:00,  7.25it/s]\n",
      "7it [00:00,  7.38it/s]\n"
     ]
    },
    {
     "name": "stdout",
     "output_type": "stream",
     "text": [
      "-6.167462520546161 rad\n",
      "-6.231791481880384 rad\n",
      "-0.051393825299202334 rad\n",
      "-0.11572278663342495 rad\n",
      "-0.06531031521675112 rad\n",
      "-6.2178749919628356 rad\n"
     ]
    },
    {
     "name": "stderr",
     "output_type": "stream",
     "text": [
      "6it [00:00,  7.41it/s]\n",
      "7it [00:00,  7.44it/s]\n"
     ]
    },
    {
     "name": "stdout",
     "output_type": "stream",
     "text": [
      "-6.168586217762827 rad\n",
      "-6.232240877869166 rad\n",
      "-0.050944429310420425 rad\n",
      "-0.11459908941675945 rad\n",
      "-0.06458668836476322 rad\n",
      "-6.2185986188148235 rad\n"
     ]
    },
    {
     "name": "stderr",
     "output_type": "stream",
     "text": [
      "6it [00:00,  7.38it/s]\n",
      "7it [00:00,  7.24it/s]\n"
     ]
    },
    {
     "name": "stdout",
     "output_type": "stream",
     "text": [
      "-6.169710203734843 rad\n",
      "-6.232691235819647 rad\n",
      "-0.05049407135993933 rad\n",
      "-0.11347510344474321 rad\n",
      "-0.06386491424514773 rad\n",
      "-6.2193203929344385 rad\n"
     ]
    },
    {
     "name": "stderr",
     "output_type": "stream",
     "text": [
      "6it [00:00,  7.38it/s]\n",
      "7it [00:00,  7.54it/s]\n"
     ]
    },
    {
     "name": "stdout",
     "output_type": "stream",
     "text": [
      "-6.170834475748863 rad\n",
      "-6.233142558647161 rad\n",
      "-0.05004274853242441 rad\n",
      "-0.11235083143072355 rad\n",
      "-0.06314498649022715 rad\n",
      "-6.220040320689359 rad\n"
     ]
    },
    {
     "name": "stderr",
     "output_type": "stream",
     "text": [
      "6it [00:00,  7.31it/s]\n",
      "7it [00:00,  7.19it/s]\n"
     ]
    },
    {
     "name": "stdout",
     "output_type": "stream",
     "text": [
      "-6.1719590310872725 rad\n",
      "-6.233594849278006 rad\n",
      "-0.049590457901580454 rad\n",
      "-0.11122627609231328 rad\n",
      "-0.062426898757258265 rad\n",
      "-6.220758408422328 rad\n"
     ]
    },
    {
     "name": "stderr",
     "output_type": "stream",
     "text": [
      "6it [00:00,  7.09it/s]\n",
      "7it [00:00,  7.27it/s]\n"
     ]
    },
    {
     "name": "stdout",
     "output_type": "stream",
     "text": [
      "-6.173083867028232 rad\n",
      "-6.234048110649483 rad\n",
      "-0.04913719653010329 rad\n",
      "-0.11010144015135337 rad\n",
      "-0.06171064472834287 rad\n",
      "-6.221474662451243 rad\n"
     ]
    },
    {
     "name": "stderr",
     "output_type": "stream",
     "text": [
      "6it [00:00,  7.20it/s]\n",
      "7it [00:00,  7.35it/s]\n"
     ]
    },
    {
     "name": "stdout",
     "output_type": "stream",
     "text": [
      "-6.1742089808457115 rad\n",
      "-6.234502345709951 rad\n",
      "-0.04868296146963491 rad\n",
      "-0.10897632633387477 rad\n",
      "-0.06099621811033362 rad\n",
      "-6.222189089069253 rad\n"
     ]
    },
    {
     "name": "stderr",
     "output_type": "stream",
     "text": [
      "6it [00:00,  7.33it/s]\n",
      "7it [00:00,  7.16it/s]\n"
     ]
    },
    {
     "name": "stdout",
     "output_type": "stream",
     "text": [
      "-6.175334369809525 rad\n",
      "-6.234957557418872 rad\n",
      "-0.0482277497607142 rad\n",
      "-0.10785093737006202 rad\n",
      "-0.06028361263474702 rad\n",
      "-6.22290169454484 rad\n"
     ]
    },
    {
     "name": "stderr",
     "output_type": "stream",
     "text": [
      "6it [00:00,  7.27it/s]\n",
      "7it [00:00,  7.52it/s]\n"
     ]
    },
    {
     "name": "stdout",
     "output_type": "stream",
     "text": [
      "-6.176460031185371 rad\n",
      "-6.235413748746854 rad\n",
      "-0.047771558432732064 rad\n",
      "-0.10672527599421455 rad\n",
      "-0.05957282205767145 rad\n",
      "-6.223612485121915 rad\n"
     ]
    },
    {
     "name": "stderr",
     "output_type": "stream",
     "text": [
      "6it [00:00,  7.37it/s]\n",
      "7it [00:00,  7.34it/s]\n"
     ]
    },
    {
     "name": "stdout",
     "output_type": "stream",
     "text": [
      "-6.177585962234877 rad\n",
      "-6.235870922675705 rad\n",
      "-0.04731438450388081 rad\n",
      "-0.10559934494470902 rad\n",
      "-0.058863840159675274 rad\n",
      "-6.2243214670199105 rad\n"
     ]
    },
    {
     "name": "stderr",
     "output_type": "stream",
     "text": [
      "6it [00:00,  7.04it/s]\n",
      "7it [00:00,  7.04it/s]\n"
     ]
    },
    {
     "name": "stdout",
     "output_type": "stream",
     "text": [
      "-6.178712160215624 rad\n",
      "-6.236329082198477 rad\n",
      "-0.04685622498110931 rad\n",
      "-0.10447314696396237 rad\n",
      "-0.05815666074571979 rad\n",
      "-6.225028646433866 rad\n"
     ]
    },
    {
     "name": "stderr",
     "output_type": "stream",
     "text": [
      "6it [00:00,  7.21it/s]\n",
      "7it [00:00,  7.31it/s]\n"
     ]
    },
    {
     "name": "stdout",
     "output_type": "stream",
     "text": [
      "-6.179838622381195 rad\n",
      "-6.2367882303195135 rad\n",
      "-0.04639707686007277 rad\n",
      "-0.10334668479839149 rad\n",
      "-0.05745127764506641 rad\n",
      "-6.22573402953452 rad\n"
     ]
    },
    {
     "name": "stderr",
     "output_type": "stream",
     "text": [
      "6it [00:00,  6.97it/s]\n",
      "7it [00:01,  7.00it/s]\n"
     ]
    },
    {
     "name": "stdout",
     "output_type": "stream",
     "text": [
      "-6.1809653459812095 rad\n",
      "-6.2372483700545 rad\n",
      "-0.04593693712508662 rad\n",
      "-0.10221996119837673 rad\n",
      "-0.05674768471118652 rad\n",
      "-6.226437622468399 rad\n"
     ]
    },
    {
     "name": "stderr",
     "output_type": "stream",
     "text": [
      "6it [00:00,  7.13it/s]\n",
      "7it [00:00,  7.16it/s]\n"
     ]
    },
    {
     "name": "stdout",
     "output_type": "stream",
     "text": [
      "-6.182092328261364 rad\n",
      "-6.23770950443051 rad\n",
      "-0.04547580274907581 rad\n",
      "-0.10109297891822289 rad\n",
      "-0.056045875821673974 rad\n",
      "-6.227139431357912 rad\n"
     ]
    },
    {
     "name": "stderr",
     "output_type": "stream",
     "text": [
      "6it [00:00,  7.37it/s]\n",
      "7it [00:00,  7.19it/s]\n"
     ]
    },
    {
     "name": "stdout",
     "output_type": "stream",
     "text": [
      "-6.183219566463466 rad\n",
      "-6.238171636486058 rad\n",
      "-0.04501367069352824 rad\n",
      "-0.09996574071612008 rad\n",
      "-0.055345844878152306 rad\n",
      "-6.227839462301434 rad\n"
     ]
    },
    {
     "name": "stderr",
     "output_type": "stream",
     "text": [
      "6it [00:00,  7.10it/s]\n",
      "7it [00:00,  7.36it/s]\n"
     ]
    },
    {
     "name": "stdout",
     "output_type": "stream",
     "text": [
      "-6.18434705782548 rad\n",
      "-6.23863476927114 rad\n",
      "-0.04455053790844543 rad\n",
      "-0.09883824935410557 rad\n",
      "-0.05464758580618678 rad\n",
      "-6.2285377213733994 rad\n"
     ]
    },
    {
     "name": "stderr",
     "output_type": "stream",
     "text": [
      "6it [00:00,  7.36it/s]\n",
      "7it [00:00,  7.47it/s]\n"
     ]
    },
    {
     "name": "stdout",
     "output_type": "stream",
     "text": [
      "-6.185474799581563 rad\n",
      "-6.239098905847294 rad\n",
      "-0.04408640133229236 rad\n",
      "-0.0977105075980238 rad\n",
      "-0.053951092555195146 rad\n",
      "-6.229234214624391 rad\n"
     ]
    },
    {
     "name": "stderr",
     "output_type": "stream",
     "text": [
      "6it [00:00,  7.26it/s]\n",
      "7it [00:00,  7.35it/s]\n"
     ]
    },
    {
     "name": "stdout",
     "output_type": "stream",
     "text": [
      "-6.186602788962096 rad\n",
      "-6.239564049287637 rad\n",
      "-0.04362125789194948 rad\n",
      "-0.09658251821748998 rad\n",
      "-0.053256359098356576 rad\n",
      "-6.22992894808123 rad\n"
     ]
    },
    {
     "name": "stderr",
     "output_type": "stream",
     "text": [
      "6it [00:00,  7.20it/s]\n",
      "7it [00:00,  7.35it/s]\n"
     ]
    },
    {
     "name": "stdout",
     "output_type": "stream",
     "text": [
      "-6.18773102319374 rad\n",
      "-6.240030202676922 rad\n",
      "-0.04315510450266391 rad\n",
      "-0.09545428398584699 rad\n",
      "-0.05256337943252376 rad\n",
      "-6.2306219277470625 rad\n"
     ]
    },
    {
     "name": "stderr",
     "output_type": "stream",
     "text": [
      "6it [00:00,  7.09it/s]\n",
      "7it [00:01,  6.91it/s]\n"
     ]
    },
    {
     "name": "stdout",
     "output_type": "stream",
     "text": [
      "-6.188859499499458 rad\n",
      "-6.240497369111589 rad\n",
      "-0.04268793806799698 rad\n",
      "-0.09432580768012899 rad\n",
      "-0.0518721475781323 rad\n",
      "-6.231313159601454 rad\n"
     ]
    },
    {
     "name": "stderr",
     "output_type": "stream",
     "text": [
      "6it [00:00,  7.05it/s]\n",
      "7it [00:00,  7.22it/s]\n"
     ]
    },
    {
     "name": "stdout",
     "output_type": "stream",
     "text": [
      "-6.189988215098564 rad\n",
      "-6.240965551699809 rad\n",
      "-0.04221975547977763 rad\n",
      "-0.09319709208102189 rad\n",
      "-0.05118265757911411 rad\n",
      "-6.232002649600473 rad\n"
     ]
    },
    {
     "name": "stderr",
     "output_type": "stream",
     "text": [
      "6it [00:00,  7.28it/s]\n",
      "7it [00:00,  7.26it/s]\n"
     ]
    },
    {
     "name": "stdout",
     "output_type": "stream",
     "text": [
      "-6.191117167206764 rad\n",
      "-6.241434753561537 rad\n",
      "-0.041750553618050024 rad\n",
      "-0.09206813997282204 rad\n",
      "-0.05049490350280594 rad\n",
      "-6.232690403676781 rad\n"
     ]
    },
    {
     "name": "stderr",
     "output_type": "stream",
     "text": [
      "6it [00:00,  7.43it/s]\n",
      "7it [00:00,  7.28it/s]\n"
     ]
    },
    {
     "name": "stdout",
     "output_type": "stream",
     "text": [
      "-6.1922463530361895 rad\n",
      "-6.241904977828561 rad\n",
      "-0.04128032935102466 rad\n",
      "-0.09093895414339714 rad\n",
      "-0.04980887943986234 rad\n",
      "-6.233376427739724 rad\n"
     ]
    },
    {
     "name": "stderr",
     "output_type": "stream",
     "text": [
      "6it [00:00,  7.37it/s]\n",
      "7it [00:00,  7.40it/s]\n"
     ]
    },
    {
     "name": "stdout",
     "output_type": "stream",
     "text": [
      "-6.1933757697954395 rad\n",
      "-6.242376227644559 rad\n",
      "-0.040809079535027326 rad\n",
      "-0.08980953738414676 rad\n",
      "-0.04912457950416593 rad\n",
      "-6.23406072767542 rad\n"
     ]
    },
    {
     "name": "stderr",
     "output_type": "stream",
     "text": [
      "6it [00:00,  7.48it/s]\n",
      "7it [00:00,  7.31it/s]\n"
     ]
    },
    {
     "name": "stdout",
     "output_type": "stream",
     "text": [
      "-6.194505414689623 rad\n",
      "-6.242848506165139 rad\n",
      "-0.04033680101444759 rad\n",
      "-0.08867989248996322 rad\n",
      "-0.048441997832740835 rad\n",
      "-6.234743309346845 rad\n"
     ]
    },
    {
     "name": "stderr",
     "output_type": "stream",
     "text": [
      "6it [00:00,  7.23it/s]\n",
      "7it [00:00,  7.32it/s]\n"
     ]
    },
    {
     "name": "stdout",
     "output_type": "stream",
     "text": [
      "-6.195635284920398 rad\n",
      "-6.243321816557897 rad\n",
      "-0.03986349062168948 rad\n",
      "-0.08755002225918851 rad\n",
      "-0.04776112858566206 rad\n",
      "-6.235424178593924 rad\n"
     ]
    },
    {
     "name": "stderr",
     "output_type": "stream",
     "text": [
      "6it [00:00,  7.50it/s]\n",
      "7it [00:00,  7.32it/s]\n"
     ]
    },
    {
     "name": "stdout",
     "output_type": "stream",
     "text": [
      "-6.196765377686009 rad\n",
      "-6.243796162002467 rad\n",
      "-0.03938914517711911 rad\n",
      "-0.08641992949357746 rad\n",
      "-0.047081965945968474 rad\n",
      "-6.236103341233617 rad\n"
     ]
    },
    {
     "name": "stderr",
     "output_type": "stream",
     "text": [
      "6it [00:00,  7.23it/s]\n",
      "7it [00:00,  7.17it/s]\n"
     ]
    },
    {
     "name": "stdout",
     "output_type": "stream",
     "text": [
      "-6.197895690181332 rad\n",
      "-6.244271545690573 rad\n",
      "-0.038913761489013154 rad\n",
      "-0.0852896169982551 rad\n",
      "-0.04640450411957664 rad\n",
      "-6.236780803060009 rad\n"
     ]
    },
    {
     "name": "stderr",
     "output_type": "stream",
     "text": [
      "6it [00:00,  7.23it/s]\n",
      "7it [00:00,  7.08it/s]\n"
     ]
    },
    {
     "name": "stdout",
     "output_type": "stream",
     "text": [
      "-6.19902621959791 rad\n",
      "-6.244747970826078 rad\n",
      "-0.038437336353508655 rad\n",
      "-0.08415908758167667 rad\n",
      "-0.045728737335189784 rad\n",
      "-6.2374565698443964 rad\n"
     ]
    },
    {
     "name": "stderr",
     "output_type": "stream",
     "text": [
      "6it [00:00,  7.25it/s]\n",
      "7it [00:00,  7.17it/s]\n"
     ]
    },
    {
     "name": "stdout",
     "output_type": "stream",
     "text": [
      "-6.200156963123998 rad\n",
      "-6.2452254406250365 rad\n",
      "-0.037959866554549304 rad\n",
      "-0.08302834405558812 rad\n",
      "-0.04505465984421253 rad\n",
      "-6.238130647335374 rad\n"
     ]
    },
    {
     "name": "stderr",
     "output_type": "stream",
     "text": [
      "6it [00:00,  7.40it/s]\n",
      "7it [00:00,  7.28it/s]\n"
     ]
    },
    {
     "name": "stdout",
     "output_type": "stream",
     "text": [
      "-6.201287917944603 rad\n",
      "-6.245703958315751 rad\n",
      "-0.03748134886383481 rad\n",
      "-0.08189738923498302 rad\n",
      "-0.04438226592066297 rad\n",
      "-6.238803041258923 rad\n"
     ]
    },
    {
     "name": "stderr",
     "output_type": "stream",
     "text": [
      "6it [00:00,  7.22it/s]\n",
      "7it [00:00,  7.48it/s]\n"
     ]
    },
    {
     "name": "stdout",
     "output_type": "stream",
     "text": [
      "-6.202419081241523 rad\n",
      "-6.246183527138818 rad\n",
      "-0.037001780040768484 rad\n",
      "-0.08076622593806393 rad\n",
      "-0.043711549861085164 rad\n",
      "-6.2394737573185015 rad\n"
     ]
    },
    {
     "name": "stderr",
     "output_type": "stream",
     "text": [
      "6it [00:00,  7.27it/s]\n",
      "7it [00:01,  6.96it/s]\n"
     ]
    },
    {
     "name": "stdout",
     "output_type": "stream",
     "text": [
      "-6.2035504501933865 rad\n",
      "-6.246664150347183 rad\n",
      "-0.03652115683240309 rad\n",
      "-0.07963485698619976 rad\n",
      "-0.043042505984462576 rad\n",
      "-6.240142801195123 rad\n"
     ]
    },
    {
     "name": "stderr",
     "output_type": "stream",
     "text": [
      "6it [00:00,  7.11it/s]\n",
      "7it [00:01,  6.76it/s]\n"
     ]
    },
    {
     "name": "stdout",
     "output_type": "stream",
     "text": [
      "-6.2046820219757 rad\n",
      "-6.247145831206195 rad\n",
      "-0.03603947597339108 rad\n",
      "-0.07850328520388583 rad\n",
      "-0.042375128632131 rad\n",
      "-6.240810178547456 rad\n"
     ]
    },
    {
     "name": "stderr",
     "output_type": "stream",
     "text": [
      "6it [00:00,  6.39it/s]\n",
      "7it [00:01,  6.94it/s]\n"
     ]
    },
    {
     "name": "stdout",
     "output_type": "stream",
     "text": [
      "-6.205813793760884 rad\n",
      "-6.247628572993658 rad\n",
      "-0.03555673418592864 rad\n",
      "-0.07737151341870208 rad\n",
      "-0.041709412167691085 rad\n",
      "-6.241475895011895 rad\n"
     ]
    },
    {
     "name": "stderr",
     "output_type": "stream",
     "text": [
      "6it [00:00,  6.78it/s]\n",
      "7it [00:01,  6.15it/s]\n"
     ]
    },
    {
     "name": "stdout",
     "output_type": "stream",
     "text": [
      "-6.206945762718314 rad\n",
      "-6.248112378999881 rad\n",
      "-0.03507292817970553 rad\n",
      "-0.07623954446127135 rad\n",
      "-0.04104535097692441 rad\n",
      "-6.242139956202662 rad\n"
     ]
    },
    {
     "name": "stderr",
     "output_type": "stream",
     "text": [
      "6it [00:00,  7.03it/s]\n",
      "7it [00:01,  6.94it/s]\n"
     ]
    },
    {
     "name": "stdout",
     "output_type": "stream",
     "text": [
      "-6.208077926014367 rad\n",
      "-6.2485972525277385 rad\n",
      "-0.03458805465184778 rad\n",
      "-0.07510738116521898 rad\n",
      "-0.04038293946770333 rad\n",
      "-6.242802367711883 rad\n"
     ]
    },
    {
     "name": "stderr",
     "output_type": "stream",
     "text": [
      "6it [00:00,  7.00it/s]\n",
      "7it [00:00,  7.17it/s]\n"
     ]
    },
    {
     "name": "stdout",
     "output_type": "stream",
     "text": [
      "-6.2092102808124565 rad\n",
      "-6.249083196892718 rad\n",
      "-0.03410211028686838 rad\n",
      "-0.07397502636712971 rad\n",
      "-0.03972217206990836 rad\n",
      "-6.243463135109678 rad\n"
     ]
    },
    {
     "name": "stderr",
     "output_type": "stream",
     "text": [
      "6it [00:00,  7.29it/s]\n",
      "7it [00:00,  7.34it/s]\n"
     ]
    },
    {
     "name": "stdout",
     "output_type": "stream",
     "text": [
      "-6.210342824273079 rad\n",
      "-6.249570215422976 rad\n",
      "-0.033615091756610926 rad\n",
      "-0.0728424829065073 rad\n",
      "-0.03906304323534071 rad\n",
      "-6.244122263944245 rad\n"
     ]
    },
    {
     "name": "stderr",
     "output_type": "stream",
     "text": [
      "6it [00:00,  7.44it/s]\n",
      "7it [00:00,  7.46it/s]\n"
     ]
    },
    {
     "name": "stdout",
     "output_type": "stream",
     "text": [
      "-6.211475553553854 rad\n",
      "-6.250058311459391 rad\n",
      "-0.03312699572019495 rad\n",
      "-0.07170975362573184 rad\n",
      "-0.03840554743763658 rad\n",
      "-6.24477975974195 rad\n"
     ]
    },
    {
     "name": "stderr",
     "output_type": "stream",
     "text": [
      "6it [00:00,  7.41it/s]\n",
      "7it [00:00,  7.18it/s]\n"
     ]
    },
    {
     "name": "stdout",
     "output_type": "stream",
     "text": [
      "-6.212608465809568 rad\n",
      "-6.250547488355622 rad\n",
      "-0.03263781882396399 rad\n",
      "-0.07057684137001852 rad\n",
      "-0.03774967917218186 rad\n",
      "-6.245435628007405 rad\n"
     ]
    },
    {
     "name": "stderr",
     "output_type": "stream",
     "text": [
      "6it [00:00,  7.45it/s]\n",
      "7it [00:00,  7.19it/s]\n"
     ]
    },
    {
     "name": "stdout",
     "output_type": "stream",
     "text": [
      "-6.213741558192211 rad\n",
      "-6.251037749478157 rad\n",
      "-0.032147557701429186 rad\n",
      "-0.06944374898737493 rad\n",
      "-0.03709543295602735 rad\n",
      "-6.246089874223559 rad\n"
     ]
    },
    {
     "name": "stderr",
     "output_type": "stream",
     "text": [
      "6it [00:00,  7.30it/s]\n",
      "7it [00:00,  7.43it/s]\n"
     ]
    },
    {
     "name": "stdout",
     "output_type": "stream",
     "text": [
      "-6.214874827851027 rad\n",
      "-6.251529098206371 rad\n",
      "-0.03165620897321508 rad\n",
      "-0.06831047932855938 rad\n",
      "-0.03644280332780303 rad\n",
      "-6.246742503851783 rad\n"
     ]
    },
    {
     "name": "stderr",
     "output_type": "stream",
     "text": [
      "6it [00:00,  7.30it/s]\n",
      "7it [00:00,  7.20it/s]\n"
     ]
    },
    {
     "name": "stdout",
     "output_type": "stream",
     "text": [
      "-6.216008271932547 rad\n",
      "-6.252021537932581 rad\n",
      "-0.031163769247005035 rad\n",
      "-0.06717703524703911 rad\n",
      "-0.035791784847632346 rad\n",
      "-6.247393522331954 rad\n"
     ]
    },
    {
     "name": "stderr",
     "output_type": "stream",
     "text": [
      "6it [00:00,  7.19it/s]\n",
      "7it [00:00,  7.32it/s]\n"
     ]
    },
    {
     "name": "stdout",
     "output_type": "stream",
     "text": [
      "-6.21714188758064 rad\n",
      "-6.252515072062101 rad\n",
      "-0.030670235117485234 rad\n",
      "-0.06604341959894588 rad\n",
      "-0.03514237209705007 rad\n",
      "-6.248042935082536 rad\n"
     ]
    },
    {
     "name": "stderr",
     "output_type": "stream",
     "text": [
      "6it [00:00,  7.46it/s]\n",
      "7it [00:00,  7.47it/s]\n"
     ]
    },
    {
     "name": "stdout",
     "output_type": "stream",
     "text": [
      "-6.218275671936549 rad\n",
      "-6.253009704013296 rad\n",
      "-0.030175603166290088 rad\n",
      "-0.0649096352430365 rad\n",
      "-0.03449455967891524 rad\n",
      "-6.248690747500671 rad\n"
     ]
    },
    {
     "name": "stderr",
     "output_type": "stream",
     "text": [
      "6it [00:00,  7.13it/s]\n",
      "7it [00:00,  7.38it/s]\n"
     ]
    },
    {
     "name": "stdout",
     "output_type": "stream",
     "text": [
      "-6.219409622138938 rad\n",
      "-6.25350543721764 rad\n",
      "-0.029679869961945382 rad\n",
      "-0.0637756850406479 rad\n",
      "-0.033848342217328575 rad\n",
      "-6.249336964962257 rad\n"
     ]
    },
    {
     "name": "stderr",
     "output_type": "stream",
     "text": [
      "6it [00:00,  7.28it/s]\n",
      "7it [00:00,  7.41it/s]\n"
     ]
    },
    {
     "name": "stdout",
     "output_type": "stream",
     "text": [
      "-6.220543735323931 rad\n",
      "-6.254002275119773 rad\n",
      "-0.029183032059813208 rad\n",
      "-0.06264157185565589 rad\n",
      "-0.033203714357546765 rad\n",
      "-6.2499815928220395 rad\n"
     ]
    },
    {
     "name": "stderr",
     "output_type": "stream",
     "text": [
      "6it [00:00,  6.96it/s]\n",
      "7it [00:00,  7.01it/s]\n"
     ]
    },
    {
     "name": "stdout",
     "output_type": "stream",
     "text": [
      "-6.221678008625155 rad\n",
      "-6.254500221177549 rad\n",
      "-0.028685086002036897 rad\n",
      "-0.0615072985544316 rad\n",
      "-0.03256067076590119 rad\n",
      "-6.250624636413685 rad\n"
     ]
    },
    {
     "name": "stderr",
     "output_type": "stream",
     "text": [
      "6it [00:00,  7.14it/s]\n",
      "7it [00:00,  7.18it/s]\n"
     ]
    },
    {
     "name": "stdout",
     "output_type": "stream",
     "text": [
      "-6.222812439173788 rad\n",
      "-6.254999278862105 rad\n",
      "-0.028186028317481515 rad\n",
      "-0.06037286800579844 rad\n",
      "-0.031919206129711775 rad\n",
      "-6.2512661010498745 rad\n"
     ]
    },
    {
     "name": "stderr",
     "output_type": "stream",
     "text": [
      "6it [00:00,  7.34it/s]\n",
      "7it [00:00,  7.34it/s]\n"
     ]
    },
    {
     "name": "stdout",
     "output_type": "stream",
     "text": [
      "-6.223947024098596 rad\n",
      "-6.255499451657906 rad\n",
      "-0.02768585552168057 rad\n",
      "-0.05923828308099033 rad\n",
      "-0.031279315157204834 rad\n",
      "-6.251905992022381 rad\n"
     ]
    },
    {
     "name": "stderr",
     "output_type": "stream",
     "text": [
      "6it [00:00,  7.18it/s]\n",
      "7it [00:00,  7.14it/s]\n"
     ]
    },
    {
     "name": "stdout",
     "output_type": "stream",
     "text": [
      "-6.225081760525978 rad\n",
      "-6.256000743062808 rad\n",
      "-0.027184564116777832 rad\n",
      "-0.058103546653608174 rad\n",
      "-0.030640992577430026 rad\n",
      "-6.252544314602156 rad\n"
     ]
    },
    {
     "name": "stderr",
     "output_type": "stream",
     "text": [
      "6it [00:00,  7.09it/s]\n",
      "7it [00:00,  7.12it/s]\n"
     ]
    },
    {
     "name": "stdout",
     "output_type": "stream",
     "text": [
      "-6.22621664558001 rad\n",
      "-6.256503156588117 rad\n",
      "-0.026682150591468723 rad\n",
      "-0.05696866159957592 rad\n",
      "-0.030004233140175973 rad\n",
      "-6.253181074039411 rad\n"
     ]
    },
    {
     "name": "stderr",
     "output_type": "stream",
     "text": [
      "6it [00:00,  7.10it/s]\n",
      "7it [00:00,  7.34it/s]\n"
     ]
    },
    {
     "name": "stdout",
     "output_type": "stream",
     "text": [
      "-6.227351676382487 rad\n",
      "-6.2570066957586405 rad\n",
      "-0.026178611420945685 rad\n",
      "-0.0558336307970988 rad\n",
      "-0.029369031615889885 rad\n",
      "-6.253816275563697 rad\n"
     ]
    },
    {
     "name": "stderr",
     "output_type": "stream",
     "text": [
      "6it [00:00,  7.25it/s]\n",
      "7it [00:00,  7.34it/s]\n"
     ]
    },
    {
     "name": "stdout",
     "output_type": "stream",
     "text": [
      "-6.228486850052969 rad\n",
      "-6.257511364112746 rad\n",
      "-0.025673943066839566 rad\n",
      "-0.05469845712661803 rad\n",
      "-0.02873538279559318 rad\n",
      "-6.254449924383993 rad\n"
     ]
    },
    {
     "name": "stderr",
     "output_type": "stream",
     "text": [
      "6it [00:00,  7.41it/s]\n",
      "7it [00:00,  7.38it/s]\n"
     ]
    },
    {
     "name": "stdout",
     "output_type": "stream",
     "text": [
      "-6.229622163708816 rad\n",
      "-6.258017165202426 rad\n",
      "-0.025168141977160552 rad\n",
      "-0.05356314347076996 rad\n",
      "-0.02810328149079977 rad\n",
      "-6.255082025688786 rad\n"
     ]
    },
    {
     "name": "stderr",
     "output_type": "stream",
     "text": [
      "6it [00:00,  7.36it/s]\n",
      "7it [00:00,  7.26it/s]\n"
     ]
    },
    {
     "name": "stdout",
     "output_type": "stream",
     "text": [
      "-6.2307576144652455 rad\n",
      "-6.258524102593345 rad\n",
      "-0.02466120458624177 rad\n",
      "-0.052427692714340335 rad\n",
      "-0.0274727225334348 rad\n",
      "-6.255712584646151 rad\n"
     ]
    },
    {
     "name": "stderr",
     "output_type": "stream",
     "text": [
      "6it [00:00,  7.14it/s]\n",
      "7it [00:00,  7.38it/s]\n"
     ]
    },
    {
     "name": "stdout",
     "output_type": "stream",
     "text": [
      "-6.231893199435364 rad\n",
      "-6.259032179864905 rad\n",
      "-0.02415312731468111 rad\n",
      "-0.05129210774422299 rad\n",
      "-0.026843700775750712 rad\n",
      "-6.2563416064038355 rad\n"
     ]
    },
    {
     "name": "stderr",
     "output_type": "stream",
     "text": [
      "6it [00:00,  6.77it/s]\n",
      "7it [00:01,  6.83it/s]\n"
     ]
    },
    {
     "name": "stdout",
     "output_type": "stream",
     "text": [
      "-6.233028915730213 rad\n",
      "-6.259541400610305 rad\n",
      "-0.023643906569280837 rad\n",
      "-0.05015639144937323 rad\n",
      "-0.026216211090247743 rad\n",
      "-6.256969096089339 rad\n"
     ]
    },
    {
     "name": "stderr",
     "output_type": "stream",
     "text": [
      "6it [00:00,  7.05it/s]\n",
      "7it [00:00,  7.28it/s]\n"
     ]
    },
    {
     "name": "stdout",
     "output_type": "stream",
     "text": [
      "-6.234164760458819 rad\n",
      "-6.260051768436595 rad\n",
      "-0.023133538742990734 rad\n",
      "-0.04902054672076739 rad\n",
      "-0.025590248369591784 rad\n",
      "-6.2575950588099944 rad\n"
     ]
    },
    {
     "name": "stderr",
     "output_type": "stream",
     "text": [
      "6it [00:00,  7.30it/s]\n",
      "7it [00:00,  7.43it/s]\n"
     ]
    },
    {
     "name": "stdout",
     "output_type": "stream",
     "text": [
      "-6.2353007307282295 rad\n",
      "-6.260563286964738 rad\n",
      "-0.022622020214848604 rad\n",
      "-0.047884576451356686 rad\n",
      "-0.02496580752653399 rad\n",
      "-6.258219499653052 rad\n"
     ]
    },
    {
     "name": "stderr",
     "output_type": "stream",
     "text": [
      "6it [00:00,  7.16it/s]\n",
      "7it [00:00,  7.38it/s]\n"
     ]
    },
    {
     "name": "stdout",
     "output_type": "stream",
     "text": [
      "-6.236436823643562 rad\n",
      "-6.261075959829666 rad\n",
      "-0.022109347349920316 rad\n",
      "-0.046748483536024565 rad\n",
      "-0.024342883493827294 rad\n",
      "-6.258842423685759 rad\n"
     ]
    },
    {
     "name": "stderr",
     "output_type": "stream",
     "text": [
      "6it [00:00,  7.03it/s]\n",
      "7it [00:00,  7.20it/s]\n"
     ]
    },
    {
     "name": "stdout",
     "output_type": "stream",
     "text": [
      "-6.237573036308044 rad\n",
      "-6.261589790680345 rad\n",
      "-0.02159551649924163 rad\n",
      "-0.04561227087154229 rad\n",
      "-0.023721471224149582 rad\n",
      "-6.259463835955437 rad\n"
     ]
    },
    {
     "name": "stderr",
     "output_type": "stream",
     "text": [
      "6it [00:00,  7.42it/s]\n",
      "7it [00:00,  7.29it/s]\n"
     ]
    },
    {
     "name": "stdout",
     "output_type": "stream",
     "text": [
      "-6.238709365823061 rad\n",
      "-6.262104783179829 rad\n",
      "-0.021080523999756906 rad\n",
      "-0.04447594135652544 rad\n",
      "-0.023101565690020198 rad\n",
      "-6.2600837414895665 rad\n"
     ]
    },
    {
     "name": "stderr",
     "output_type": "stream",
     "text": [
      "6it [00:00,  7.28it/s]\n",
      "7it [00:00,  7.33it/s]\n"
     ]
    },
    {
     "name": "stdout",
     "output_type": "stream",
     "text": [
      "-6.239845809288198 rad\n",
      "-6.262620941005325 rad\n",
      "-0.02056436617426094 rad\n",
      "-0.04333949789138858 rad\n",
      "-0.022483161883720904 rad\n",
      "-6.260702145295865 rad\n"
     ]
    },
    {
     "name": "stderr",
     "output_type": "stream",
     "text": [
      "6it [00:00,  7.32it/s]\n",
      "7it [00:00,  7.42it/s]\n"
     ]
    },
    {
     "name": "stdout",
     "output_type": "stream",
     "text": [
      "-6.240982363801283 rad\n",
      "-6.263138267848249 rad\n",
      "-0.020047039331337224 rad\n",
      "-0.04220294337830355 rad\n",
      "-0.021866254817216824 rad\n",
      "-6.261319052362369 rad\n"
     ]
    },
    {
     "name": "stderr",
     "output_type": "stream",
     "text": [
      "6it [00:00,  6.99it/s]\n",
      "7it [00:00,  7.39it/s]\n"
     ]
    },
    {
     "name": "stdout",
     "output_type": "stream",
     "text": [
      "-6.242119026458434 rad\n",
      "-6.263656767414289 rad\n",
      "-0.01952853976529756 rad\n",
      "-0.04106628072115237 rad\n",
      "-0.02125083952207385 rad\n",
      "-6.261934467657513 rad\n"
     ]
    },
    {
     "name": "stderr",
     "output_type": "stream",
     "text": [
      "6it [00:00,  7.34it/s]\n",
      "7it [00:00,  7.44it/s]\n"
     ]
    },
    {
     "name": "stdout",
     "output_type": "stream",
     "text": [
      "-6.243255794354102 rad\n",
      "-6.264176443423463 rad\n",
      "-0.019008863756122985 rad\n",
      "-0.03992951282548418 rad\n",
      "-0.020636911049383144 rad\n",
      "-6.262548396130203 rad\n"
     ]
    },
    {
     "name": "stderr",
     "output_type": "stream",
     "text": [
      "6it [00:00,  7.25it/s]\n",
      "7it [00:00,  7.43it/s]\n"
     ]
    },
    {
     "name": "stdout",
     "output_type": "stream",
     "text": [
      "-6.244392664581113 rad\n",
      "-6.2646972996101855 rad\n",
      "-0.018488007569400722 rad\n",
      "-0.03879264259847259 rad\n",
      "-0.020024464469678538 rad\n",
      "-6.263160842709908 rad\n"
     ]
    },
    {
     "name": "stderr",
     "output_type": "stream",
     "text": [
      "6it [00:00,  7.40it/s]\n",
      "7it [00:00,  7.24it/s]\n"
     ]
    },
    {
     "name": "stdout",
     "output_type": "stream",
     "text": [
      "-6.245529634230717 rad\n",
      "-6.265219339723321 rad\n",
      "-0.017965967456265552 rad\n",
      "-0.037655672948868624 rad\n",
      "-0.01941349487285926 rad\n",
      "-6.263771812306727 rad\n"
     ]
    },
    {
     "name": "stderr",
     "output_type": "stream",
     "text": [
      "6it [00:00,  7.31it/s]\n",
      "7it [00:00,  7.33it/s]\n"
     ]
    },
    {
     "name": "stdout",
     "output_type": "stream",
     "text": [
      "-6.246666700392629 rad\n",
      "-6.265742567526251 rad\n",
      "-0.017442739653334982 rad\n",
      "-0.036518606786957175 rad\n",
      "-0.018803997368110448 rad\n",
      "-6.264381309811476 rad\n"
     ]
    },
    {
     "name": "stderr",
     "output_type": "stream",
     "text": [
      "6it [00:00,  7.41it/s]\n",
      "7it [00:00,  7.34it/s]\n"
     ]
    },
    {
     "name": "stdout",
     "output_type": "stream",
     "text": [
      "-6.247803860155073 rad\n",
      "-6.266266986796936 rad\n",
      "-0.016918320382651064 rad\n",
      "-0.03538144702451351 rad\n",
      "-0.01819596708382587 rad\n",
      "-6.26498934009576 rad\n"
     ]
    },
    {
     "name": "stderr",
     "output_type": "stream",
     "text": [
      "6it [00:00,  7.36it/s]\n",
      "7it [00:00,  7.47it/s]\n"
     ]
    },
    {
     "name": "stdout",
     "output_type": "stream",
     "text": [
      "-6.248941110604829 rad\n",
      "-6.266792601327971 rad\n",
      "-0.016392705851615563 rad\n",
      "-0.03424419657475708 rad\n",
      "-0.01758939916752711 rad\n",
      "-6.26559590801206 rad\n"
     ]
    },
    {
     "name": "stderr",
     "output_type": "stream",
     "text": [
      "6it [00:00,  7.40it/s]\n",
      "7it [00:00,  7.27it/s]\n"
     ]
    },
    {
     "name": "stdout",
     "output_type": "stream",
     "text": [
      "-6.250078448827278 rad\n",
      "-6.267319414926655 rad\n",
      "-0.015865892252930447 rad\n",
      "-0.03310685835230842 rad\n",
      "-0.016984288785788948 rad\n",
      "-6.266201018393797 rad\n"
     ]
    },
    {
     "name": "stderr",
     "output_type": "stream",
     "text": [
      "6it [00:00,  6.08it/s]\n",
      "7it [00:00,  7.23it/s]\n"
     ]
    },
    {
     "name": "stdout",
     "output_type": "stream",
     "text": [
      "-6.251215871906443 rad\n",
      "-6.267847431415053 rad\n",
      "-0.015337875764533049 rad\n",
      "-0.031969435273143 rad\n",
      "-0.01638063112415855 rad\n",
      "-6.266804676055427 rad\n"
     ]
    },
    {
     "name": "stderr",
     "output_type": "stream",
     "text": [
      "6it [00:00,  7.34it/s]\n",
      "7it [00:00,  7.19it/s]\n"
     ]
    },
    {
     "name": "stdout",
     "output_type": "stream",
     "text": [
      "-6.252353376925038 rad\n",
      "-6.2683766546300514 rad\n",
      "-0.014808652549535228 rad\n",
      "-0.030831930254547668 rad\n",
      "-0.015778421387079522 rad\n",
      "-6.267406885792507 rad\n"
     ]
    },
    {
     "name": "stderr",
     "output_type": "stream",
     "text": [
      "6it [00:00,  7.02it/s]\n",
      "7it [00:00,  7.17it/s]\n"
     ]
    },
    {
     "name": "stdout",
     "output_type": "stream",
     "text": [
      "-6.253490960964511 rad\n",
      "-6.268907088423427 rad\n",
      "-0.014278218756158978 rad\n",
      "-0.029694346215075385 rad\n",
      "-0.015177654797814188 rad\n",
      "-6.2680076523817725 rad\n"
     ]
    },
    {
     "name": "stderr",
     "output_type": "stream",
     "text": [
      "6it [00:00,  7.22it/s]\n",
      "7it [00:00,  7.47it/s]\n"
     ]
    },
    {
     "name": "stdout",
     "output_type": "stream",
     "text": [
      "-6.254628621105086 rad\n",
      "-6.269438736661911 rad\n",
      "-0.013746570517675138 rad\n",
      "-0.028556686074499904 rad\n",
      "-0.01457832659836722 rad\n",
      "-6.268606980581219 rad\n"
     ]
    },
    {
     "name": "stderr",
     "output_type": "stream",
     "text": [
      "6it [00:00,  6.87it/s]\n",
      "7it [00:00,  7.08it/s]\n"
     ]
    },
    {
     "name": "stdout",
     "output_type": "stream",
     "text": [
      "-6.2557663544258135 rad\n",
      "-6.269971603227249 rad\n",
      "-0.013213703952337674 rad\n",
      "-0.027418952753772707 rad\n",
      "-0.013980432049407465 rad\n",
      "-6.269204875130178 rad\n"
     ]
    },
    {
     "name": "stderr",
     "output_type": "stream",
     "text": [
      "6it [00:00,  7.21it/s]\n",
      "7it [00:00,  7.34it/s]\n"
     ]
    },
    {
     "name": "stdout",
     "output_type": "stream",
     "text": [
      "-6.256904158004611 rad\n",
      "-6.270505692016263 rad\n",
      "-0.012679615163322833 rad\n",
      "-0.026281149174975038 rad\n",
      "-0.013383966430192906 rad\n",
      "-6.269801340749393 rad\n"
     ]
    },
    {
     "name": "stderr",
     "output_type": "stream",
     "text": [
      "6it [00:00,  7.40it/s]\n",
      "7it [00:00,  7.47it/s]\n"
     ]
    },
    {
     "name": "stdout",
     "output_type": "stream",
     "text": [
      "-6.258042028918311 rad\n",
      "-6.271041006940925 rad\n",
      "-0.012144300238662087 rad\n",
      "-0.025143278261275714 rad\n",
      "-0.012788925038492494 rad\n",
      "-6.270396382141094 rad\n"
     ]
    },
    {
     "name": "stderr",
     "output_type": "stream",
     "text": [
      "6it [00:00,  7.23it/s]\n",
      "7it [00:00,  7.36it/s]\n"
     ]
    },
    {
     "name": "stdout",
     "output_type": "stream",
     "text": [
      "-6.259179964242701 rad\n",
      "-6.271577551928406 rad\n",
      "-0.011607755251180407 rad\n",
      "-0.024005342936884944 rad\n",
      "-0.012195303190513318 rad\n",
      "-6.270990003989073 rad\n"
     ]
    },
    {
     "name": "stderr",
     "output_type": "stream",
     "text": [
      "6it [00:00,  7.45it/s]\n",
      "7it [00:00,  7.30it/s]\n"
     ]
    },
    {
     "name": "stdout",
     "output_type": "stream",
     "text": [
      "-6.260317961052577 rad\n",
      "-6.272115330921155 rad\n",
      "-0.01106997625843098 rad\n",
      "-0.022867346127009025 rad\n",
      "-0.01160309622082023 rad\n",
      "-6.271582210958766 rad\n"
     ]
    },
    {
     "name": "stderr",
     "output_type": "stream",
     "text": [
      "6it [00:00,  7.49it/s]\n",
      "7it [00:00,  7.37it/s]\n"
     ]
    },
    {
     "name": "stdout",
     "output_type": "stream",
     "text": [
      "-6.148406455252941 rad\n",
      "-6.224296157423696 rad\n",
      "-0.05888914975588966 rad\n",
      "-0.13477885192664507 rad\n",
      "-0.07790173269392353 rad\n",
      "-6.205283574485662 rad\n"
     ]
    },
    {
     "name": "stderr",
     "output_type": "stream",
     "text": [
      "6it [00:00,  7.38it/s]\n",
      "7it [00:01,  6.96it/s]\n"
     ]
    },
    {
     "name": "stdout",
     "output_type": "stream",
     "text": [
      "-6.149524832796958 rad\n",
      "-6.224729635710567 rad\n",
      "-0.058455671469019865 rad\n",
      "-0.13366047438262862 rad\n",
      "-0.0771456105339956 rad\n",
      "-6.206039696645591 rad\n"
     ]
    },
    {
     "name": "stderr",
     "output_type": "stream",
     "text": [
      "6it [00:00,  7.32it/s]\n",
      "7it [00:00,  7.00it/s]\n"
     ]
    },
    {
     "name": "stdout",
     "output_type": "stream",
     "text": [
      "-6.1506435445352885 rad\n",
      "-6.225164028031221 rad\n",
      "-0.05802127914836541 rad\n",
      "-0.13254176264429773 rad\n",
      "-0.07639145326026675 rad\n",
      "-6.2067938539193195 rad\n"
     ]
    },
    {
     "name": "stderr",
     "output_type": "stream",
     "text": [
      "6it [00:00,  7.41it/s]\n",
      "7it [00:00,  7.43it/s]\n"
     ]
    },
    {
     "name": "stdout",
     "output_type": "stream",
     "text": [
      "-6.151762587832646 rad\n",
      "-6.225599337121608 rad\n",
      "-0.057585970057978386 rad\n",
      "-0.1314227193469404 rad\n",
      "-0.0756392540672155 rad\n",
      "-6.20754605311237 rad\n"
     ]
    },
    {
     "name": "stderr",
     "output_type": "stream",
     "text": [
      "6it [00:00,  7.14it/s]\n",
      "7it [00:00,  7.36it/s]\n"
     ]
    },
    {
     "name": "stdout",
     "output_type": "stream",
     "text": [
      "-6.152881960048865 rad\n",
      "-6.226035565727873 rad\n",
      "-0.0571497414517137 rad\n",
      "-0.13030334713072111 rad\n",
      "-0.07488900617580763 rad\n",
      "-6.208296301003779 rad\n"
     ]
    },
    {
     "name": "stderr",
     "output_type": "stream",
     "text": [
      "6it [00:00,  7.41it/s]\n",
      "7it [00:00,  7.33it/s]\n"
     ]
    },
    {
     "name": "stdout",
     "output_type": "stream",
     "text": [
      "-6.154001658538943 rad\n",
      "-6.226472716606402 rad\n",
      "-0.056712590573184674 rad\n",
      "-0.1291836486406428 rad\n",
      "-0.07414070283340335 rad\n",
      "-6.209044604346182 rad\n"
     ]
    },
    {
     "name": "stderr",
     "output_type": "stream",
     "text": [
      "6it [00:00,  7.37it/s]\n",
      "7it [00:00,  7.35it/s]\n"
     ]
    },
    {
     "name": "stdout",
     "output_type": "stream",
     "text": [
      "-6.155121680653073 rad\n",
      "-6.226910792523865 rad\n",
      "-0.056274514655720864 rad\n",
      "-0.12806362652651337 rad\n",
      "-0.0733943373136694 rad\n",
      "-6.209790969865917 rad\n"
     ]
    },
    {
     "name": "stderr",
     "output_type": "stream",
     "text": [
      "6it [00:00,  7.38it/s]\n",
      "7it [00:00,  7.18it/s]\n"
     ]
    },
    {
     "name": "stdout",
     "output_type": "stream",
     "text": [
      "-6.156242023736674 rad\n",
      "-6.227349796257262 rad\n",
      "-0.05583551092232408 rad\n",
      "-0.12694328344291206 rad\n",
      "-0.07264990291648354 rad\n",
      "-6.210535404263103 rad\n"
     ]
    },
    {
     "name": "stderr",
     "output_type": "stream",
     "text": [
      "6it [00:00,  7.07it/s]\n",
      "7it [00:00,  7.35it/s]\n"
     ]
    },
    {
     "name": "stdout",
     "output_type": "stream",
     "text": [
      "-6.157362685130433 rad\n",
      "-6.227789730593962 rad\n",
      "-0.055395576585623996 rad\n",
      "-0.1258226220491525 rad\n",
      "-0.07190739296784443 rad\n",
      "-6.211277914211742 rad\n"
     ]
    },
    {
     "name": "stderr",
     "output_type": "stream",
     "text": [
      "6it [00:00,  7.29it/s]\n",
      "7it [00:00,  7.40it/s]\n"
     ]
    },
    {
     "name": "stdout",
     "output_type": "stream",
     "text": [
      "-6.158483662170338 rad\n",
      "-6.228230598331753 rad\n",
      "-0.05495470884783327 rad\n",
      "-0.12470164500924863 rad\n",
      "-0.07116680081978144 rad\n",
      "-6.212018506359804 rad\n"
     ]
    },
    {
     "name": "stderr",
     "output_type": "stream",
     "text": [
      "6it [00:00,  7.42it/s]\n",
      "7it [00:00,  7.35it/s]\n"
     ]
    },
    {
     "name": "stdout",
     "output_type": "stream",
     "text": [
      "-6.159604952187707 rad\n",
      "-6.228672402278882 rad\n",
      "-0.054512904900704484 rad\n",
      "-0.12358035499187903 rad\n",
      "-0.07042811985026098 rad\n",
      "-6.212757187329325 rad\n"
     ]
    },
    {
     "name": "stderr",
     "output_type": "stream",
     "text": [
      "6it [00:00,  7.17it/s]\n",
      "7it [00:00,  7.01it/s]\n"
     ]
    },
    {
     "name": "stdout",
     "output_type": "stream",
     "text": [
      "-6.160726552509233 rad\n",
      "-6.2291151452541005 rad\n",
      "-0.05407016192548619 rad\n",
      "-0.12245875467035283 rad\n",
      "-0.0696913434630968 rad\n",
      "-6.213493963716489 rad\n"
     ]
    },
    {
     "name": "stderr",
     "output_type": "stream",
     "text": [
      "6it [00:00,  7.25it/s]\n",
      "7it [00:00,  7.30it/s]\n"
     ]
    },
    {
     "name": "stdout",
     "output_type": "stream",
     "text": [
      "-6.161848460457016 rad\n",
      "-6.229558830086711 rad\n",
      "-0.05362647709287538 rad\n",
      "-0.12133684672257106 rad\n",
      "-0.06895646508785624 rad\n",
      "-6.21422884209173 rad\n"
     ]
    },
    {
     "name": "stderr",
     "output_type": "stream",
     "text": [
      "6it [00:00,  7.15it/s]\n",
      "7it [00:00,  7.44it/s]\n"
     ]
    },
    {
     "name": "stdout",
     "output_type": "stream",
     "text": [
      "-6.1629706733485925 rad\n",
      "-6.230003459616611 rad\n",
      "-0.05318184756297528 rad\n",
      "-0.12021463383099373 rad\n",
      "-0.06822347817977237 rad\n",
      "-6.214961828999813 rad\n"
     ]
    },
    {
     "name": "stderr",
     "output_type": "stream",
     "text": [
      "6it [00:00,  7.34it/s]\n",
      "7it [00:00,  7.40it/s]\n"
     ]
    },
    {
     "name": "stdout",
     "output_type": "stream",
     "text": [
      "-6.1640931884969845 rad\n",
      "-6.230449036694337 rad\n",
      "-0.05273627048525009 rad\n",
      "-0.11909211868260217 rad\n",
      "-0.06749237621964888 rad\n",
      "-6.215692930959937 rad\n"
     ]
    },
    {
     "name": "stderr",
     "output_type": "stream",
     "text": [
      "6it [00:00,  7.42it/s]\n",
      "7it [00:00,  7.46it/s]\n"
     ]
    },
    {
     "name": "stdout",
     "output_type": "stream",
     "text": [
      "-6.165216003210722 rad\n",
      "-6.230895564181109 rad\n",
      "-0.052289742998476996 rad\n",
      "-0.11796930396886385 rad\n",
      "-0.06676315271377131 rad\n",
      "-6.216422154465815 rad\n"
     ]
    },
    {
     "name": "stderr",
     "output_type": "stream",
     "text": [
      "6it [00:00,  7.32it/s]\n",
      "7it [00:00,  7.46it/s]\n"
     ]
    },
    {
     "name": "stdout",
     "output_type": "stream",
     "text": [
      "-6.166339114793891 rad\n",
      "-6.231343044948883 rad\n",
      "-0.051842262230703984 rad\n",
      "-0.11684619238569516 rad\n",
      "-0.06603580119381425 rad\n",
      "-6.2171495059857715 rad\n"
     ]
    },
    {
     "name": "stderr",
     "output_type": "stream",
     "text": [
      "6it [00:00,  7.42it/s]\n",
      "7it [00:00,  7.41it/s]\n"
     ]
    },
    {
     "name": "stdout",
     "output_type": "stream",
     "text": [
      "-6.167462520546161 rad\n",
      "-6.231791481880384 rad\n",
      "-0.051393825299202334 rad\n",
      "-0.11572278663342495 rad\n",
      "-0.06531031521675112 rad\n",
      "-6.2178749919628356 rad\n"
     ]
    },
    {
     "name": "stderr",
     "output_type": "stream",
     "text": [
      "6it [00:00,  7.18it/s]\n",
      "7it [00:00,  7.35it/s]\n"
     ]
    },
    {
     "name": "stdout",
     "output_type": "stream",
     "text": [
      "-6.168586217762827 rad\n",
      "-6.232240877869166 rad\n",
      "-0.050944429310420425 rad\n",
      "-0.11459908941675945 rad\n",
      "-0.06458668836476322 rad\n",
      "-6.2185986188148235 rad\n"
     ]
    },
    {
     "name": "stderr",
     "output_type": "stream",
     "text": [
      "6it [00:00,  7.32it/s]\n",
      "7it [00:00,  7.03it/s]\n"
     ]
    },
    {
     "name": "stdout",
     "output_type": "stream",
     "text": [
      "-6.169710203734843 rad\n",
      "-6.232691235819647 rad\n",
      "-0.05049407135993933 rad\n",
      "-0.11347510344474321 rad\n",
      "-0.06386491424514773 rad\n",
      "-6.2193203929344385 rad\n"
     ]
    },
    {
     "name": "stderr",
     "output_type": "stream",
     "text": [
      "6it [00:00,  7.45it/s]\n",
      "7it [00:00,  7.18it/s]\n"
     ]
    },
    {
     "name": "stdout",
     "output_type": "stream",
     "text": [
      "-6.170834475748863 rad\n",
      "-6.233142558647161 rad\n",
      "-0.05004274853242441 rad\n",
      "-0.11235083143072355 rad\n",
      "-0.06314498649022715 rad\n",
      "-6.220040320689359 rad\n"
     ]
    },
    {
     "name": "stderr",
     "output_type": "stream",
     "text": [
      "6it [00:00,  7.47it/s]\n",
      "7it [00:00,  7.42it/s]\n"
     ]
    },
    {
     "name": "stdout",
     "output_type": "stream",
     "text": [
      "-6.1719590310872725 rad\n",
      "-6.233594849278006 rad\n",
      "-0.049590457901580454 rad\n",
      "-0.11122627609231328 rad\n",
      "-0.062426898757258265 rad\n",
      "-6.220758408422328 rad\n"
     ]
    },
    {
     "name": "stderr",
     "output_type": "stream",
     "text": [
      "6it [00:00,  7.37it/s]\n",
      "7it [00:01,  6.79it/s]\n"
     ]
    },
    {
     "name": "stdout",
     "output_type": "stream",
     "text": [
      "-6.173083867028232 rad\n",
      "-6.234048110649483 rad\n",
      "-0.04913719653010329 rad\n",
      "-0.11010144015135337 rad\n",
      "-0.06171064472834287 rad\n",
      "-6.221474662451243 rad\n"
     ]
    },
    {
     "name": "stderr",
     "output_type": "stream",
     "text": [
      "6it [00:00,  6.85it/s]\n",
      "7it [00:00,  7.28it/s]\n"
     ]
    },
    {
     "name": "stdout",
     "output_type": "stream",
     "text": [
      "-6.1742089808457115 rad\n",
      "-6.234502345709951 rad\n",
      "-0.04868296146963491 rad\n",
      "-0.10897632633387477 rad\n",
      "-0.06099621811033362 rad\n",
      "-6.222189089069253 rad\n"
     ]
    },
    {
     "name": "stderr",
     "output_type": "stream",
     "text": [
      "6it [00:00,  7.18it/s]\n",
      "7it [00:00,  7.07it/s]\n"
     ]
    },
    {
     "name": "stdout",
     "output_type": "stream",
     "text": [
      "-6.175334369809525 rad\n",
      "-6.234957557418872 rad\n",
      "-0.0482277497607142 rad\n",
      "-0.10785093737006202 rad\n",
      "-0.06028361263474702 rad\n",
      "-6.22290169454484 rad\n"
     ]
    },
    {
     "name": "stderr",
     "output_type": "stream",
     "text": [
      "6it [00:00,  7.20it/s]\n",
      "7it [00:00,  7.15it/s]\n"
     ]
    },
    {
     "name": "stdout",
     "output_type": "stream",
     "text": [
      "-6.176460031185371 rad\n",
      "-6.235413748746854 rad\n",
      "-0.047771558432732064 rad\n",
      "-0.10672527599421455 rad\n",
      "-0.05957282205767145 rad\n",
      "-6.223612485121915 rad\n"
     ]
    },
    {
     "name": "stderr",
     "output_type": "stream",
     "text": [
      "6it [00:00,  7.03it/s]\n",
      "7it [00:00,  7.14it/s]\n"
     ]
    },
    {
     "name": "stdout",
     "output_type": "stream",
     "text": [
      "-6.177585962234877 rad\n",
      "-6.235870922675705 rad\n",
      "-0.04731438450388081 rad\n",
      "-0.10559934494470902 rad\n",
      "-0.058863840159675274 rad\n",
      "-6.2243214670199105 rad\n"
     ]
    },
    {
     "name": "stderr",
     "output_type": "stream",
     "text": [
      "6it [00:00,  7.21it/s]\n",
      "7it [00:00,  7.03it/s]\n"
     ]
    },
    {
     "name": "stdout",
     "output_type": "stream",
     "text": [
      "-6.178712160215624 rad\n",
      "-6.236329082198477 rad\n",
      "-0.04685622498110931 rad\n",
      "-0.10447314696396237 rad\n",
      "-0.05815666074571979 rad\n",
      "-6.225028646433866 rad\n"
     ]
    },
    {
     "name": "stderr",
     "output_type": "stream",
     "text": [
      "6it [00:00,  7.15it/s]\n",
      "7it [00:00,  7.19it/s]\n"
     ]
    },
    {
     "name": "stdout",
     "output_type": "stream",
     "text": [
      "-6.179838622381195 rad\n",
      "-6.2367882303195135 rad\n",
      "-0.04639707686007277 rad\n",
      "-0.10334668479839149 rad\n",
      "-0.05745127764506641 rad\n",
      "-6.22573402953452 rad\n"
     ]
    },
    {
     "name": "stderr",
     "output_type": "stream",
     "text": [
      "6it [00:00,  6.94it/s]\n",
      "7it [00:00,  7.17it/s]\n"
     ]
    },
    {
     "name": "stdout",
     "output_type": "stream",
     "text": [
      "-6.1809653459812095 rad\n",
      "-6.2372483700545 rad\n",
      "-0.04593693712508662 rad\n",
      "-0.10221996119837673 rad\n",
      "-0.05674768471118652 rad\n",
      "-6.226437622468399 rad\n"
     ]
    },
    {
     "name": "stderr",
     "output_type": "stream",
     "text": [
      "6it [00:00,  7.01it/s]\n",
      "7it [00:00,  7.21it/s]\n"
     ]
    },
    {
     "name": "stdout",
     "output_type": "stream",
     "text": [
      "-6.182092328261364 rad\n",
      "-6.23770950443051 rad\n",
      "-0.04547580274907581 rad\n",
      "-0.10109297891822289 rad\n",
      "-0.056045875821673974 rad\n",
      "-6.227139431357912 rad\n"
     ]
    },
    {
     "name": "stderr",
     "output_type": "stream",
     "text": [
      "6it [00:00,  7.04it/s]\n",
      "7it [00:00,  7.24it/s]\n"
     ]
    },
    {
     "name": "stdout",
     "output_type": "stream",
     "text": [
      "-6.183219566463466 rad\n",
      "-6.238171636486058 rad\n",
      "-0.04501367069352824 rad\n",
      "-0.09996574071612008 rad\n",
      "-0.055345844878152306 rad\n",
      "-6.227839462301434 rad\n"
     ]
    },
    {
     "name": "stderr",
     "output_type": "stream",
     "text": [
      "6it [00:00,  7.13it/s]\n",
      "7it [00:00,  7.42it/s]\n"
     ]
    },
    {
     "name": "stdout",
     "output_type": "stream",
     "text": [
      "-6.18434705782548 rad\n",
      "-6.23863476927114 rad\n",
      "-0.04455053790844543 rad\n",
      "-0.09883824935410557 rad\n",
      "-0.05464758580618678 rad\n",
      "-6.2285377213733994 rad\n"
     ]
    },
    {
     "name": "stderr",
     "output_type": "stream",
     "text": [
      "6it [00:00,  7.03it/s]\n",
      "7it [00:00,  7.14it/s]\n"
     ]
    },
    {
     "name": "stdout",
     "output_type": "stream",
     "text": [
      "-6.185474799581563 rad\n",
      "-6.239098905847294 rad\n",
      "-0.04408640133229236 rad\n",
      "-0.0977105075980238 rad\n",
      "-0.053951092555195146 rad\n",
      "-6.229234214624391 rad\n"
     ]
    },
    {
     "name": "stderr",
     "output_type": "stream",
     "text": [
      "6it [00:00,  6.91it/s]\n",
      "7it [00:00,  7.06it/s]\n"
     ]
    },
    {
     "name": "stdout",
     "output_type": "stream",
     "text": [
      "-6.186602788962096 rad\n",
      "-6.239564049287637 rad\n",
      "-0.04362125789194948 rad\n",
      "-0.09658251821748998 rad\n",
      "-0.053256359098356576 rad\n",
      "-6.22992894808123 rad\n"
     ]
    },
    {
     "name": "stderr",
     "output_type": "stream",
     "text": [
      "6it [00:00,  7.17it/s]\n",
      "7it [00:00,  7.25it/s]\n"
     ]
    },
    {
     "name": "stdout",
     "output_type": "stream",
     "text": [
      "-6.18773102319374 rad\n",
      "-6.240030202676922 rad\n",
      "-0.04315510450266391 rad\n",
      "-0.09545428398584699 rad\n",
      "-0.05256337943252376 rad\n",
      "-6.2306219277470625 rad\n"
     ]
    },
    {
     "name": "stderr",
     "output_type": "stream",
     "text": [
      "6it [00:00,  7.28it/s]\n",
      "7it [00:00,  7.11it/s]\n"
     ]
    },
    {
     "name": "stdout",
     "output_type": "stream",
     "text": [
      "-6.188859499499458 rad\n",
      "-6.240497369111589 rad\n",
      "-0.04268793806799698 rad\n",
      "-0.09432580768012899 rad\n",
      "-0.0518721475781323 rad\n",
      "-6.231313159601454 rad\n"
     ]
    },
    {
     "name": "stderr",
     "output_type": "stream",
     "text": [
      "6it [00:00,  7.48it/s]\n",
      "7it [00:00,  7.17it/s]\n"
     ]
    },
    {
     "name": "stdout",
     "output_type": "stream",
     "text": [
      "-6.189988215098564 rad\n",
      "-6.240965551699809 rad\n",
      "-0.04221975547977763 rad\n",
      "-0.09319709208102189 rad\n",
      "-0.05118265757911411 rad\n",
      "-6.232002649600473 rad\n"
     ]
    },
    {
     "name": "stderr",
     "output_type": "stream",
     "text": [
      "6it [00:00,  7.26it/s]\n",
      "7it [00:00,  7.39it/s]\n"
     ]
    },
    {
     "name": "stdout",
     "output_type": "stream",
     "text": [
      "-6.191117167206764 rad\n",
      "-6.241434753561537 rad\n",
      "-0.041750553618050024 rad\n",
      "-0.09206813997282204 rad\n",
      "-0.05049490350280594 rad\n",
      "-6.232690403676781 rad\n"
     ]
    },
    {
     "name": "stderr",
     "output_type": "stream",
     "text": [
      "6it [00:00,  6.85it/s]\n",
      "7it [00:01,  6.52it/s]\n"
     ]
    },
    {
     "name": "stdout",
     "output_type": "stream",
     "text": [
      "-6.1922463530361895 rad\n",
      "-6.241904977828561 rad\n",
      "-0.04128032935102466 rad\n",
      "-0.09093895414339714 rad\n",
      "-0.04980887943986234 rad\n",
      "-6.233376427739724 rad\n"
     ]
    },
    {
     "name": "stderr",
     "output_type": "stream",
     "text": [
      "6it [00:00,  6.36it/s]\n",
      "7it [00:00,  7.15it/s]\n"
     ]
    },
    {
     "name": "stdout",
     "output_type": "stream",
     "text": [
      "-6.1933757697954395 rad\n",
      "-6.242376227644559 rad\n",
      "-0.040809079535027326 rad\n",
      "-0.08980953738414676 rad\n",
      "-0.04912457950416593 rad\n",
      "-6.23406072767542 rad\n"
     ]
    },
    {
     "name": "stderr",
     "output_type": "stream",
     "text": [
      "6it [00:00,  7.18it/s]\n",
      "7it [00:00,  7.19it/s]\n"
     ]
    },
    {
     "name": "stdout",
     "output_type": "stream",
     "text": [
      "-6.194505414689623 rad\n",
      "-6.242848506165139 rad\n",
      "-0.04033680101444759 rad\n",
      "-0.08867989248996322 rad\n",
      "-0.048441997832740835 rad\n",
      "-6.234743309346845 rad\n"
     ]
    },
    {
     "name": "stderr",
     "output_type": "stream",
     "text": [
      "6it [00:00,  7.24it/s]\n",
      "7it [00:00,  7.53it/s]\n"
     ]
    },
    {
     "name": "stdout",
     "output_type": "stream",
     "text": [
      "-6.195635284920398 rad\n",
      "-6.243321816557897 rad\n",
      "-0.03986349062168948 rad\n",
      "-0.08755002225918851 rad\n",
      "-0.04776112858566206 rad\n",
      "-6.235424178593924 rad\n"
     ]
    },
    {
     "name": "stderr",
     "output_type": "stream",
     "text": [
      "6it [00:00,  7.27it/s]\n",
      "7it [00:00,  7.36it/s]\n"
     ]
    },
    {
     "name": "stdout",
     "output_type": "stream",
     "text": [
      "-6.196765377686009 rad\n",
      "-6.243796162002467 rad\n",
      "-0.03938914517711911 rad\n",
      "-0.08641992949357746 rad\n",
      "-0.047081965945968474 rad\n",
      "-6.236103341233617 rad\n"
     ]
    },
    {
     "name": "stderr",
     "output_type": "stream",
     "text": [
      "6it [00:00,  7.38it/s]\n",
      "7it [00:00,  7.56it/s]\n"
     ]
    },
    {
     "name": "stdout",
     "output_type": "stream",
     "text": [
      "-6.197895690181332 rad\n",
      "-6.244271545690573 rad\n",
      "-0.038913761489013154 rad\n",
      "-0.0852896169982551 rad\n",
      "-0.04640450411957664 rad\n",
      "-6.236780803060009 rad\n"
     ]
    },
    {
     "name": "stderr",
     "output_type": "stream",
     "text": [
      "6it [00:00,  7.31it/s]\n",
      "7it [00:01,  5.35it/s]\n"
     ]
    },
    {
     "name": "stdout",
     "output_type": "stream",
     "text": [
      "-6.19902621959791 rad\n",
      "-6.244747970826078 rad\n",
      "-0.038437336353508655 rad\n",
      "-0.08415908758167667 rad\n",
      "-0.045728737335189784 rad\n",
      "-6.2374565698443964 rad\n"
     ]
    },
    {
     "name": "stderr",
     "output_type": "stream",
     "text": [
      "6it [00:00,  7.00it/s]\n",
      "7it [00:01,  6.83it/s]\n"
     ]
    },
    {
     "name": "stdout",
     "output_type": "stream",
     "text": [
      "-6.200156963123998 rad\n",
      "-6.2452254406250365 rad\n",
      "-0.037959866554549304 rad\n",
      "-0.08302834405558812 rad\n",
      "-0.04505465984421253 rad\n",
      "-6.238130647335374 rad\n"
     ]
    },
    {
     "name": "stderr",
     "output_type": "stream",
     "text": [
      "6it [00:00,  7.15it/s]\n",
      "7it [00:01,  6.95it/s]\n"
     ]
    },
    {
     "name": "stdout",
     "output_type": "stream",
     "text": [
      "-6.201287917944603 rad\n",
      "-6.245703958315751 rad\n",
      "-0.03748134886383481 rad\n",
      "-0.08189738923498302 rad\n",
      "-0.04438226592066297 rad\n",
      "-6.238803041258923 rad\n"
     ]
    },
    {
     "name": "stderr",
     "output_type": "stream",
     "text": [
      "6it [00:00,  6.78it/s]\n",
      "7it [00:00,  7.20it/s]\n"
     ]
    },
    {
     "name": "stdout",
     "output_type": "stream",
     "text": [
      "-6.202419081241523 rad\n",
      "-6.246183527138818 rad\n",
      "-0.037001780040768484 rad\n",
      "-0.08076622593806393 rad\n",
      "-0.043711549861085164 rad\n",
      "-6.2394737573185015 rad\n"
     ]
    },
    {
     "name": "stderr",
     "output_type": "stream",
     "text": [
      "6it [00:00,  6.24it/s]\n",
      "7it [00:01,  7.00it/s]\n"
     ]
    },
    {
     "name": "stdout",
     "output_type": "stream",
     "text": [
      "-6.2035504501933865 rad\n",
      "-6.246664150347183 rad\n",
      "-0.03652115683240309 rad\n",
      "-0.07963485698619976 rad\n",
      "-0.043042505984462576 rad\n",
      "-6.240142801195123 rad\n"
     ]
    },
    {
     "name": "stderr",
     "output_type": "stream",
     "text": [
      "6it [00:00,  7.03it/s]\n",
      "7it [00:00,  7.10it/s]\n"
     ]
    },
    {
     "name": "stdout",
     "output_type": "stream",
     "text": [
      "-6.2046820219757 rad\n",
      "-6.247145831206195 rad\n",
      "-0.03603947597339108 rad\n",
      "-0.07850328520388583 rad\n",
      "-0.042375128632131 rad\n",
      "-6.240810178547456 rad\n"
     ]
    },
    {
     "name": "stderr",
     "output_type": "stream",
     "text": [
      "6it [00:00,  6.62it/s]\n",
      "7it [00:00,  7.02it/s]\n"
     ]
    },
    {
     "name": "stdout",
     "output_type": "stream",
     "text": [
      "-6.205813793760884 rad\n",
      "-6.247628572993658 rad\n",
      "-0.03555673418592864 rad\n",
      "-0.07737151341870208 rad\n",
      "-0.041709412167691085 rad\n",
      "-6.241475895011895 rad\n"
     ]
    },
    {
     "name": "stderr",
     "output_type": "stream",
     "text": [
      "6it [00:00,  6.84it/s]\n",
      "7it [00:00,  7.25it/s]\n"
     ]
    },
    {
     "name": "stdout",
     "output_type": "stream",
     "text": [
      "-6.206945762718314 rad\n",
      "-6.248112378999881 rad\n",
      "-0.03507292817970553 rad\n",
      "-0.07623954446127135 rad\n",
      "-0.04104535097692441 rad\n",
      "-6.242139956202662 rad\n"
     ]
    },
    {
     "name": "stderr",
     "output_type": "stream",
     "text": [
      "6it [00:00,  7.19it/s]\n",
      "7it [00:00,  7.18it/s]\n"
     ]
    },
    {
     "name": "stdout",
     "output_type": "stream",
     "text": [
      "-6.208077926014367 rad\n",
      "-6.2485972525277385 rad\n",
      "-0.03458805465184778 rad\n",
      "-0.07510738116521898 rad\n",
      "-0.04038293946770333 rad\n",
      "-6.242802367711883 rad\n"
     ]
    },
    {
     "name": "stderr",
     "output_type": "stream",
     "text": [
      "6it [00:00,  7.16it/s]\n",
      "7it [00:00,  7.33it/s]\n"
     ]
    },
    {
     "name": "stdout",
     "output_type": "stream",
     "text": [
      "-6.2092102808124565 rad\n",
      "-6.249083196892718 rad\n",
      "-0.03410211028686838 rad\n",
      "-0.07397502636712971 rad\n",
      "-0.03972217206990836 rad\n",
      "-6.243463135109678 rad\n"
     ]
    },
    {
     "name": "stderr",
     "output_type": "stream",
     "text": [
      "6it [00:00,  7.36it/s]\n",
      "7it [00:00,  7.16it/s]\n"
     ]
    },
    {
     "name": "stdout",
     "output_type": "stream",
     "text": [
      "-6.210342824273079 rad\n",
      "-6.249570215422976 rad\n",
      "-0.033615091756610926 rad\n",
      "-0.0728424829065073 rad\n",
      "-0.03906304323534071 rad\n",
      "-6.244122263944245 rad\n"
     ]
    },
    {
     "name": "stderr",
     "output_type": "stream",
     "text": [
      "6it [00:00,  7.31it/s]\n",
      "7it [00:00,  7.43it/s]\n"
     ]
    },
    {
     "name": "stdout",
     "output_type": "stream",
     "text": [
      "-6.211475553553854 rad\n",
      "-6.250058311459391 rad\n",
      "-0.03312699572019495 rad\n",
      "-0.07170975362573184 rad\n",
      "-0.03840554743763658 rad\n",
      "-6.24477975974195 rad\n"
     ]
    },
    {
     "name": "stderr",
     "output_type": "stream",
     "text": [
      "6it [00:00,  7.54it/s]\n",
      "7it [00:00,  7.07it/s]\n"
     ]
    },
    {
     "name": "stdout",
     "output_type": "stream",
     "text": [
      "-6.212608465809568 rad\n",
      "-6.250547488355622 rad\n",
      "-0.03263781882396399 rad\n",
      "-0.07057684137001852 rad\n",
      "-0.03774967917218186 rad\n",
      "-6.245435628007405 rad\n"
     ]
    },
    {
     "name": "stderr",
     "output_type": "stream",
     "text": [
      "6it [00:00,  7.43it/s]\n",
      "7it [00:00,  7.17it/s]\n"
     ]
    },
    {
     "name": "stdout",
     "output_type": "stream",
     "text": [
      "-6.213741558192211 rad\n",
      "-6.251037749478157 rad\n",
      "-0.032147557701429186 rad\n",
      "-0.06944374898737493 rad\n",
      "-0.03709543295602735 rad\n",
      "-6.246089874223559 rad\n"
     ]
    },
    {
     "name": "stderr",
     "output_type": "stream",
     "text": [
      "6it [00:00,  7.22it/s]\n",
      "7it [00:00,  7.02it/s]\n"
     ]
    },
    {
     "name": "stdout",
     "output_type": "stream",
     "text": [
      "-6.214874827851027 rad\n",
      "-6.251529098206371 rad\n",
      "-0.03165620897321508 rad\n",
      "-0.06831047932855938 rad\n",
      "-0.03644280332780303 rad\n",
      "-6.246742503851783 rad\n"
     ]
    },
    {
     "name": "stderr",
     "output_type": "stream",
     "text": [
      "6it [00:00,  7.21it/s]\n",
      "7it [00:00,  7.20it/s]\n"
     ]
    },
    {
     "name": "stdout",
     "output_type": "stream",
     "text": [
      "-6.216008271932547 rad\n",
      "-6.252021537932581 rad\n",
      "-0.031163769247005035 rad\n",
      "-0.06717703524703911 rad\n",
      "-0.035791784847632346 rad\n",
      "-6.247393522331954 rad\n"
     ]
    },
    {
     "name": "stderr",
     "output_type": "stream",
     "text": [
      "6it [00:00,  7.32it/s]\n",
      "7it [00:00,  7.01it/s]\n"
     ]
    },
    {
     "name": "stdout",
     "output_type": "stream",
     "text": [
      "-6.21714188758064 rad\n",
      "-6.252515072062101 rad\n",
      "-0.030670235117485234 rad\n",
      "-0.06604341959894588 rad\n",
      "-0.03514237209705007 rad\n",
      "-6.248042935082536 rad\n"
     ]
    },
    {
     "name": "stderr",
     "output_type": "stream",
     "text": [
      "6it [00:00,  7.36it/s]\n",
      "7it [00:00,  7.41it/s]\n"
     ]
    },
    {
     "name": "stdout",
     "output_type": "stream",
     "text": [
      "-6.218275671936549 rad\n",
      "-6.253009704013296 rad\n",
      "-0.030175603166290088 rad\n",
      "-0.0649096352430365 rad\n",
      "-0.03449455967891524 rad\n",
      "-6.248690747500671 rad\n"
     ]
    },
    {
     "name": "stderr",
     "output_type": "stream",
     "text": [
      "6it [00:00,  7.43it/s]\n",
      "7it [00:00,  7.38it/s]\n"
     ]
    },
    {
     "name": "stdout",
     "output_type": "stream",
     "text": [
      "-6.219409622138938 rad\n",
      "-6.25350543721764 rad\n",
      "-0.029679869961945382 rad\n",
      "-0.0637756850406479 rad\n",
      "-0.033848342217328575 rad\n",
      "-6.249336964962257 rad\n"
     ]
    },
    {
     "name": "stderr",
     "output_type": "stream",
     "text": [
      "6it [00:00,  7.36it/s]\n",
      "7it [00:00,  7.31it/s]\n"
     ]
    },
    {
     "name": "stdout",
     "output_type": "stream",
     "text": [
      "-6.220543735323931 rad\n",
      "-6.254002275119773 rad\n",
      "-0.029183032059813208 rad\n",
      "-0.06264157185565589 rad\n",
      "-0.033203714357546765 rad\n",
      "-6.2499815928220395 rad\n"
     ]
    },
    {
     "name": "stderr",
     "output_type": "stream",
     "text": [
      "6it [00:00,  7.16it/s]\n",
      "7it [00:01,  6.85it/s]\n"
     ]
    },
    {
     "name": "stdout",
     "output_type": "stream",
     "text": [
      "-6.221678008625155 rad\n",
      "-6.254500221177549 rad\n",
      "-0.028685086002036897 rad\n",
      "-0.0615072985544316 rad\n",
      "-0.03256067076590119 rad\n",
      "-6.250624636413685 rad\n"
     ]
    },
    {
     "name": "stderr",
     "output_type": "stream",
     "text": [
      "6it [00:00,  6.34it/s]\n",
      "7it [00:00,  7.00it/s]\n"
     ]
    },
    {
     "name": "stdout",
     "output_type": "stream",
     "text": [
      "-6.222812439173788 rad\n",
      "-6.254999278862105 rad\n",
      "-0.028186028317481515 rad\n",
      "-0.06037286800579844 rad\n",
      "-0.031919206129711775 rad\n",
      "-6.2512661010498745 rad\n"
     ]
    },
    {
     "name": "stderr",
     "output_type": "stream",
     "text": [
      "6it [00:00,  6.82it/s]\n",
      "7it [00:01,  6.82it/s]\n"
     ]
    },
    {
     "name": "stdout",
     "output_type": "stream",
     "text": [
      "-6.223947024098596 rad\n",
      "-6.255499451657906 rad\n",
      "-0.02768585552168057 rad\n",
      "-0.05923828308099033 rad\n",
      "-0.031279315157204834 rad\n",
      "-6.251905992022381 rad\n"
     ]
    },
    {
     "name": "stderr",
     "output_type": "stream",
     "text": [
      "6it [00:00,  7.17it/s]\n",
      "7it [00:00,  7.12it/s]\n"
     ]
    },
    {
     "name": "stdout",
     "output_type": "stream",
     "text": [
      "-6.225081760525978 rad\n",
      "-6.256000743062808 rad\n",
      "-0.027184564116777832 rad\n",
      "-0.058103546653608174 rad\n",
      "-0.030640992577430026 rad\n",
      "-6.252544314602156 rad\n"
     ]
    },
    {
     "name": "stderr",
     "output_type": "stream",
     "text": [
      "6it [00:00,  7.10it/s]\n",
      "7it [00:01,  6.89it/s]\n"
     ]
    },
    {
     "name": "stdout",
     "output_type": "stream",
     "text": [
      "-6.22621664558001 rad\n",
      "-6.256503156588117 rad\n",
      "-0.026682150591468723 rad\n",
      "-0.05696866159957592 rad\n",
      "-0.030004233140175973 rad\n",
      "-6.253181074039411 rad\n"
     ]
    },
    {
     "name": "stderr",
     "output_type": "stream",
     "text": [
      "6it [00:00,  7.19it/s]\n",
      "7it [00:00,  7.33it/s]\n"
     ]
    },
    {
     "name": "stdout",
     "output_type": "stream",
     "text": [
      "-6.227351676382487 rad\n",
      "-6.2570066957586405 rad\n",
      "-0.026178611420945685 rad\n",
      "-0.0558336307970988 rad\n",
      "-0.029369031615889885 rad\n",
      "-6.253816275563697 rad\n"
     ]
    },
    {
     "name": "stderr",
     "output_type": "stream",
     "text": [
      "6it [00:00,  7.04it/s]\n",
      "7it [00:01,  6.97it/s]\n"
     ]
    },
    {
     "name": "stdout",
     "output_type": "stream",
     "text": [
      "-6.228486850052969 rad\n",
      "-6.257511364112746 rad\n",
      "-0.025673943066839566 rad\n",
      "-0.05469845712661803 rad\n",
      "-0.02873538279559318 rad\n",
      "-6.254449924383993 rad\n"
     ]
    },
    {
     "name": "stderr",
     "output_type": "stream",
     "text": [
      "6it [00:00,  6.95it/s]\n",
      "7it [00:00,  7.13it/s]\n"
     ]
    },
    {
     "name": "stdout",
     "output_type": "stream",
     "text": [
      "-6.229622163708816 rad\n",
      "-6.258017165202426 rad\n",
      "-0.025168141977160552 rad\n",
      "-0.05356314347076996 rad\n",
      "-0.02810328149079977 rad\n",
      "-6.255082025688786 rad\n"
     ]
    },
    {
     "name": "stderr",
     "output_type": "stream",
     "text": [
      "6it [00:00,  7.01it/s]\n",
      "7it [00:00,  7.25it/s]\n"
     ]
    },
    {
     "name": "stdout",
     "output_type": "stream",
     "text": [
      "-6.2307576144652455 rad\n",
      "-6.258524102593345 rad\n",
      "-0.02466120458624177 rad\n",
      "-0.052427692714340335 rad\n",
      "-0.0274727225334348 rad\n",
      "-6.255712584646151 rad\n"
     ]
    },
    {
     "name": "stderr",
     "output_type": "stream",
     "text": [
      "6it [00:00,  6.78it/s]\n",
      "7it [00:01,  6.90it/s]\n"
     ]
    },
    {
     "name": "stdout",
     "output_type": "stream",
     "text": [
      "-6.231893199435364 rad\n",
      "-6.259032179864905 rad\n",
      "-0.02415312731468111 rad\n",
      "-0.05129210774422299 rad\n",
      "-0.026843700775750712 rad\n",
      "-6.2563416064038355 rad\n"
     ]
    },
    {
     "name": "stderr",
     "output_type": "stream",
     "text": [
      "6it [00:00,  7.03it/s]\n",
      "7it [00:00,  7.04it/s]\n"
     ]
    },
    {
     "name": "stdout",
     "output_type": "stream",
     "text": [
      "-6.233028915730213 rad\n",
      "-6.259541400610305 rad\n",
      "-0.023643906569280837 rad\n",
      "-0.05015639144937323 rad\n",
      "-0.026216211090247743 rad\n",
      "-6.256969096089339 rad\n"
     ]
    },
    {
     "name": "stderr",
     "output_type": "stream",
     "text": [
      "6it [00:00,  7.14it/s]\n",
      "7it [00:00,  7.23it/s]\n"
     ]
    },
    {
     "name": "stdout",
     "output_type": "stream",
     "text": [
      "-6.234164760458819 rad\n",
      "-6.260051768436595 rad\n",
      "-0.023133538742990734 rad\n",
      "-0.04902054672076739 rad\n",
      "-0.025590248369591784 rad\n",
      "-6.2575950588099944 rad\n"
     ]
    },
    {
     "name": "stderr",
     "output_type": "stream",
     "text": [
      "6it [00:00,  7.28it/s]\n",
      "7it [00:00,  7.47it/s]\n"
     ]
    },
    {
     "name": "stdout",
     "output_type": "stream",
     "text": [
      "-6.2353007307282295 rad\n",
      "-6.260563286964738 rad\n",
      "-0.022622020214848604 rad\n",
      "-0.047884576451356686 rad\n",
      "-0.02496580752653399 rad\n",
      "-6.258219499653052 rad\n"
     ]
    },
    {
     "name": "stderr",
     "output_type": "stream",
     "text": [
      "6it [00:00,  7.36it/s]\n",
      "7it [00:00,  7.31it/s]\n"
     ]
    },
    {
     "name": "stdout",
     "output_type": "stream",
     "text": [
      "-6.236436823643562 rad\n",
      "-6.261075959829666 rad\n",
      "-0.022109347349920316 rad\n",
      "-0.046748483536024565 rad\n",
      "-0.024342883493827294 rad\n",
      "-6.258842423685759 rad\n"
     ]
    },
    {
     "name": "stderr",
     "output_type": "stream",
     "text": [
      "6it [00:00,  7.20it/s]\n",
      "7it [00:00,  7.26it/s]\n"
     ]
    },
    {
     "name": "stdout",
     "output_type": "stream",
     "text": [
      "-6.237573036308044 rad\n",
      "-6.261589790680345 rad\n",
      "-0.02159551649924163 rad\n",
      "-0.04561227087154229 rad\n",
      "-0.023721471224149582 rad\n",
      "-6.259463835955437 rad\n"
     ]
    },
    {
     "name": "stderr",
     "output_type": "stream",
     "text": [
      "6it [00:00,  7.31it/s]\n",
      "7it [00:00,  7.29it/s]\n"
     ]
    },
    {
     "name": "stdout",
     "output_type": "stream",
     "text": [
      "-6.238709365823061 rad\n",
      "-6.262104783179829 rad\n",
      "-0.021080523999756906 rad\n",
      "-0.04447594135652544 rad\n",
      "-0.023101565690020198 rad\n",
      "-6.2600837414895665 rad\n"
     ]
    },
    {
     "name": "stderr",
     "output_type": "stream",
     "text": [
      "6it [00:00,  7.23it/s]\n",
      "7it [00:00,  7.11it/s]\n"
     ]
    },
    {
     "name": "stdout",
     "output_type": "stream",
     "text": [
      "-6.239845809288198 rad\n",
      "-6.262620941005325 rad\n",
      "-0.02056436617426094 rad\n",
      "-0.04333949789138858 rad\n",
      "-0.022483161883720904 rad\n",
      "-6.260702145295865 rad\n"
     ]
    },
    {
     "name": "stderr",
     "output_type": "stream",
     "text": [
      "6it [00:00,  7.18it/s]\n"
     ]
    },
    {
     "name": "stdout",
     "output_type": "stream",
     "text": [
      "stop, the -0.0026545454545454546\n"
     ]
    },
    {
     "name": "stderr",
     "output_type": "stream",
     "text": [
      "7it [00:00,  7.54it/s]\n"
     ]
    },
    {
     "name": "stdout",
     "output_type": "stream",
     "text": [
      "-6.148406455252941 rad\n",
      "-6.224296157423696 rad\n",
      "-0.05888914975588966 rad\n",
      "-0.13477885192664507 rad\n",
      "-0.07790173269392353 rad\n",
      "-6.205283574485662 rad\n"
     ]
    },
    {
     "name": "stderr",
     "output_type": "stream",
     "text": [
      "6it [00:00,  7.46it/s]\n",
      "7it [00:00,  7.41it/s]\n"
     ]
    },
    {
     "name": "stdout",
     "output_type": "stream",
     "text": [
      "-6.149524832796958 rad\n",
      "-6.224729635710567 rad\n",
      "-0.058455671469019865 rad\n",
      "-0.13366047438262862 rad\n",
      "-0.0771456105339956 rad\n",
      "-6.206039696645591 rad\n"
     ]
    },
    {
     "name": "stderr",
     "output_type": "stream",
     "text": [
      "6it [00:00,  7.25it/s]\n",
      "7it [00:00,  7.33it/s]\n"
     ]
    },
    {
     "name": "stdout",
     "output_type": "stream",
     "text": [
      "-6.1506435445352885 rad\n",
      "-6.225164028031221 rad\n",
      "-0.05802127914836541 rad\n",
      "-0.13254176264429773 rad\n",
      "-0.07639145326026675 rad\n",
      "-6.2067938539193195 rad\n"
     ]
    },
    {
     "name": "stderr",
     "output_type": "stream",
     "text": [
      "6it [00:00,  7.07it/s]\n",
      "7it [00:00,  7.24it/s]\n"
     ]
    },
    {
     "name": "stdout",
     "output_type": "stream",
     "text": [
      "-6.151762587832646 rad\n",
      "-6.225599337121608 rad\n",
      "-0.057585970057978386 rad\n",
      "-0.1314227193469404 rad\n",
      "-0.0756392540672155 rad\n",
      "-6.20754605311237 rad\n"
     ]
    },
    {
     "name": "stderr",
     "output_type": "stream",
     "text": [
      "6it [00:00,  7.35it/s]\n",
      "7it [00:00,  7.38it/s]\n"
     ]
    },
    {
     "name": "stdout",
     "output_type": "stream",
     "text": [
      "-6.152881960048865 rad\n",
      "-6.226035565727873 rad\n",
      "-0.0571497414517137 rad\n",
      "-0.13030334713072111 rad\n",
      "-0.07488900617580763 rad\n",
      "-6.208296301003779 rad\n"
     ]
    },
    {
     "name": "stderr",
     "output_type": "stream",
     "text": [
      "6it [00:00,  7.12it/s]\n",
      "7it [00:00,  7.27it/s]\n"
     ]
    },
    {
     "name": "stdout",
     "output_type": "stream",
     "text": [
      "-6.154001658538943 rad\n",
      "-6.226472716606402 rad\n",
      "-0.056712590573184674 rad\n",
      "-0.1291836486406428 rad\n",
      "-0.07414070283340335 rad\n",
      "-6.209044604346182 rad\n"
     ]
    },
    {
     "name": "stderr",
     "output_type": "stream",
     "text": [
      "6it [00:00,  6.77it/s]\n",
      "7it [00:00,  7.18it/s]\n"
     ]
    },
    {
     "name": "stdout",
     "output_type": "stream",
     "text": [
      "-6.155121680653073 rad\n",
      "-6.226910792523865 rad\n",
      "-0.056274514655720864 rad\n",
      "-0.12806362652651337 rad\n",
      "-0.0733943373136694 rad\n",
      "-6.209790969865917 rad\n"
     ]
    },
    {
     "name": "stderr",
     "output_type": "stream",
     "text": [
      "6it [00:00,  7.23it/s]\n",
      "7it [00:00,  7.27it/s]\n"
     ]
    },
    {
     "name": "stdout",
     "output_type": "stream",
     "text": [
      "-6.156242023736674 rad\n",
      "-6.227349796257262 rad\n",
      "-0.05583551092232408 rad\n",
      "-0.12694328344291206 rad\n",
      "-0.07264990291648354 rad\n",
      "-6.210535404263103 rad\n"
     ]
    },
    {
     "name": "stderr",
     "output_type": "stream",
     "text": [
      "6it [00:00,  7.21it/s]\n",
      "7it [00:00,  7.25it/s]\n"
     ]
    },
    {
     "name": "stdout",
     "output_type": "stream",
     "text": [
      "-6.157362685130433 rad\n",
      "-6.227789730593962 rad\n",
      "-0.055395576585623996 rad\n",
      "-0.1258226220491525 rad\n",
      "-0.07190739296784443 rad\n",
      "-6.211277914211742 rad\n"
     ]
    },
    {
     "name": "stderr",
     "output_type": "stream",
     "text": [
      "6it [00:00,  7.05it/s]\n",
      "7it [00:00,  7.37it/s]\n"
     ]
    },
    {
     "name": "stdout",
     "output_type": "stream",
     "text": [
      "-6.158483662170338 rad\n",
      "-6.228230598331753 rad\n",
      "-0.05495470884783327 rad\n",
      "-0.12470164500924863 rad\n",
      "-0.07116680081978144 rad\n",
      "-6.212018506359804 rad\n"
     ]
    },
    {
     "name": "stderr",
     "output_type": "stream",
     "text": [
      "6it [00:00,  7.11it/s]\n",
      "7it [00:00,  7.30it/s]\n"
     ]
    },
    {
     "name": "stdout",
     "output_type": "stream",
     "text": [
      "-6.159604952187707 rad\n",
      "-6.228672402278882 rad\n",
      "-0.054512904900704484 rad\n",
      "-0.12358035499187903 rad\n",
      "-0.07042811985026098 rad\n",
      "-6.212757187329325 rad\n"
     ]
    },
    {
     "name": "stderr",
     "output_type": "stream",
     "text": [
      "6it [00:00,  7.10it/s]\n",
      "7it [00:01,  5.97it/s]\n"
     ]
    },
    {
     "name": "stdout",
     "output_type": "stream",
     "text": [
      "-6.160726552509233 rad\n",
      "-6.2291151452541005 rad\n",
      "-0.05407016192548619 rad\n",
      "-0.12245875467035283 rad\n",
      "-0.0696913434630968 rad\n",
      "-6.213493963716489 rad\n"
     ]
    },
    {
     "name": "stderr",
     "output_type": "stream",
     "text": [
      "6it [00:00,  6.83it/s]\n",
      "7it [00:00,  7.17it/s]\n"
     ]
    },
    {
     "name": "stdout",
     "output_type": "stream",
     "text": [
      "-6.161848460457016 rad\n",
      "-6.229558830086711 rad\n",
      "-0.05362647709287538 rad\n",
      "-0.12133684672257106 rad\n",
      "-0.06895646508785624 rad\n",
      "-6.21422884209173 rad\n"
     ]
    },
    {
     "name": "stderr",
     "output_type": "stream",
     "text": [
      "6it [00:00,  7.11it/s]\n",
      "7it [00:00,  7.15it/s]\n"
     ]
    },
    {
     "name": "stdout",
     "output_type": "stream",
     "text": [
      "-6.1629706733485925 rad\n",
      "-6.230003459616611 rad\n",
      "-0.05318184756297528 rad\n",
      "-0.12021463383099373 rad\n",
      "-0.06822347817977237 rad\n",
      "-6.214961828999813 rad\n"
     ]
    },
    {
     "name": "stderr",
     "output_type": "stream",
     "text": [
      "6it [00:00,  6.98it/s]\n",
      "7it [00:00,  7.06it/s]\n"
     ]
    },
    {
     "name": "stdout",
     "output_type": "stream",
     "text": [
      "-6.1640931884969845 rad\n",
      "-6.230449036694337 rad\n",
      "-0.05273627048525009 rad\n",
      "-0.11909211868260217 rad\n",
      "-0.06749237621964888 rad\n",
      "-6.215692930959937 rad\n"
     ]
    },
    {
     "name": "stderr",
     "output_type": "stream",
     "text": [
      "6it [00:00,  7.05it/s]\n",
      "7it [00:00,  7.08it/s]\n"
     ]
    },
    {
     "name": "stdout",
     "output_type": "stream",
     "text": [
      "-6.165216003210722 rad\n",
      "-6.230895564181109 rad\n",
      "-0.052289742998476996 rad\n",
      "-0.11796930396886385 rad\n",
      "-0.06676315271377131 rad\n",
      "-6.216422154465815 rad\n"
     ]
    },
    {
     "name": "stderr",
     "output_type": "stream",
     "text": [
      "6it [00:00,  6.98it/s]\n",
      "7it [00:00,  7.22it/s]\n"
     ]
    },
    {
     "name": "stdout",
     "output_type": "stream",
     "text": [
      "-6.166339114793891 rad\n",
      "-6.231343044948883 rad\n",
      "-0.051842262230703984 rad\n",
      "-0.11684619238569516 rad\n",
      "-0.06603580119381425 rad\n",
      "-6.2171495059857715 rad\n"
     ]
    },
    {
     "name": "stderr",
     "output_type": "stream",
     "text": [
      "6it [00:00,  7.04it/s]\n",
      "7it [00:00,  7.06it/s]\n"
     ]
    },
    {
     "name": "stdout",
     "output_type": "stream",
     "text": [
      "-6.167462520546161 rad\n",
      "-6.231791481880384 rad\n",
      "-0.051393825299202334 rad\n",
      "-0.11572278663342495 rad\n",
      "-0.06531031521675112 rad\n",
      "-6.2178749919628356 rad\n"
     ]
    },
    {
     "name": "stderr",
     "output_type": "stream",
     "text": [
      "6it [00:00,  6.99it/s]\n",
      "7it [00:01,  6.94it/s]\n"
     ]
    },
    {
     "name": "stdout",
     "output_type": "stream",
     "text": [
      "-6.168586217762827 rad\n",
      "-6.232240877869166 rad\n",
      "-0.050944429310420425 rad\n",
      "-0.11459908941675945 rad\n",
      "-0.06458668836476322 rad\n",
      "-6.2185986188148235 rad\n"
     ]
    },
    {
     "name": "stderr",
     "output_type": "stream",
     "text": [
      "6it [00:00,  7.16it/s]\n",
      "7it [00:01,  6.81it/s]\n"
     ]
    },
    {
     "name": "stdout",
     "output_type": "stream",
     "text": [
      "-6.169710203734843 rad\n",
      "-6.232691235819647 rad\n",
      "-0.05049407135993933 rad\n",
      "-0.11347510344474321 rad\n",
      "-0.06386491424514773 rad\n",
      "-6.2193203929344385 rad\n"
     ]
    },
    {
     "name": "stderr",
     "output_type": "stream",
     "text": [
      "6it [00:00,  6.99it/s]\n",
      "7it [00:00,  7.16it/s]\n"
     ]
    },
    {
     "name": "stdout",
     "output_type": "stream",
     "text": [
      "-6.170834475748863 rad\n",
      "-6.233142558647161 rad\n",
      "-0.05004274853242441 rad\n",
      "-0.11235083143072355 rad\n",
      "-0.06314498649022715 rad\n",
      "-6.220040320689359 rad\n"
     ]
    },
    {
     "name": "stderr",
     "output_type": "stream",
     "text": [
      "6it [00:00,  7.03it/s]\n",
      "7it [00:00,  7.13it/s]\n"
     ]
    },
    {
     "name": "stdout",
     "output_type": "stream",
     "text": [
      "-6.1719590310872725 rad\n",
      "-6.233594849278006 rad\n",
      "-0.049590457901580454 rad\n",
      "-0.11122627609231328 rad\n",
      "-0.062426898757258265 rad\n",
      "-6.220758408422328 rad\n"
     ]
    },
    {
     "name": "stderr",
     "output_type": "stream",
     "text": [
      "6it [00:00,  7.16it/s]\n",
      "7it [00:00,  7.11it/s]\n"
     ]
    },
    {
     "name": "stdout",
     "output_type": "stream",
     "text": [
      "-6.173083867028232 rad\n",
      "-6.234048110649483 rad\n",
      "-0.04913719653010329 rad\n",
      "-0.11010144015135337 rad\n",
      "-0.06171064472834287 rad\n",
      "-6.221474662451243 rad\n"
     ]
    },
    {
     "name": "stderr",
     "output_type": "stream",
     "text": [
      "6it [00:00,  7.08it/s]\n",
      "7it [00:00,  7.34it/s]\n"
     ]
    },
    {
     "name": "stdout",
     "output_type": "stream",
     "text": [
      "-6.1742089808457115 rad\n",
      "-6.234502345709951 rad\n",
      "-0.04868296146963491 rad\n",
      "-0.10897632633387477 rad\n",
      "-0.06099621811033362 rad\n",
      "-6.222189089069253 rad\n"
     ]
    },
    {
     "name": "stderr",
     "output_type": "stream",
     "text": [
      "6it [00:00,  7.02it/s]\n",
      "7it [00:00,  7.06it/s]\n"
     ]
    },
    {
     "name": "stdout",
     "output_type": "stream",
     "text": [
      "-6.175334369809525 rad\n",
      "-6.234957557418872 rad\n",
      "-0.0482277497607142 rad\n",
      "-0.10785093737006202 rad\n",
      "-0.06028361263474702 rad\n",
      "-6.22290169454484 rad\n"
     ]
    },
    {
     "name": "stderr",
     "output_type": "stream",
     "text": [
      "6it [00:00,  7.13it/s]\n",
      "7it [00:00,  7.17it/s]\n"
     ]
    },
    {
     "name": "stdout",
     "output_type": "stream",
     "text": [
      "-6.176460031185371 rad\n",
      "-6.235413748746854 rad\n",
      "-0.047771558432732064 rad\n",
      "-0.10672527599421455 rad\n",
      "-0.05957282205767145 rad\n",
      "-6.223612485121915 rad\n"
     ]
    },
    {
     "name": "stderr",
     "output_type": "stream",
     "text": [
      "6it [00:00,  7.23it/s]\n",
      "7it [00:00,  7.31it/s]\n"
     ]
    },
    {
     "name": "stdout",
     "output_type": "stream",
     "text": [
      "-6.177585962234877 rad\n",
      "-6.235870922675705 rad\n",
      "-0.04731438450388081 rad\n",
      "-0.10559934494470902 rad\n",
      "-0.058863840159675274 rad\n",
      "-6.2243214670199105 rad\n"
     ]
    },
    {
     "name": "stderr",
     "output_type": "stream",
     "text": [
      "6it [00:00,  7.16it/s]\n",
      "7it [00:00,  7.15it/s]\n"
     ]
    },
    {
     "name": "stdout",
     "output_type": "stream",
     "text": [
      "-6.178712160215624 rad\n",
      "-6.236329082198477 rad\n",
      "-0.04685622498110931 rad\n",
      "-0.10447314696396237 rad\n",
      "-0.05815666074571979 rad\n",
      "-6.225028646433866 rad\n"
     ]
    },
    {
     "name": "stderr",
     "output_type": "stream",
     "text": [
      "6it [00:00,  7.43it/s]\n",
      "7it [00:00,  7.40it/s]\n"
     ]
    },
    {
     "name": "stdout",
     "output_type": "stream",
     "text": [
      "-6.179838622381195 rad\n",
      "-6.2367882303195135 rad\n",
      "-0.04639707686007277 rad\n",
      "-0.10334668479839149 rad\n",
      "-0.05745127764506641 rad\n",
      "-6.22573402953452 rad\n"
     ]
    },
    {
     "name": "stderr",
     "output_type": "stream",
     "text": [
      "6it [00:00,  7.33it/s]\n",
      "7it [00:00,  7.30it/s]\n"
     ]
    },
    {
     "name": "stdout",
     "output_type": "stream",
     "text": [
      "-6.1809653459812095 rad\n",
      "-6.2372483700545 rad\n",
      "-0.04593693712508662 rad\n",
      "-0.10221996119837673 rad\n",
      "-0.05674768471118652 rad\n",
      "-6.226437622468399 rad\n"
     ]
    },
    {
     "name": "stderr",
     "output_type": "stream",
     "text": [
      "6it [00:00,  7.40it/s]\n",
      "7it [00:00,  7.32it/s]\n"
     ]
    },
    {
     "name": "stdout",
     "output_type": "stream",
     "text": [
      "-6.182092328261364 rad\n",
      "-6.23770950443051 rad\n",
      "-0.04547580274907581 rad\n",
      "-0.10109297891822289 rad\n",
      "-0.056045875821673974 rad\n",
      "-6.227139431357912 rad\n"
     ]
    },
    {
     "name": "stderr",
     "output_type": "stream",
     "text": [
      "6it [00:00,  7.34it/s]\n",
      "7it [00:00,  7.12it/s]\n"
     ]
    },
    {
     "name": "stdout",
     "output_type": "stream",
     "text": [
      "-6.183219566463466 rad\n",
      "-6.238171636486058 rad\n",
      "-0.04501367069352824 rad\n",
      "-0.09996574071612008 rad\n",
      "-0.055345844878152306 rad\n",
      "-6.227839462301434 rad\n"
     ]
    },
    {
     "name": "stderr",
     "output_type": "stream",
     "text": [
      "6it [00:00,  7.09it/s]\n",
      "7it [00:00,  7.26it/s]\n"
     ]
    },
    {
     "name": "stdout",
     "output_type": "stream",
     "text": [
      "-6.18434705782548 rad\n",
      "-6.23863476927114 rad\n",
      "-0.04455053790844543 rad\n",
      "-0.09883824935410557 rad\n",
      "-0.05464758580618678 rad\n",
      "-6.2285377213733994 rad\n"
     ]
    },
    {
     "name": "stderr",
     "output_type": "stream",
     "text": [
      "6it [00:00,  7.34it/s]\n",
      "7it [00:01,  6.85it/s]\n"
     ]
    },
    {
     "name": "stdout",
     "output_type": "stream",
     "text": [
      "-6.185474799581563 rad\n",
      "-6.239098905847294 rad\n",
      "-0.04408640133229236 rad\n",
      "-0.0977105075980238 rad\n",
      "-0.053951092555195146 rad\n",
      "-6.229234214624391 rad\n"
     ]
    },
    {
     "name": "stderr",
     "output_type": "stream",
     "text": [
      "6it [00:00,  7.09it/s]\n",
      "7it [00:00,  7.48it/s]\n"
     ]
    },
    {
     "name": "stdout",
     "output_type": "stream",
     "text": [
      "-6.186602788962096 rad\n",
      "-6.239564049287637 rad\n",
      "-0.04362125789194948 rad\n",
      "-0.09658251821748998 rad\n",
      "-0.053256359098356576 rad\n",
      "-6.22992894808123 rad\n"
     ]
    },
    {
     "name": "stderr",
     "output_type": "stream",
     "text": [
      "6it [00:00,  7.18it/s]\n",
      "7it [00:00,  7.15it/s]\n"
     ]
    },
    {
     "name": "stdout",
     "output_type": "stream",
     "text": [
      "-6.18773102319374 rad\n",
      "-6.240030202676922 rad\n",
      "-0.04315510450266391 rad\n",
      "-0.09545428398584699 rad\n",
      "-0.05256337943252376 rad\n",
      "-6.2306219277470625 rad\n"
     ]
    },
    {
     "name": "stderr",
     "output_type": "stream",
     "text": [
      "6it [00:00,  7.13it/s]\n",
      "7it [00:00,  7.30it/s]\n"
     ]
    },
    {
     "name": "stdout",
     "output_type": "stream",
     "text": [
      "-6.188859499499458 rad\n",
      "-6.240497369111589 rad\n",
      "-0.04268793806799698 rad\n",
      "-0.09432580768012899 rad\n",
      "-0.0518721475781323 rad\n",
      "-6.231313159601454 rad\n"
     ]
    },
    {
     "name": "stderr",
     "output_type": "stream",
     "text": [
      "6it [00:00,  7.25it/s]\n",
      "7it [00:00,  7.32it/s]\n"
     ]
    },
    {
     "name": "stdout",
     "output_type": "stream",
     "text": [
      "-6.189988215098564 rad\n",
      "-6.240965551699809 rad\n",
      "-0.04221975547977763 rad\n",
      "-0.09319709208102189 rad\n",
      "-0.05118265757911411 rad\n",
      "-6.232002649600473 rad\n"
     ]
    },
    {
     "name": "stderr",
     "output_type": "stream",
     "text": [
      "6it [00:00,  7.38it/s]\n",
      "7it [00:00,  7.40it/s]\n"
     ]
    },
    {
     "name": "stdout",
     "output_type": "stream",
     "text": [
      "-6.191117167206764 rad\n",
      "-6.241434753561537 rad\n",
      "-0.041750553618050024 rad\n",
      "-0.09206813997282204 rad\n",
      "-0.05049490350280594 rad\n",
      "-6.232690403676781 rad\n"
     ]
    },
    {
     "name": "stderr",
     "output_type": "stream",
     "text": [
      "6it [00:00,  7.27it/s]\n",
      "7it [00:00,  7.17it/s]\n"
     ]
    },
    {
     "name": "stdout",
     "output_type": "stream",
     "text": [
      "-6.1922463530361895 rad\n",
      "-6.241904977828561 rad\n",
      "-0.04128032935102466 rad\n",
      "-0.09093895414339714 rad\n",
      "-0.04980887943986234 rad\n",
      "-6.233376427739724 rad\n"
     ]
    },
    {
     "name": "stderr",
     "output_type": "stream",
     "text": [
      "6it [00:00,  7.24it/s]\n",
      "7it [00:00,  7.25it/s]\n"
     ]
    },
    {
     "name": "stdout",
     "output_type": "stream",
     "text": [
      "-6.1933757697954395 rad\n",
      "-6.242376227644559 rad\n",
      "-0.040809079535027326 rad\n",
      "-0.08980953738414676 rad\n",
      "-0.04912457950416593 rad\n",
      "-6.23406072767542 rad\n"
     ]
    },
    {
     "name": "stderr",
     "output_type": "stream",
     "text": [
      "6it [00:00,  7.10it/s]\n",
      "7it [00:00,  7.19it/s]\n"
     ]
    },
    {
     "name": "stdout",
     "output_type": "stream",
     "text": [
      "-6.194505414689623 rad\n",
      "-6.242848506165139 rad\n",
      "-0.04033680101444759 rad\n",
      "-0.08867989248996322 rad\n",
      "-0.048441997832740835 rad\n",
      "-6.234743309346845 rad\n"
     ]
    },
    {
     "name": "stderr",
     "output_type": "stream",
     "text": [
      "6it [00:00,  7.01it/s]\n",
      "7it [00:00,  7.38it/s]\n"
     ]
    },
    {
     "name": "stdout",
     "output_type": "stream",
     "text": [
      "-6.195635284920398 rad\n",
      "-6.243321816557897 rad\n",
      "-0.03986349062168948 rad\n",
      "-0.08755002225918851 rad\n",
      "-0.04776112858566206 rad\n",
      "-6.235424178593924 rad\n"
     ]
    },
    {
     "name": "stderr",
     "output_type": "stream",
     "text": [
      "6it [00:00,  7.23it/s]\n",
      "7it [00:00,  7.30it/s]\n"
     ]
    },
    {
     "name": "stdout",
     "output_type": "stream",
     "text": [
      "-6.196765377686009 rad\n",
      "-6.243796162002467 rad\n",
      "-0.03938914517711911 rad\n",
      "-0.08641992949357746 rad\n",
      "-0.047081965945968474 rad\n",
      "-6.236103341233617 rad\n"
     ]
    },
    {
     "name": "stderr",
     "output_type": "stream",
     "text": [
      "6it [00:00,  7.33it/s]\n",
      "7it [00:00,  7.33it/s]\n"
     ]
    },
    {
     "name": "stdout",
     "output_type": "stream",
     "text": [
      "-6.197895690181332 rad\n",
      "-6.244271545690573 rad\n",
      "-0.038913761489013154 rad\n",
      "-0.0852896169982551 rad\n",
      "-0.04640450411957664 rad\n",
      "-6.236780803060009 rad\n"
     ]
    },
    {
     "name": "stderr",
     "output_type": "stream",
     "text": [
      "6it [00:00,  7.31it/s]\n",
      "7it [00:00,  7.24it/s]\n"
     ]
    },
    {
     "name": "stdout",
     "output_type": "stream",
     "text": [
      "-6.19902621959791 rad\n",
      "-6.244747970826078 rad\n",
      "-0.038437336353508655 rad\n",
      "-0.08415908758167667 rad\n",
      "-0.045728737335189784 rad\n",
      "-6.2374565698443964 rad\n"
     ]
    },
    {
     "name": "stderr",
     "output_type": "stream",
     "text": [
      "6it [00:00,  7.38it/s]\n",
      "7it [00:00,  7.46it/s]\n"
     ]
    },
    {
     "name": "stdout",
     "output_type": "stream",
     "text": [
      "-6.200156963123998 rad\n",
      "-6.2452254406250365 rad\n",
      "-0.037959866554549304 rad\n",
      "-0.08302834405558812 rad\n",
      "-0.04505465984421253 rad\n",
      "-6.238130647335374 rad\n"
     ]
    },
    {
     "name": "stderr",
     "output_type": "stream",
     "text": [
      "6it [00:00,  7.34it/s]\n",
      "7it [00:00,  7.02it/s]\n"
     ]
    },
    {
     "name": "stdout",
     "output_type": "stream",
     "text": [
      "-6.201287917944603 rad\n",
      "-6.245703958315751 rad\n",
      "-0.03748134886383481 rad\n",
      "-0.08189738923498302 rad\n",
      "-0.04438226592066297 rad\n",
      "-6.238803041258923 rad\n"
     ]
    },
    {
     "name": "stderr",
     "output_type": "stream",
     "text": [
      "6it [00:00,  7.22it/s]\n"
     ]
    },
    {
     "name": "stdout",
     "output_type": "stream",
     "text": [
      "stop, the -0.005024242424242424\n"
     ]
    },
    {
     "name": "stderr",
     "output_type": "stream",
     "text": [
      "7it [00:00,  7.50it/s]\n"
     ]
    },
    {
     "name": "stdout",
     "output_type": "stream",
     "text": [
      "-6.148406455252941 rad\n",
      "-6.224296157423696 rad\n",
      "-0.05888914975588966 rad\n",
      "-0.13477885192664507 rad\n",
      "-0.07790173269392353 rad\n",
      "-6.205283574485662 rad\n"
     ]
    },
    {
     "name": "stderr",
     "output_type": "stream",
     "text": [
      "6it [00:00,  7.40it/s]\n",
      "7it [00:00,  7.29it/s]\n"
     ]
    },
    {
     "name": "stdout",
     "output_type": "stream",
     "text": [
      "-6.149524832796958 rad\n",
      "-6.224729635710567 rad\n",
      "-0.058455671469019865 rad\n",
      "-0.13366047438262862 rad\n",
      "-0.0771456105339956 rad\n",
      "-6.206039696645591 rad\n"
     ]
    },
    {
     "name": "stderr",
     "output_type": "stream",
     "text": [
      "6it [00:00,  7.18it/s]\n",
      "7it [00:00,  7.44it/s]\n"
     ]
    },
    {
     "name": "stdout",
     "output_type": "stream",
     "text": [
      "-6.1506435445352885 rad\n",
      "-6.225164028031221 rad\n",
      "-0.05802127914836541 rad\n",
      "-0.13254176264429773 rad\n",
      "-0.07639145326026675 rad\n",
      "-6.2067938539193195 rad\n"
     ]
    },
    {
     "name": "stderr",
     "output_type": "stream",
     "text": [
      "6it [00:00,  7.23it/s]\n",
      "7it [00:00,  7.40it/s]\n"
     ]
    },
    {
     "name": "stdout",
     "output_type": "stream",
     "text": [
      "-6.151762587832646 rad\n",
      "-6.225599337121608 rad\n",
      "-0.057585970057978386 rad\n",
      "-0.1314227193469404 rad\n",
      "-0.0756392540672155 rad\n",
      "-6.20754605311237 rad\n"
     ]
    },
    {
     "name": "stderr",
     "output_type": "stream",
     "text": [
      "6it [00:00,  7.25it/s]\n",
      "7it [00:00,  7.25it/s]\n"
     ]
    },
    {
     "name": "stdout",
     "output_type": "stream",
     "text": [
      "-6.152881960048865 rad\n",
      "-6.226035565727873 rad\n",
      "-0.0571497414517137 rad\n",
      "-0.13030334713072111 rad\n",
      "-0.07488900617580763 rad\n",
      "-6.208296301003779 rad\n"
     ]
    },
    {
     "name": "stderr",
     "output_type": "stream",
     "text": [
      "6it [00:00,  7.18it/s]\n",
      "7it [00:00,  7.44it/s]\n"
     ]
    },
    {
     "name": "stdout",
     "output_type": "stream",
     "text": [
      "-6.154001658538943 rad\n",
      "-6.226472716606402 rad\n",
      "-0.056712590573184674 rad\n",
      "-0.1291836486406428 rad\n",
      "-0.07414070283340335 rad\n",
      "-6.209044604346182 rad\n"
     ]
    },
    {
     "name": "stderr",
     "output_type": "stream",
     "text": [
      "6it [00:00,  7.25it/s]\n",
      "7it [00:00,  7.26it/s]\n"
     ]
    },
    {
     "name": "stdout",
     "output_type": "stream",
     "text": [
      "-6.155121680653073 rad\n",
      "-6.226910792523865 rad\n",
      "-0.056274514655720864 rad\n",
      "-0.12806362652651337 rad\n",
      "-0.0733943373136694 rad\n",
      "-6.209790969865917 rad\n"
     ]
    },
    {
     "name": "stderr",
     "output_type": "stream",
     "text": [
      "6it [00:00,  7.38it/s]\n",
      "7it [00:00,  7.42it/s]\n"
     ]
    },
    {
     "name": "stdout",
     "output_type": "stream",
     "text": [
      "-6.156242023736674 rad\n",
      "-6.227349796257262 rad\n",
      "-0.05583551092232408 rad\n",
      "-0.12694328344291206 rad\n",
      "-0.07264990291648354 rad\n",
      "-6.210535404263103 rad\n"
     ]
    },
    {
     "name": "stderr",
     "output_type": "stream",
     "text": [
      "6it [00:00,  7.14it/s]\n",
      "7it [00:00,  7.18it/s]\n"
     ]
    },
    {
     "name": "stdout",
     "output_type": "stream",
     "text": [
      "-6.157362685130433 rad\n",
      "-6.227789730593962 rad\n",
      "-0.055395576585623996 rad\n",
      "-0.1258226220491525 rad\n",
      "-0.07190739296784443 rad\n",
      "-6.211277914211742 rad\n"
     ]
    },
    {
     "name": "stderr",
     "output_type": "stream",
     "text": [
      "6it [00:00,  7.16it/s]\n",
      "7it [00:00,  7.41it/s]\n"
     ]
    },
    {
     "name": "stdout",
     "output_type": "stream",
     "text": [
      "-6.158483662170338 rad\n",
      "-6.228230598331753 rad\n",
      "-0.05495470884783327 rad\n",
      "-0.12470164500924863 rad\n",
      "-0.07116680081978144 rad\n",
      "-6.212018506359804 rad\n"
     ]
    },
    {
     "name": "stderr",
     "output_type": "stream",
     "text": [
      "6it [00:00,  7.28it/s]\n",
      "7it [00:00,  7.41it/s]\n"
     ]
    },
    {
     "name": "stdout",
     "output_type": "stream",
     "text": [
      "-6.159604952187707 rad\n",
      "-6.228672402278882 rad\n",
      "-0.054512904900704484 rad\n",
      "-0.12358035499187903 rad\n",
      "-0.07042811985026098 rad\n",
      "-6.212757187329325 rad\n"
     ]
    },
    {
     "name": "stderr",
     "output_type": "stream",
     "text": [
      "6it [00:00,  7.36it/s]\n",
      "7it [00:00,  7.40it/s]\n"
     ]
    },
    {
     "name": "stdout",
     "output_type": "stream",
     "text": [
      "-6.160726552509233 rad\n",
      "-6.2291151452541005 rad\n",
      "-0.05407016192548619 rad\n",
      "-0.12245875467035283 rad\n",
      "-0.0696913434630968 rad\n",
      "-6.213493963716489 rad\n"
     ]
    },
    {
     "name": "stderr",
     "output_type": "stream",
     "text": [
      "6it [00:00,  6.16it/s]\n",
      "7it [00:00,  7.23it/s]\n"
     ]
    },
    {
     "name": "stdout",
     "output_type": "stream",
     "text": [
      "-6.161848460457016 rad\n",
      "-6.229558830086711 rad\n",
      "-0.05362647709287538 rad\n",
      "-0.12133684672257106 rad\n",
      "-0.06895646508785624 rad\n",
      "-6.21422884209173 rad\n"
     ]
    },
    {
     "name": "stderr",
     "output_type": "stream",
     "text": [
      "6it [00:00,  7.22it/s]\n",
      "7it [00:00,  7.12it/s]\n"
     ]
    },
    {
     "name": "stdout",
     "output_type": "stream",
     "text": [
      "-6.1629706733485925 rad\n",
      "-6.230003459616611 rad\n",
      "-0.05318184756297528 rad\n",
      "-0.12021463383099373 rad\n",
      "-0.06822347817977237 rad\n",
      "-6.214961828999813 rad\n"
     ]
    },
    {
     "name": "stderr",
     "output_type": "stream",
     "text": [
      "6it [00:00,  7.28it/s]\n",
      "7it [00:00,  7.22it/s]\n"
     ]
    },
    {
     "name": "stdout",
     "output_type": "stream",
     "text": [
      "-6.1640931884969845 rad\n",
      "-6.230449036694337 rad\n",
      "-0.05273627048525009 rad\n",
      "-0.11909211868260217 rad\n",
      "-0.06749237621964888 rad\n",
      "-6.215692930959937 rad\n"
     ]
    },
    {
     "name": "stderr",
     "output_type": "stream",
     "text": [
      "6it [00:00,  7.09it/s]\n",
      "7it [00:00,  7.12it/s]\n"
     ]
    },
    {
     "name": "stdout",
     "output_type": "stream",
     "text": [
      "-6.165216003210722 rad\n",
      "-6.230895564181109 rad\n",
      "-0.052289742998476996 rad\n",
      "-0.11796930396886385 rad\n",
      "-0.06676315271377131 rad\n",
      "-6.216422154465815 rad\n"
     ]
    },
    {
     "name": "stderr",
     "output_type": "stream",
     "text": [
      "6it [00:00,  6.59it/s]\n"
     ]
    },
    {
     "name": "stdout",
     "output_type": "stream",
     "text": [
      "stop, the -0.0072545454545454545\n"
     ]
    },
    {
     "name": "stderr",
     "output_type": "stream",
     "text": [
      "7it [00:00,  7.05it/s]\n"
     ]
    },
    {
     "name": "stdout",
     "output_type": "stream",
     "text": [
      "-6.148406455252941 rad\n",
      "-6.224296157423696 rad\n",
      "-0.05888914975588966 rad\n",
      "-0.13477885192664507 rad\n",
      "-0.07790173269392353 rad\n",
      "-6.205283574485662 rad\n"
     ]
    },
    {
     "name": "stderr",
     "output_type": "stream",
     "text": [
      "6it [00:00,  7.15it/s]"
     ]
    },
    {
     "name": "stdout",
     "output_type": "stream",
     "text": [
      "stop, the -0.0083\n"
     ]
    },
    {
     "name": "stderr",
     "output_type": "stream",
     "text": [
      "\n"
     ]
    }
   ],
   "source": [
    "conv=np.linspace(-0.0083,-0.0014, 100)\n",
    "convergence_list=[]\n",
    "divergence_list=[0.0022, 0.0043, 0.008, 0.01135, 0.013]\n",
    "for divergence in divergence_list:\n",
    "    for convergence in conv:\n",
    "        array_div.divergent_pointing(div=divergence, az=0, alt=60)\n",
    "        hFoV_to_stop=array_div.hFoV(subarray_mult=number_of_telescopes_config_SST_div,m_cut=21)[0]\n",
    "        array_conv.divergent_pointing(div=convergence, az=0, alt=60)\n",
    "        hFoV_conv=array_conv.hFoV(subarray_mult=number_of_telescopes_config_SST_conv,m_cut=23)[0]\n",
    "        if hFoV_conv > hFoV_to_stop:\n",
    "            convergence_list.append(convergence)\n",
    "            print(f\"stop, the {convergence}\")\n",
    "            break "
   ]
  },
  {
   "cell_type": "code",
   "execution_count": 143,
   "metadata": {},
   "outputs": [
    {
     "data": {
      "text/plain": [
       "[-0.0026545454545454546,\n",
       " -0.005024242424242424,\n",
       " -0.0072545454545454545,\n",
       " -0.0083]"
      ]
     },
     "execution_count": 143,
     "metadata": {},
     "output_type": "execute_result"
    }
   ],
   "source": [
    "convergence_list"
   ]
  },
  {
   "cell_type": "code",
   "execution_count": null,
   "metadata": {},
   "outputs": [],
   "source": [
    "# Here i am not using the one that I normally use for the pointing with the corresponding barycenter because i am trying just to make an estimate"
   ]
  },
  {
   "cell_type": "code",
   "execution_count": null,
   "metadata": {},
   "outputs": [],
   "source": []
  },
  {
   "cell_type": "code",
   "execution_count": null,
   "metadata": {},
   "outputs": [],
   "source": []
  },
  {
   "cell_type": "code",
   "execution_count": null,
   "metadata": {},
   "outputs": [],
   "source": []
  },
  {
   "cell_type": "code",
   "execution_count": null,
   "metadata": {},
   "outputs": [],
   "source": []
  },
  {
   "cell_type": "code",
   "execution_count": null,
   "metadata": {},
   "outputs": [],
   "source": []
  },
  {
   "cell_type": "code",
   "execution_count": null,
   "metadata": {},
   "outputs": [],
   "source": []
  },
  {
   "cell_type": "code",
   "execution_count": null,
   "metadata": {},
   "outputs": [],
   "source": []
  },
  {
   "cell_type": "code",
   "execution_count": null,
   "metadata": {},
   "outputs": [],
   "source": []
  },
  {
   "cell_type": "code",
   "execution_count": null,
   "metadata": {},
   "outputs": [],
   "source": []
  },
  {
   "cell_type": "code",
   "execution_count": null,
   "metadata": {},
   "outputs": [],
   "source": []
  },
  {
   "cell_type": "code",
   "execution_count": null,
   "metadata": {},
   "outputs": [],
   "source": []
  },
  {
   "cell_type": "code",
   "execution_count": null,
   "metadata": {},
   "outputs": [],
   "source": []
  },
  {
   "cell_type": "code",
   "execution_count": null,
   "metadata": {},
   "outputs": [],
   "source": []
  },
  {
   "cell_type": "code",
   "execution_count": null,
   "metadata": {},
   "outputs": [],
   "source": []
  }
 ],
 "metadata": {
  "kernelspec": {
   "display_name": "Python 3 (ipykernel)",
   "language": "python",
   "name": "python3"
  },
  "language_info": {
   "codemirror_mode": {
    "name": "ipython",
    "version": 3
   },
   "file_extension": ".py",
   "mimetype": "text/x-python",
   "name": "python",
   "nbconvert_exporter": "python",
   "pygments_lexer": "ipython3",
   "version": "3.12.4"
  }
 },
 "nbformat": 4,
 "nbformat_minor": 4
}
