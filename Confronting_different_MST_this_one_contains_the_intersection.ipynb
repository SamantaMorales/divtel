{
 "cells": [
  {
   "cell_type": "code",
   "execution_count": 1,
   "metadata": {},
   "outputs": [
    {
     "name": "stdout",
     "output_type": "stream",
     "text": [
      "/Users/macbook/divtel\n"
     ]
    }
   ],
   "source": [
    "!pwd"
   ]
  },
  {
   "cell_type": "code",
   "execution_count": 2,
   "metadata": {},
   "outputs": [
    {
     "name": "stdout",
     "output_type": "stream",
     "text": [
      "Intel MKL WARNING: Support of Intel(R) Streaming SIMD Extensions 4.2 (Intel(R) SSE4.2) enabled only processors has been deprecated. Intel oneAPI Math Kernel Library 2025.0 will require Intel(R) Advanced Vector Extensions (Intel(R) AVX) instructions.\n",
      "Intel MKL WARNING: Support of Intel(R) Streaming SIMD Extensions 4.2 (Intel(R) SSE4.2) enabled only processors has been deprecated. Intel oneAPI Math Kernel Library 2025.0 will require Intel(R) Advanced Vector Extensions (Intel(R) AVX) instructions.\n"
     ]
    }
   ],
   "source": [
    "%load_ext autoreload\n",
    "%autoreload 2\n",
    "%matplotlib inline\n",
    "import astropy.units as u\n",
    "import numpy as np\n",
    "import matplotlib.pyplot as plt\n",
    "import sys\n",
    "from ipywidgets import interactive, FloatSlider, interact, fixed\n",
    "from divtel import *\n",
    "\n",
    "\n",
    "import copy\n",
    "import astropy.units as u\n",
    "from astropy.coordinates import SkyCoord\n",
    "from astroplan.plots import plot_sky\n",
    "from astroplan import FixedTarget\n",
    "#from . import utils\n",
    "#from .const import COLORS\n",
    "#from . import pointing\n",
    "\n",
    "from matplotlib.transforms import Affine2D\n",
    "from astropy.visualization.wcsaxes import SphericalCircle\n",
    "\n",
    "import healpy as hp\n",
    "import tqdm\n",
    "\n",
    "#!jupyter labextension install @jupyter-widgets/jupyterlab-manager"
   ]
  },
  {
   "cell_type": "markdown",
   "metadata": {},
   "source": [
    "## LOAD CTA CONFIG"
   ]
  },
  {
   "cell_type": "code",
   "execution_count": 3,
   "metadata": {},
   "outputs": [
    {
     "name": "stdout",
     "output_type": "stream",
     "text": [
      "Observer         :  CTA South\n",
      "Location         :  Paranal , (1946.635798, -5467.63394562, -2642.49852123) km\n",
      "Observation time :  2024-12-15T15:06:34.418\n"
     ]
    }
   ],
   "source": [
    "cta = CTA_Info('south')"
   ]
  },
  {
   "cell_type": "code",
   "execution_count": 4,
   "metadata": {},
   "outputs": [],
   "source": [
    "# Note that if the radius is in meters, \n",
    "# you can set LoadConfig(file, radius=\"meters\")\n",
    "# defalut is in degrees\n",
    "\n",
    "array = LoadConfig(\"/Users/macbook/divtel/ParanalArrayPositions_divProd6.txt\", frame=cta)\n",
    "full_array= LoadConfig(\"/Users/macbook/divtel/Paranal_only_MST.txt\", frame=cta)"
   ]
  },
  {
   "cell_type": "markdown",
   "metadata": {},
   "source": [
    "## Check configuration table"
   ]
  },
  {
   "cell_type": "code",
   "execution_count": 5,
   "metadata": {},
   "outputs": [
    {
     "data": {
      "text/html": [
       "<div><i>Table length=14</i>\n",
       "<table id=\"table4589203056\" class=\"table-striped table-bordered table-condensed\">\n",
       "<thead><tr><th>id</th><th>x</th><th>y</th><th>z</th><th>az</th><th>alt</th><th>zn</th><th>focal</th><th>radius</th><th>fov</th><th>p_x</th><th>p_y</th><th>p_z</th><th>d_tel</th></tr></thead>\n",
       "<thead><tr><th></th><th>m</th><th>m</th><th>m</th><th>rad</th><th>rad</th><th>rad</th><th>m</th><th>m</th><th>rad2</th><th></th><th></th><th></th><th>m</th></tr></thead>\n",
       "<thead><tr><th>int64</th><th>float64</th><th>float64</th><th>float64</th><th>float64</th><th>float64</th><th>float64</th><th>float64</th><th>float64</th><th>float64</th><th>float64</th><th>float64</th><th>float64</th><th>float64</th></tr></thead>\n",
       "<tr><td>1</td><td>0.0</td><td>0.0</td><td>24.0</td><td>0.000</td><td>0.000</td><td>1.571</td><td>16.000</td><td>1.077</td><td>0.014</td><td>1.000</td><td>-0.000</td><td>0.000</td><td>22.65</td></tr>\n",
       "<tr><td>2</td><td>0.0</td><td>151.0</td><td>25.0</td><td>0.000</td><td>0.000</td><td>1.571</td><td>16.000</td><td>1.077</td><td>0.014</td><td>1.000</td><td>-0.000</td><td>0.000</td><td>152.67</td></tr>\n",
       "<tr><td>3</td><td>0.0</td><td>-151.0</td><td>31.0</td><td>0.000</td><td>0.000</td><td>1.571</td><td>16.000</td><td>1.077</td><td>0.014</td><td>1.000</td><td>-0.000</td><td>0.000</td><td>152.68</td></tr>\n",
       "<tr><td>4</td><td>150.0</td><td>75.0</td><td>21.0</td><td>0.000</td><td>0.000</td><td>1.571</td><td>16.000</td><td>1.077</td><td>0.014</td><td>1.000</td><td>-0.000</td><td>0.000</td><td>188.09</td></tr>\n",
       "<tr><td>5</td><td>150.0</td><td>-75.0</td><td>26.0</td><td>0.000</td><td>0.000</td><td>1.571</td><td>16.000</td><td>1.077</td><td>0.014</td><td>1.000</td><td>-0.000</td><td>0.000</td><td>187.98</td></tr>\n",
       "<tr><td>6</td><td>150.0</td><td>240.0</td><td>24.0</td><td>0.000</td><td>0.000</td><td>1.571</td><td>16.000</td><td>1.077</td><td>0.014</td><td>1.000</td><td>-0.000</td><td>0.000</td><td>295.50</td></tr>\n",
       "<tr><td>7</td><td>150.0</td><td>-240.0</td><td>30.0</td><td>0.000</td><td>0.000</td><td>1.571</td><td>16.000</td><td>1.077</td><td>0.014</td><td>1.000</td><td>-0.000</td><td>0.000</td><td>295.49</td></tr>\n",
       "<tr><td>8</td><td>313.0</td><td>0.0</td><td>19.0</td><td>0.000</td><td>0.000</td><td>1.571</td><td>16.000</td><td>1.077</td><td>0.014</td><td>1.000</td><td>-0.000</td><td>0.000</td><td>335.47</td></tr>\n",
       "<tr><td>9</td><td>-150.0</td><td>-75.0</td><td>28.0</td><td>0.000</td><td>0.000</td><td>1.571</td><td>16.000</td><td>1.077</td><td>0.014</td><td>1.000</td><td>-0.000</td><td>0.000</td><td>148.05</td></tr>\n",
       "<tr><td>10</td><td>-150.0</td><td>75.0</td><td>28.0</td><td>0.000</td><td>0.000</td><td>1.571</td><td>16.000</td><td>1.077</td><td>0.014</td><td>1.000</td><td>-0.000</td><td>0.000</td><td>148.05</td></tr>\n",
       "<tr><td>11</td><td>-150.0</td><td>-240.0</td><td>38.5</td><td>0.000</td><td>0.000</td><td>1.571</td><td>16.000</td><td>1.077</td><td>0.014</td><td>1.000</td><td>-0.000</td><td>0.000</td><td>272.05</td></tr>\n",
       "<tr><td>12</td><td>-150.0</td><td>240.0</td><td>27.0</td><td>0.000</td><td>0.000</td><td>1.571</td><td>16.000</td><td>1.077</td><td>0.014</td><td>1.000</td><td>-0.000</td><td>0.000</td><td>271.83</td></tr>\n",
       "<tr><td>13</td><td>-313.0</td><td>-162.0</td><td>35.0</td><td>0.000</td><td>0.000</td><td>1.571</td><td>16.000</td><td>1.077</td><td>0.014</td><td>1.000</td><td>-0.000</td><td>0.000</td><td>332.82</td></tr>\n",
       "<tr><td>14</td><td>-313.0</td><td>162.0</td><td>30.5</td><td>0.000</td><td>0.000</td><td>1.571</td><td>16.000</td><td>1.077</td><td>0.014</td><td>1.000</td><td>-0.000</td><td>0.000</td><td>332.75</td></tr>\n",
       "</table></div>"
      ],
      "text/plain": [
       "<Table length=14>\n",
       "  id     x       y       z       az   ...   p_x     p_y     p_z    d_tel \n",
       "         m       m       m      rad   ...                            m   \n",
       "int64 float64 float64 float64 float64 ... float64 float64 float64 float64\n",
       "----- ------- ------- ------- ------- ... ------- ------- ------- -------\n",
       "    1     0.0     0.0    24.0   0.000 ...   1.000  -0.000   0.000   22.65\n",
       "    2     0.0   151.0    25.0   0.000 ...   1.000  -0.000   0.000  152.67\n",
       "    3     0.0  -151.0    31.0   0.000 ...   1.000  -0.000   0.000  152.68\n",
       "    4   150.0    75.0    21.0   0.000 ...   1.000  -0.000   0.000  188.09\n",
       "    5   150.0   -75.0    26.0   0.000 ...   1.000  -0.000   0.000  187.98\n",
       "    6   150.0   240.0    24.0   0.000 ...   1.000  -0.000   0.000  295.50\n",
       "    7   150.0  -240.0    30.0   0.000 ...   1.000  -0.000   0.000  295.49\n",
       "    8   313.0     0.0    19.0   0.000 ...   1.000  -0.000   0.000  335.47\n",
       "    9  -150.0   -75.0    28.0   0.000 ...   1.000  -0.000   0.000  148.05\n",
       "   10  -150.0    75.0    28.0   0.000 ...   1.000  -0.000   0.000  148.05\n",
       "   11  -150.0  -240.0    38.5   0.000 ...   1.000  -0.000   0.000  272.05\n",
       "   12  -150.0   240.0    27.0   0.000 ...   1.000  -0.000   0.000  271.83\n",
       "   13  -313.0  -162.0    35.0   0.000 ...   1.000  -0.000   0.000  332.82\n",
       "   14  -313.0   162.0    30.5   0.000 ...   1.000  -0.000   0.000  332.75"
      ]
     },
     "execution_count": 5,
     "metadata": {},
     "output_type": "execute_result"
    }
   ],
   "source": [
    "array.table.units = \"deg\"\n",
    "array.table\n",
    "full_array.table"
   ]
  },
  {
   "cell_type": "code",
   "execution_count": 6,
   "metadata": {},
   "outputs": [],
   "source": [
    "table=array.table"
   ]
  },
  {
   "cell_type": "markdown",
   "metadata": {},
   "source": [
    "## Check the telescope spatial distribution\n",
    "This is useful to pick the groups"
   ]
  },
  {
   "cell_type": "code",
   "execution_count": 7,
   "metadata": {},
   "outputs": [
    {
     "data": {
      "text/html": [
       "<div><i>Table length=64</i>\n",
       "<table id=\"table4694300032\" class=\"table-striped table-bordered table-condensed\">\n",
       "<thead><tr><th>id</th><th>x</th><th>y</th><th>z</th><th>az</th><th>alt</th><th>zn</th><th>focal</th><th>radius</th><th>fov</th><th>p_x</th><th>p_y</th><th>p_z</th><th>d_tel</th></tr></thead>\n",
       "<thead><tr><th></th><th>m</th><th>m</th><th>m</th><th>deg</th><th>deg</th><th>deg</th><th>m</th><th>deg</th><th>deg2</th><th></th><th></th><th></th><th>m</th></tr></thead>\n",
       "<thead><tr><th>int64</th><th>float64</th><th>float64</th><th>float64</th><th>float64</th><th>float64</th><th>float64</th><th>float64</th><th>float64</th><th>float64</th><th>float64</th><th>float64</th><th>float64</th><th>float64</th></tr></thead>\n",
       "<tr><td>1</td><td>-20.0</td><td>-65.0</td><td>34.0</td><td>0.000</td><td>0.000</td><td>90.000</td><td>28.000</td><td>2.150</td><td>14.536</td><td>1.000</td><td>-0.000</td><td>0.000</td><td>66.52</td></tr>\n",
       "<tr><td>2</td><td>80.0</td><td>0.0</td><td>29.0</td><td>0.000</td><td>0.000</td><td>90.000</td><td>28.000</td><td>2.150</td><td>14.536</td><td>1.000</td><td>-0.000</td><td>0.000</td><td>86.67</td></tr>\n",
       "<tr><td>3</td><td>-20.0</td><td>65.0</td><td>31.0</td><td>0.000</td><td>0.000</td><td>90.000</td><td>28.000</td><td>2.150</td><td>14.536</td><td>1.000</td><td>-0.000</td><td>0.000</td><td>66.37</td></tr>\n",
       "<tr><td>4</td><td>-120.0</td><td>0.0</td><td>33.0</td><td>0.000</td><td>0.000</td><td>90.000</td><td>28.000</td><td>2.150</td><td>14.536</td><td>1.000</td><td>-0.000</td><td>0.000</td><td>113.39</td></tr>\n",
       "<tr><td>5</td><td>0.0</td><td>0.0</td><td>24.0</td><td>0.000</td><td>0.000</td><td>90.000</td><td>16.000</td><td>3.850</td><td>46.707</td><td>1.000</td><td>-0.000</td><td>0.000</td><td>8.55</td></tr>\n",
       "<tr><td>6</td><td>0.0</td><td>151.0</td><td>25.0</td><td>0.000</td><td>0.000</td><td>90.000</td><td>16.000</td><td>3.850</td><td>46.707</td><td>1.000</td><td>-0.000</td><td>0.000</td><td>151.21</td></tr>\n",
       "<tr><td>7</td><td>0.0</td><td>-151.0</td><td>31.0</td><td>0.000</td><td>0.000</td><td>90.000</td><td>16.000</td><td>3.850</td><td>46.707</td><td>1.000</td><td>-0.000</td><td>0.000</td><td>151.16</td></tr>\n",
       "<tr><td>8</td><td>150.0</td><td>75.0</td><td>21.0</td><td>0.000</td><td>0.000</td><td>90.000</td><td>16.000</td><td>3.850</td><td>46.707</td><td>1.000</td><td>-0.000</td><td>0.000</td><td>173.90</td></tr>\n",
       "<tr><td>9</td><td>150.0</td><td>-75.0</td><td>26.0</td><td>0.000</td><td>0.000</td><td>90.000</td><td>16.000</td><td>3.850</td><td>46.707</td><td>1.000</td><td>-0.000</td><td>0.000</td><td>173.73</td></tr>\n",
       "<tr><td>...</td><td>...</td><td>...</td><td>...</td><td>...</td><td>...</td><td>...</td><td>...</td><td>...</td><td>...</td><td>...</td><td>...</td><td>...</td><td>...</td></tr>\n",
       "<tr><td>56</td><td>748.0</td><td>367.0</td><td>6.25</td><td>0.000</td><td>0.000</td><td>90.000</td><td>5.600</td><td>4.450</td><td>62.462</td><td>1.000</td><td>-0.000</td><td>0.000</td><td>839.50</td></tr>\n",
       "<tr><td>57</td><td>816.0</td><td>-648.0</td><td>41.25</td><td>0.000</td><td>0.000</td><td>90.000</td><td>5.600</td><td>4.450</td><td>62.462</td><td>1.000</td><td>-0.000</td><td>0.000</td><td>1047.30</td></tr>\n",
       "<tr><td>58</td><td>816.0</td><td>648.0</td><td>18.75</td><td>0.000</td><td>0.000</td><td>90.000</td><td>5.600</td><td>4.450</td><td>62.462</td><td>1.000</td><td>-0.000</td><td>0.000</td><td>1047.28</td></tr>\n",
       "<tr><td>59</td><td>0.0</td><td>-950.0</td><td>75.25</td><td>0.000</td><td>0.000</td><td>90.000</td><td>5.600</td><td>4.450</td><td>62.462</td><td>1.000</td><td>-0.000</td><td>0.000</td><td>951.13</td></tr>\n",
       "<tr><td>60</td><td>0.0</td><td>950.0</td><td>28.25</td><td>0.000</td><td>0.000</td><td>90.000</td><td>5.600</td><td>4.450</td><td>62.462</td><td>1.000</td><td>-0.000</td><td>0.000</td><td>950.02</td></tr>\n",
       "<tr><td>61</td><td>-955.0</td><td>-199.0</td><td>39.25</td><td>0.000</td><td>0.000</td><td>90.000</td><td>5.600</td><td>4.450</td><td>62.462</td><td>1.000</td><td>-0.000</td><td>0.000</td><td>969.03</td></tr>\n",
       "<tr><td>62</td><td>-955.0</td><td>199.0</td><td>22.75</td><td>0.000</td><td>0.000</td><td>90.000</td><td>5.600</td><td>4.450</td><td>62.462</td><td>1.000</td><td>-0.000</td><td>0.000</td><td>969.01</td></tr>\n",
       "<tr><td>63</td><td>955.0</td><td>-199.0</td><td>7.75</td><td>0.000</td><td>0.000</td><td>90.000</td><td>5.600</td><td>4.450</td><td>62.462</td><td>1.000</td><td>-0.000</td><td>0.000</td><td>982.28</td></tr>\n",
       "<tr><td>64</td><td>955.0</td><td>199.0</td><td>5.25</td><td>0.000</td><td>0.000</td><td>90.000</td><td>5.600</td><td>4.450</td><td>62.462</td><td>1.000</td><td>-0.000</td><td>0.000</td><td>982.34</td></tr>\n",
       "</table></div>"
      ],
      "text/plain": [
       "<Table length=64>\n",
       "  id     x       y       z       az   ...   p_x     p_y     p_z    d_tel \n",
       "         m       m       m      deg   ...                            m   \n",
       "int64 float64 float64 float64 float64 ... float64 float64 float64 float64\n",
       "----- ------- ------- ------- ------- ... ------- ------- ------- -------\n",
       "    1   -20.0   -65.0    34.0   0.000 ...   1.000  -0.000   0.000   66.52\n",
       "    2    80.0     0.0    29.0   0.000 ...   1.000  -0.000   0.000   86.67\n",
       "    3   -20.0    65.0    31.0   0.000 ...   1.000  -0.000   0.000   66.37\n",
       "    4  -120.0     0.0    33.0   0.000 ...   1.000  -0.000   0.000  113.39\n",
       "    5     0.0     0.0    24.0   0.000 ...   1.000  -0.000   0.000    8.55\n",
       "    6     0.0   151.0    25.0   0.000 ...   1.000  -0.000   0.000  151.21\n",
       "    7     0.0  -151.0    31.0   0.000 ...   1.000  -0.000   0.000  151.16\n",
       "    8   150.0    75.0    21.0   0.000 ...   1.000  -0.000   0.000  173.90\n",
       "    9   150.0   -75.0    26.0   0.000 ...   1.000  -0.000   0.000  173.73\n",
       "  ...     ...     ...     ...     ... ...     ...     ...     ...     ...\n",
       "   56   748.0   367.0    6.25   0.000 ...   1.000  -0.000   0.000  839.50\n",
       "   57   816.0  -648.0   41.25   0.000 ...   1.000  -0.000   0.000 1047.30\n",
       "   58   816.0   648.0   18.75   0.000 ...   1.000  -0.000   0.000 1047.28\n",
       "   59     0.0  -950.0   75.25   0.000 ...   1.000  -0.000   0.000  951.13\n",
       "   60     0.0   950.0   28.25   0.000 ...   1.000  -0.000   0.000  950.02\n",
       "   61  -955.0  -199.0   39.25   0.000 ...   1.000  -0.000   0.000  969.03\n",
       "   62  -955.0   199.0   22.75   0.000 ...   1.000  -0.000   0.000  969.01\n",
       "   63   955.0  -199.0    7.75   0.000 ...   1.000  -0.000   0.000  982.28\n",
       "   64   955.0   199.0    5.25   0.000 ...   1.000  -0.000   0.000  982.34"
      ]
     },
     "execution_count": 7,
     "metadata": {},
     "output_type": "execute_result"
    }
   ],
   "source": [
    "array.table"
   ]
  },
  {
   "cell_type": "code",
   "execution_count": 8,
   "metadata": {},
   "outputs": [
    {
     "data": {
      "image/png": "[encoded data removed]",
      "text/plain": [
       "<Figure size 800x600 with 1 Axes>"
      ]
     },
     "metadata": {},
     "output_type": "display_data"
    }
   ],
   "source": [
    "# Loop through all the telescopes\n",
    "#for fov in array.table[\"fov\"]:\n",
    "#    print(fov)\n",
    "colors = [\n",
    "    'lightseagreen' if np.isclose(fov, 14.5356) else\n",
    "    'blueviolet' if np.isclose(fov, 46.707) else \n",
    "    'green' if np.isclose(fov, 62.462) else\n",
    "    'red'  # Default color if none of the conditions match\n",
    "    for fov in array.table[\"fov\"]\n",
    "]\n",
    "fov_labels = {\n",
    "    'lightseagreen': 'LST',\n",
    "    'blueviolet': 'MST',\n",
    "    'green': 'SST'\n",
    "}\n",
    "for i in range(len(array.table)):\n",
    "    plt.scatter(array.table['x'][i], array.table['y'][i], c=colors[i], label=fov_labels[colors[i]])\n",
    "\n",
    "    # Annotate each point with the telescope ID\n",
    "    #matplotlib.pyplot.annotate(text, xy, xytext=None, xycoords='data', textcoords=None, arrowprops=None, annotation_clip=None, **kwargs)\n",
    "#Annotate the point xy with text text.\n",
    "#In the simplest form, the text is placed at xy.\n",
    "    plt.annotate(str(array.table[\"id\"][i]),\n",
    "                 (array.table['x'][i], array.table['y'][i]),  # Point position\n",
    "                 textcoords=\"offset points\",  # Text position relative to the point\n",
    "                 xytext=(5, 5),  # Offset in pixels (to avoid overlapping the point)\n",
    "                 ha='center', fontsize=10, color='blue')\n",
    "handles, labels = plt.gca().get_legend_handles_labels()\n",
    "#handles, labels like this is doing\n",
    "    #plt.gca() gets the current Axes object, which is where your plot is\n",
    "    #.get_legend_handles_labels()\n",
    "        #handles: Returns a list of the graphical elements (e.g., lines, scatter plot points) that would appear in the legend.\n",
    "        # labels: Returns the text labels associated with each graphical element in handles\n",
    "\n",
    "by_label = dict(zip(labels, handles))  # Remove duplicate labels, the dictionary by the structure takes out the double \n",
    "plt.legend(by_label.values(), by_label.keys())\n",
    "#by_label.values This is pulling out the unique graphical elements\n",
    "# by_label.keys  This is retrieving the unique text \n",
    "plt.savefig(\"./different_telescopes.png\", dpi=300, bbox_inches=\"tight\")\n",
    "plt.show() "
   ]
  },
  {
   "cell_type": "markdown",
   "metadata": {},
   "source": [
    "## Check the hyper field of view (hFoV)"
   ]
  },
  {
   "cell_type": "markdown",
   "metadata": {},
   "source": [
    "This is the whole telescope array hFoV maybe? (ask)"
   ]
  },
  {
   "cell_type": "code",
   "execution_count": 9,
   "metadata": {},
   "outputs": [
    {
     "name": "stderr",
     "output_type": "stream",
     "text": [
      "64it [00:09,  6.89it/s]\n"
     ]
    },
    {
     "data": {
      "text/plain": [
       "(62.238869377690584, 57.415086388537716)"
      ]
     },
     "execution_count": 9,
     "metadata": {},
     "output_type": "execute_result"
    }
   ],
   "source": [
    "array.hFoV(m_cut=3) "
   ]
  },
  {
   "cell_type": "code",
   "execution_count": 10,
   "metadata": {},
   "outputs": [],
   "source": [
    "#array.hFoV(m_cut=3)"
   ]
  },
  {
   "cell_type": "markdown",
   "metadata": {},
   "source": [
    "## Grouping telescopes"
   ]
  },
  {
   "cell_type": "code",
   "execution_count": 11,
   "metadata": {},
   "outputs": [],
   "source": [
    "sub_groups={'1':[7,8,11], \n",
    "            '2': [5,13,16,18],\n",
    "            '3': [14,15,17], \n",
    "            '4': [6,10,12,9]}\n",
    "#sub_groups_2 = {'1':[18,17,16,14], \n",
    "#                '2': [13,15,5,7],\n",
    "#                '3': [6,8,10],\n",
    "#                '4': [9,11,12]\n",
    "#              }\n",
    "sub_groups_3={'1':[18,14,13,17],\n",
    "             '2':[7,11,15],\n",
    "             '3':[5,8,9,12],\n",
    "            '4':[16,6,10]}\n",
    "\n",
    "\n",
    "sub_groups_2={'1':[16,18,13], \n",
    "            '2': [14,14,15],\n",
    "            '3': [5,6,10,9], \n",
    "            '4': [7,8,11,12]}\n",
    "#sub_groups_3 = {'1':[18,10,12,13], \n",
    "#                '2':[14,15,17],\n",
    "#                '3': [6,7,9,11],\n",
    "#                '4': [16,8,5]\n",
    "#              }\n",
    "#sub_groups_3={'1':[18,14,13,17],\n",
    "#             '2':[7,11,15],\n",
    "#             '3':[5,8,9,12],\n",
    "#             '4':[16,6,10]}\n"
   ]
  },
  {
   "cell_type": "code",
   "execution_count": 12,
   "metadata": {},
   "outputs": [],
   "source": [
    "def compute_center_of_gravity(group):\n",
    "    x, y, z = group['x'], group['y'], group['z']\n",
    "    cog_x = round(np.mean(x),2)\n",
    "    cog_y = round(np.mean(y),2)\n",
    "    cog_z = round(np.mean(z),2)\n",
    "    return cog_x, cog_y, cog_z\n",
    "\n",
    "# Function to create new telescope list with center of gravity\n",
    "def create_new_group_list(tel_group):\n",
    "    new_telescopes = []\n",
    "    for group in tel_group.groups:\n",
    "        print(tel_group.groups)\n",
    "        print (group['focal'][0],round(group['radius'][0],2))\n",
    "        #id_ = group[\"id\"][0]\n",
    "        cog = compute_center_of_gravity(group)\n",
    "        focal, fov = group['focal'][0], round(group['radius'][0],2)  # Assuming same within a group\n",
    "        new_telescopes.append([*cog, focal, fov])\n",
    "    return new_telescopes\n"
   ]
  },
  {
   "cell_type": "code",
   "execution_count": 13,
   "metadata": {},
   "outputs": [],
   "source": [
    "tel_group_2, labels_2, number_of_telescopes_subarray_2 =array.group_by(sub_groups_2)\n",
    "#tel_group_3, labels_3 = group_by(array, group=only_MST)"
   ]
  },
  {
   "cell_type": "code",
   "execution_count": 14,
   "metadata": {},
   "outputs": [],
   "source": [
    "tel_group, labels, number_of_telescopes_subarray_1 =array.group_by(sub_groups)"
   ]
  },
  {
   "cell_type": "code",
   "execution_count": 15,
   "metadata": {},
   "outputs": [],
   "source": [
    "tel_group_3, labels_3, number_of_telescopes_subarray_3 =array.group_by(sub_groups_3)"
   ]
  },
  {
   "cell_type": "code",
   "execution_count": 16,
   "metadata": {},
   "outputs": [
    {
     "name": "stdout",
     "output_type": "stream",
     "text": [
      "<TableGroups indices=[ 0 50 53 57 60 64]>\n",
      "28.0 2.15\n",
      "<TableGroups indices=[ 0 50 53 57 60 64]>\n",
      "16.0 3.85\n",
      "<TableGroups indices=[ 0 50 53 57 60 64]>\n",
      "16.0 3.85\n",
      "<TableGroups indices=[ 0 50 53 57 60 64]>\n",
      "16.0 3.85\n",
      "<TableGroups indices=[ 0 50 53 57 60 64]>\n",
      "16.0 3.85\n",
      "<TableGroups indices=[ 0 51 54 56 60 64]>\n",
      "28.0 2.15\n",
      "<TableGroups indices=[ 0 51 54 56 60 64]>\n",
      "16.0 3.85\n",
      "<TableGroups indices=[ 0 51 54 56 60 64]>\n",
      "16.0 3.85\n",
      "<TableGroups indices=[ 0 51 54 56 60 64]>\n",
      "16.0 3.85\n",
      "<TableGroups indices=[ 0 51 54 56 60 64]>\n",
      "16.0 3.85\n",
      "<TableGroups indices=[ 0 50 54 57 61 64]>\n",
      "28.0 2.15\n",
      "<TableGroups indices=[ 0 50 54 57 61 64]>\n",
      "16.0 3.85\n",
      "<TableGroups indices=[ 0 50 54 57 61 64]>\n",
      "16.0 3.85\n",
      "<TableGroups indices=[ 0 50 54 57 61 64]>\n",
      "16.0 3.85\n",
      "<TableGroups indices=[ 0 50 54 57 61 64]>\n",
      "16.0 3.85\n"
     ]
    }
   ],
   "source": [
    "# Step 2: Create new telescope list with center of gravity\n",
    "new_telescopes = create_new_group_list(tel_group)\n",
    "new_telescopes_2 = create_new_group_list(tel_group_2)\n",
    "new_telescopes_3 = create_new_group_list(tel_group_3)\n",
    "#Why are you creating an extra telescope?\n"
   ]
  },
  {
   "cell_type": "code",
   "execution_count": 17,
   "metadata": {},
   "outputs": [
    {
     "name": "stdout",
     "output_type": "stream",
     "text": [
      "[100.0, -105.33, 27.33, 16.0, 3.85]\n",
      "[-153.25, 81.75, 27.38, 16.0, 3.85]\n",
      "[-204.33, -109.0, 33.83, 16.0, 3.85]\n",
      "[153.25, 79.0, 23.5, 16.0, 3.85]\n"
     ]
    }
   ],
   "source": [
    "#del new_telescopes[0]# Step 3: Output the result\n",
    "#for telescope in new_telescopes:\n",
    "#    print(telescope)\n",
    "del new_telescopes[0]#No clue why it keeps on putting me an extra telescope...soooo... I deleted it... I will find out why\n",
    "for telescope in new_telescopes:\n",
    "    print(telescope)"
   ]
  },
  {
   "cell_type": "code",
   "execution_count": 18,
   "metadata": {},
   "outputs": [
    {
     "name": "stdout",
     "output_type": "stream",
     "text": [
      "[-204.33, 109.0, 28.5, 16.0, 3.85]\n",
      "[-150.0, -82.5, 33.25, 16.0, 3.85]\n",
      "[75.0, 79.0, 24.75, 16.0, 3.85]\n",
      "[153.25, -79.0, 25.25, 16.0, 3.85]\n"
     ]
    }
   ],
   "source": [
    "del new_telescopes_2[0]\n",
    "for telescope in new_telescopes_2:\n",
    "    print(telescope)\n"
   ]
  },
  {
   "cell_type": "code",
   "execution_count": 19,
   "metadata": {},
   "outputs": [
    {
     "name": "stdout",
     "output_type": "stream",
     "text": [
      "[-231.5, 0.0, 30.38, 16.0, 3.85]\n",
      "[0.0, -210.33, 33.17, 16.0, 3.85]\n",
      "[153.25, 0.0, 22.5, 16.0, 3.85]\n",
      "[0.0, 210.33, 25.33, 16.0, 3.85]\n"
     ]
    }
   ],
   "source": [
    "del new_telescopes_3[0]\n",
    "for telescope in new_telescopes_3:\n",
    "    print(telescope)\n"
   ]
  },
  {
   "cell_type": "code",
   "execution_count": 20,
   "metadata": {},
   "outputs": [
    {
     "name": "stdout",
     "output_type": "stream",
     "text": [
      "New telescope data has been written to ./subarray_1_2_SOUTH.txt\n"
     ]
    }
   ],
   "source": [
    "# Define the file path where you want to save the output\n",
    "output_file_path = './subarray_1_2_SOUTH.txt'\n",
    "\n",
    "# Open the file in write mode\n",
    "with open(output_file_path, 'w') as file:\n",
    "    \n",
    "    # Write a header\n",
    "    #file.write(\"Group ID, X_Center, Y_Center, Z_Center, Focal Length, FOV\\n\")\n",
    "    \n",
    "    # Loop through all new telescopes (grouped telescopes)\n",
    "    for i, telescope in enumerate(new_telescopes):\n",
    "        # Assuming telescope is a list like [x_center, y_center, z_center, focal_length, fov]\n",
    "        values = ' '.join(map(str, telescope))  # Convert all elements to string\n",
    "        # Write the data to the file\n",
    "        #print(values)\n",
    "        file.write(f\"{values}\\n\")\n",
    "\n",
    "print(f\"New telescope data has been written to {output_file_path}\")\n"
   ]
  },
  {
   "cell_type": "code",
   "execution_count": 21,
   "metadata": {},
   "outputs": [
    {
     "data": {
      "text/plain": [
       "range(0, 64)"
      ]
     },
     "execution_count": 21,
     "metadata": {},
     "output_type": "execute_result"
    }
   ],
   "source": [
    "range(len(array.telescopes))"
   ]
  },
  {
   "cell_type": "code",
   "execution_count": 22,
   "metadata": {},
   "outputs": [
    {
     "name": "stdout",
     "output_type": "stream",
     "text": [
      "New telescope data has been written to subarray_2_SOUTH.txt\n"
     ]
    }
   ],
   "source": [
    "# Define the file path where you want to save the output\n",
    "output_file_path_2 = 'subarray_2_SOUTH.txt'\n",
    "\n",
    "# Open the file in write mode\n",
    "with open(output_file_path_2, 'w') as file:\n",
    "    \n",
    "    # Write a header\n",
    "    #file.write(\"Group ID, X_Center, Y_Center, Z_Center, Focal Length, FOV\\n\")\n",
    "    \n",
    "    # Loop through all new telescopes (grouped telescopes)\n",
    "    for i, telescope in enumerate(new_telescopes_2):\n",
    "        # Assuming telescope is a list like [x_center, y_center, z_center, focal_length, fov]\n",
    "        values = ' '.join(map(str, telescope))  # Convert all elements to string\n",
    "        # Write the data to the file\n",
    "        #print(values)\n",
    "        file.write(f\"{values}\\n\")\n",
    "\n",
    "print(f\"New telescope data has been written to {output_file_path_2}\")\n"
   ]
  },
  {
   "cell_type": "code",
   "execution_count": 23,
   "metadata": {},
   "outputs": [
    {
     "name": "stdout",
     "output_type": "stream",
     "text": [
      "New telescope data has been written to subarray_3_SOUTH.txt\n"
     ]
    }
   ],
   "source": [
    "# Define the file path where you want to save the output\n",
    "output_file_path_3 = 'subarray_3_SOUTH.txt'\n",
    "\n",
    "# Open the file in write mode\n",
    "with open(output_file_path_3, 'w') as file:\n",
    "    \n",
    "    # Write a header\n",
    "    #file.write(\"Group ID, X_Center, Y_Center, Z_Center, Focal Length, FOV\\n\")\n",
    "    \n",
    "    # Loop through all new telescopes (grouped telescopes)\n",
    "    for i, telescope in enumerate(new_telescopes_3):\n",
    "        # Assuming telescope is a list like [x_center, y_center, z_center, focal_length, fov]\n",
    "        values = ' '.join(map(str, telescope))  # Convert all elements to string\n",
    "        # Write the data to the file\n",
    "        #print(values)\n",
    "        file.write(f\"{values}\\n\")\n",
    "\n",
    "print(f\"New telescope data has been written to {output_file_path_3}\")\n"
   ]
  },
  {
   "cell_type": "markdown",
   "metadata": {},
   "source": [
    "# HERE THERE IS AS WELL THE HFOV AND A MORE DETAILED AND FULL STUDY"
   ]
  },
  {
   "cell_type": "markdown",
   "metadata": {},
   "source": [
    "## PLOTTING THEM TOGETHER AND DIFFERENT DIVERGENCE"
   ]
  },
  {
   "cell_type": "code",
   "execution_count": 24,
   "metadata": {},
   "outputs": [],
   "source": [
    "#If you do not do this like this but just put array_alt_1=array and array_alt_2=array you will end up with a problem\n",
    "#You will end up having them over write each pther because they come from the same point\n",
    "array_alt_1= LoadConfig(\"./subarray_1_2_SOUTH.txt\", frame=cta, pointing2src=True)\n",
    "array_alt_1_div_2= LoadConfig(\"./subarray_1_2_SOUTH.txt\", frame=cta, pointing2src=True)\n",
    "array_alt_1_div_3= LoadConfig(\"./subarray_1_2_SOUTH.txt\", frame=cta, pointing2src=True)\n",
    "array_alt_2= LoadConfig(\"./subarray_1_2_SOUTH.txt\", frame=cta, pointing2src=True)\n",
    "array_alt_2_div_2= LoadConfig(\"./subarray_1_2_SOUTH.txt\", frame=cta, pointing2src=True)\n",
    "array_alt_2_div_3= LoadConfig(\"./subarray_1_2_SOUTH.txt\", frame=cta, pointing2src=True)\n",
    "\n",
    "array_alt_3= LoadConfig(\"./subarray_1_2_SOUTH.txt\", frame=cta, pointing2src=True)\n",
    "array_alt_3_div_2= LoadConfig(\"./subarray_1_2_SOUTH.txt\", frame=cta, pointing2src=True)\n",
    "array_alt_3_div_3= LoadConfig(\"./subarray_1_2_SOUTH.txt\", frame=cta, pointing2src=True)\n",
    "\n",
    "array_2_alt_1= LoadConfig(\"./subarray_2_SOUTH.txt\", frame=cta, pointing2src=True)\n",
    "array_2_alt_1_div_2= LoadConfig(\"./subarray_2_SOUTH.txt\", frame=cta, pointing2src=True)\n",
    "array_2_alt_1_div_3= LoadConfig(\"./subarray_2_SOUTH.txt\", frame=cta, pointing2src=True)\n",
    "\n",
    "array_2_alt_2= LoadConfig(\"./subarray_2_SOUTH.txt\", frame=cta, pointing2src=True)\n",
    "array_2_alt_2_div_2= LoadConfig(\"./subarray_2_SOUTH.txt\", frame=cta, pointing2src=True)\n",
    "array_2_alt_2_div_3= LoadConfig(\"./subarray_2_SOUTH.txt\", frame=cta, pointing2src=True)\n",
    "array_2_alt_3= LoadConfig(\"./subarray_2_SOUTH.txt\", frame=cta, pointing2src=True)\n",
    "array_2_alt_3_div_2= LoadConfig(\"./subarray_2_SOUTH.txt\", frame=cta, pointing2src=True)\n",
    "array_2_alt_3_div_3= LoadConfig(\"./subarray_2_SOUTH.txt\", frame=cta, pointing2src=True)\n",
    "\n",
    "array_3_alt_1= LoadConfig(\"./subarray_3_SOUTH.txt\", frame=cta, pointing2src=True)\n",
    "array_3_alt_1_div_2= LoadConfig(\"./subarray_3_SOUTH.txt\", frame=cta, pointing2src=True)\n",
    "array_3_alt_1_div_3= LoadConfig(\"./subarray_3_SOUTH.txt\", frame=cta, pointing2src=True)\n",
    "array_3_alt_2= LoadConfig(\"./subarray_3_SOUTH.txt\", frame=cta, pointing2src=True)\n",
    "array_3_alt_2_div_2= LoadConfig(\"./subarray_3_SOUTH.txt\", frame=cta, pointing2src=True)\n",
    "array_3_alt_2_div_3= LoadConfig(\"./subarray_3_SOUTH.txt\", frame=cta, pointing2src=True)\n",
    "\n",
    "array_3_alt_3= LoadConfig(\"./subarray_3_SOUTH.txt\", frame=cta, pointing2src=True)\n",
    "array_3_alt_3_div_2= LoadConfig(\"./subarray_3_SOUTH.txt\", frame=cta, pointing2src=True)\n",
    "array_3_alt_3_div_3= LoadConfig(\"./subarray_3_SOUTH.txt\", frame=cta, pointing2src=True)\n"
   ]
  },
  {
   "cell_type": "code",
   "execution_count": 25,
   "metadata": {},
   "outputs": [],
   "source": [
    "div=0.05\n",
    "div_2 = 0.1\n",
    "div_3 = 0.35\n",
    "alt_1=70\n",
    "alt_2=50\n",
    "alt_3=30\n",
    "az=0"
   ]
  },
  {
   "cell_type": "markdown",
   "metadata": {},
   "source": [
    "## SANITY CHECK"
   ]
  },
  {
   "cell_type": "code",
   "execution_count": 26,
   "metadata": {},
   "outputs": [
    {
     "name": "stderr",
     "output_type": "stream",
     "text": [
      "4it [00:00,  7.57it/s]\n"
     ]
    },
    {
     "name": "stdout",
     "output_type": "stream",
     "text": [
      "(46.580797309219754, 14.0)\n"
     ]
    },
    {
     "name": "stderr",
     "output_type": "stream",
     "text": [
      "4it [00:00,  6.99it/s]\n"
     ]
    },
    {
     "name": "stdout",
     "output_type": "stream",
     "text": [
      "(46.580797309219754, 14.0)\n"
     ]
    },
    {
     "name": "stderr",
     "output_type": "stream",
     "text": [
      "4it [00:00,  7.48it/s]\n"
     ]
    },
    {
     "name": "stdout",
     "output_type": "stream",
     "text": [
      "(46.580797309219754, 14.0)\n"
     ]
    },
    {
     "name": "stderr",
     "output_type": "stream",
     "text": [
      "4it [00:00,  7.08it/s]\n"
     ]
    },
    {
     "name": "stdout",
     "output_type": "stream",
     "text": [
      "(46.580797309219754, 14.0)\n"
     ]
    },
    {
     "name": "stderr",
     "output_type": "stream",
     "text": [
      "4it [00:00,  7.52it/s]\n"
     ]
    },
    {
     "name": "stdout",
     "output_type": "stream",
     "text": [
      "(46.580797309219754, 14.0)\n"
     ]
    },
    {
     "name": "stderr",
     "output_type": "stream",
     "text": [
      "4it [00:00,  7.50it/s]\n"
     ]
    },
    {
     "name": "stdout",
     "output_type": "stream",
     "text": [
      "(46.580797309219754, 14.0)\n"
     ]
    },
    {
     "name": "stderr",
     "output_type": "stream",
     "text": [
      "4it [00:00,  7.42it/s]\n"
     ]
    },
    {
     "name": "stdout",
     "output_type": "stream",
     "text": [
      "(46.580797309219754, 14.0)\n"
     ]
    },
    {
     "name": "stderr",
     "output_type": "stream",
     "text": [
      "4it [00:00,  7.43it/s]\n"
     ]
    },
    {
     "name": "stdout",
     "output_type": "stream",
     "text": [
      "(46.580797309219754, 14.0)\n"
     ]
    },
    {
     "name": "stderr",
     "output_type": "stream",
     "text": [
      "4it [00:00,  7.49it/s]\n"
     ]
    },
    {
     "name": "stdout",
     "output_type": "stream",
     "text": [
      "(46.580797309219754, 14.0)\n"
     ]
    },
    {
     "name": "stderr",
     "output_type": "stream",
     "text": [
      "4it [00:00,  7.49it/s]\n"
     ]
    },
    {
     "name": "stdout",
     "output_type": "stream",
     "text": [
      "(46.580797309219754, 14.0)\n"
     ]
    },
    {
     "name": "stderr",
     "output_type": "stream",
     "text": [
      "4it [00:00,  7.35it/s]\n"
     ]
    },
    {
     "name": "stdout",
     "output_type": "stream",
     "text": [
      "(46.580797309219754, 14.0)\n"
     ]
    },
    {
     "name": "stderr",
     "output_type": "stream",
     "text": [
      "4it [00:00,  7.38it/s]\n"
     ]
    },
    {
     "name": "stdout",
     "output_type": "stream",
     "text": [
      "(46.580797309219754, 14.0)\n"
     ]
    },
    {
     "name": "stderr",
     "output_type": "stream",
     "text": [
      "4it [00:00,  7.51it/s]\n"
     ]
    },
    {
     "name": "stdout",
     "output_type": "stream",
     "text": [
      "(46.580797309219754, 14.0)\n"
     ]
    },
    {
     "name": "stderr",
     "output_type": "stream",
     "text": [
      "4it [00:00,  7.52it/s]\n"
     ]
    },
    {
     "name": "stdout",
     "output_type": "stream",
     "text": [
      "(46.580797309219754, 14.0)\n"
     ]
    },
    {
     "name": "stderr",
     "output_type": "stream",
     "text": [
      "4it [00:00,  7.48it/s]\n"
     ]
    },
    {
     "name": "stdout",
     "output_type": "stream",
     "text": [
      "(46.580797309219754, 14.0)\n"
     ]
    },
    {
     "name": "stderr",
     "output_type": "stream",
     "text": [
      "4it [00:00,  7.36it/s]\n"
     ]
    },
    {
     "name": "stdout",
     "output_type": "stream",
     "text": [
      "(46.580797309219754, 14.0)\n"
     ]
    },
    {
     "name": "stderr",
     "output_type": "stream",
     "text": [
      "4it [00:00,  7.53it/s]\n"
     ]
    },
    {
     "name": "stdout",
     "output_type": "stream",
     "text": [
      "(46.580797309219754, 14.0)\n"
     ]
    },
    {
     "name": "stderr",
     "output_type": "stream",
     "text": [
      "4it [00:00,  7.51it/s]\n"
     ]
    },
    {
     "name": "stdout",
     "output_type": "stream",
     "text": [
      "(46.580797309219754, 14.0)\n"
     ]
    },
    {
     "name": "stderr",
     "output_type": "stream",
     "text": [
      "4it [00:00,  7.34it/s]\n"
     ]
    },
    {
     "name": "stdout",
     "output_type": "stream",
     "text": [
      "(46.580797309219754, 14.0)\n"
     ]
    },
    {
     "name": "stderr",
     "output_type": "stream",
     "text": [
      "4it [00:00,  7.43it/s]\n"
     ]
    },
    {
     "name": "stdout",
     "output_type": "stream",
     "text": [
      "(46.580797309219754, 14.0)\n"
     ]
    },
    {
     "name": "stderr",
     "output_type": "stream",
     "text": [
      "4it [00:00,  7.19it/s]\n"
     ]
    },
    {
     "name": "stdout",
     "output_type": "stream",
     "text": [
      "(46.580797309219754, 14.0)\n"
     ]
    },
    {
     "name": "stderr",
     "output_type": "stream",
     "text": [
      "4it [00:00,  6.31it/s]\n"
     ]
    },
    {
     "name": "stdout",
     "output_type": "stream",
     "text": [
      "(46.580797309219754, 14.0)\n"
     ]
    },
    {
     "name": "stderr",
     "output_type": "stream",
     "text": [
      "4it [00:00,  7.32it/s]\n"
     ]
    },
    {
     "name": "stdout",
     "output_type": "stream",
     "text": [
      "(46.580797309219754, 14.0)\n"
     ]
    },
    {
     "name": "stderr",
     "output_type": "stream",
     "text": [
      "4it [00:00,  7.52it/s]\n"
     ]
    },
    {
     "name": "stdout",
     "output_type": "stream",
     "text": [
      "(46.580797309219754, 14.0)\n"
     ]
    },
    {
     "name": "stderr",
     "output_type": "stream",
     "text": [
      "4it [00:00,  7.45it/s]\n"
     ]
    },
    {
     "name": "stdout",
     "output_type": "stream",
     "text": [
      "(46.580797309219754, 14.0)\n"
     ]
    },
    {
     "name": "stderr",
     "output_type": "stream",
     "text": [
      "4it [00:00,  7.46it/s]\n"
     ]
    },
    {
     "name": "stdout",
     "output_type": "stream",
     "text": [
      "(46.580797309219754, 14.0)\n"
     ]
    },
    {
     "name": "stderr",
     "output_type": "stream",
     "text": [
      "4it [00:00,  7.49it/s]"
     ]
    },
    {
     "name": "stdout",
     "output_type": "stream",
     "text": [
      "(46.580797309219754, 14.0)\n"
     ]
    },
    {
     "name": "stderr",
     "output_type": "stream",
     "text": [
      "\n"
     ]
    }
   ],
   "source": [
    "#Do this so to check that everything is okay, they should give the same results\n",
    "print(array_alt_1.hFoV(subarray_mult=number_of_telescopes_subarray_1))\n",
    "\n",
    "print(array_alt_1_div_2.hFoV(subarray_mult=number_of_telescopes_subarray_1))\n",
    "print(array_alt_1_div_3.hFoV(subarray_mult=number_of_telescopes_subarray_1))\n",
    "\n",
    "print(array_alt_2.hFoV(subarray_mult=number_of_telescopes_subarray_1))\n",
    "print(array_alt_2_div_2.hFoV(subarray_mult=number_of_telescopes_subarray_1))\n",
    "print(array_alt_2_div_3.hFoV(subarray_mult=number_of_telescopes_subarray_1))\n",
    "\n",
    "print(array_alt_3.hFoV(subarray_mult=number_of_telescopes_subarray_1))\n",
    "print(array_alt_3_div_2.hFoV(subarray_mult=number_of_telescopes_subarray_1))\n",
    "print(array_alt_3_div_3.hFoV(subarray_mult=number_of_telescopes_subarray_1))\n",
    "\n",
    "print(array_2_alt_1.hFoV(subarray_mult=number_of_telescopes_subarray_2))\n",
    "print(array_2_alt_1_div_2.hFoV(subarray_mult=number_of_telescopes_subarray_2))\n",
    "print(array_2_alt_1_div_3.hFoV(subarray_mult=number_of_telescopes_subarray_2))\n",
    "\n",
    "\n",
    "print(array_2_alt_2.hFoV(subarray_mult=number_of_telescopes_subarray_2))\n",
    "print(array_2_alt_2_div_2.hFoV(subarray_mult=number_of_telescopes_subarray_2))\n",
    "print(array_2_alt_2_div_3.hFoV(subarray_mult=number_of_telescopes_subarray_2))\n",
    "print(array_2_alt_3.hFoV(subarray_mult=number_of_telescopes_subarray_2))\n",
    "print(array_2_alt_3_div_2.hFoV(subarray_mult=number_of_telescopes_subarray_2))\n",
    "print(array_2_alt_3_div_3.hFoV(subarray_mult=number_of_telescopes_subarray_2))\n",
    "#array_3_alt_1.hFoV()\n",
    "#array_3_alt_2.hFoV()\n",
    "#array_3_alt_3.hFoV()\n",
    "print(array_3_alt_1.hFoV(subarray_mult=number_of_telescopes_subarray_2))\n",
    "print(array_3_alt_1_div_2.hFoV(subarray_mult=number_of_telescopes_subarray_2))\n",
    "print(array_3_alt_1_div_3.hFoV(subarray_mult=number_of_telescopes_subarray_2))\n",
    "\n",
    "\n",
    "print(array_3_alt_2.hFoV(subarray_mult=number_of_telescopes_subarray_3))\n",
    "print(array_3_alt_2_div_2.hFoV(subarray_mult=number_of_telescopes_subarray_3))\n",
    "print(array_3_alt_2_div_3.hFoV(subarray_mult=number_of_telescopes_subarray_3))\n",
    "print(array_3_alt_3.hFoV(subarray_mult=number_of_telescopes_subarray_3))\n",
    "print(array_3_alt_3_div_2.hFoV(subarray_mult=number_of_telescopes_subarray_3))\n",
    "print(array_3_alt_3_div_3.hFoV(subarray_mult=number_of_telescopes_subarray_3))"
   ]
  },
  {
   "cell_type": "code",
   "execution_count": 27,
   "metadata": {},
   "outputs": [
    {
     "data": {
      "text/html": [
       "<div><i>Table length=4</i>\n",
       "<table id=\"table4961843056\" class=\"table-striped table-bordered table-condensed\">\n",
       "<thead><tr><th>id</th><th>x</th><th>y</th><th>z</th><th>az</th><th>alt</th><th>zn</th><th>focal</th><th>radius</th><th>fov</th><th>p_x</th><th>p_y</th><th>p_z</th><th>d_tel</th></tr></thead>\n",
       "<thead><tr><th></th><th>m</th><th>m</th><th>m</th><th>deg</th><th>deg</th><th>deg</th><th>m</th><th>deg</th><th>deg2</th><th></th><th></th><th></th><th>m</th></tr></thead>\n",
       "<thead><tr><th>int64</th><th>float64</th><th>float64</th><th>float64</th><th>float64</th><th>float64</th><th>float64</th><th>float64</th><th>float64</th><th>float64</th><th>float64</th><th>float64</th><th>float64</th><th>float64</th></tr></thead>\n",
       "<tr><td>1</td><td>100.0</td><td>-105.33</td><td>27.33</td><td>0.000</td><td>0.000</td><td>90.000</td><td>16.000</td><td>3.850</td><td>46.707</td><td>1.000</td><td>-0.000</td><td>0.000</td><td>156.04</td></tr>\n",
       "<tr><td>2</td><td>-153.25</td><td>81.75</td><td>27.38</td><td>0.000</td><td>0.000</td><td>90.000</td><td>16.000</td><td>3.850</td><td>46.707</td><td>1.000</td><td>-0.000</td><td>0.000</td><td>158.82</td></tr>\n",
       "<tr><td>3</td><td>-204.33</td><td>-109.0</td><td>33.83</td><td>0.000</td><td>0.000</td><td>90.000</td><td>16.000</td><td>3.850</td><td>46.707</td><td>1.000</td><td>-0.000</td><td>0.000</td><td>202.35</td></tr>\n",
       "<tr><td>4</td><td>153.25</td><td>79.0</td><td>23.5</td><td>0.000</td><td>0.000</td><td>90.000</td><td>16.000</td><td>3.850</td><td>46.707</td><td>1.000</td><td>-0.000</td><td>0.000</td><td>201.79</td></tr>\n",
       "</table></div>"
      ],
      "text/plain": [
       "<Table length=4>\n",
       "  id     x       y       z       az   ...   p_x     p_y     p_z    d_tel \n",
       "         m       m       m      deg   ...                            m   \n",
       "int64 float64 float64 float64 float64 ... float64 float64 float64 float64\n",
       "----- ------- ------- ------- ------- ... ------- ------- ------- -------\n",
       "    1   100.0 -105.33   27.33   0.000 ...   1.000  -0.000   0.000  156.04\n",
       "    2 -153.25   81.75   27.38   0.000 ...   1.000  -0.000   0.000  158.82\n",
       "    3 -204.33  -109.0   33.83   0.000 ...   1.000  -0.000   0.000  202.35\n",
       "    4  153.25    79.0    23.5   0.000 ...   1.000  -0.000   0.000  201.79"
      ]
     },
     "execution_count": 27,
     "metadata": {},
     "output_type": "execute_result"
    }
   ],
   "source": [
    "array_alt_3.table"
   ]
  },
  {
   "cell_type": "code",
   "execution_count": 28,
   "metadata": {},
   "outputs": [],
   "source": [
    "#array_3.table"
   ]
  },
  {
   "cell_type": "code",
   "execution_count": 29,
   "metadata": {},
   "outputs": [],
   "source": [
    "#ARRAY 1 ALT 1\n",
    "array_alt_1.divergent_pointing(div, az=az,alt=alt_1)\n",
    "array_alt_1_div_2.divergent_pointing(div_2, az=az,alt=alt_1)\n",
    "array_alt_1_div_3.divergent_pointing(div_3, az=az,alt=alt_1)\n",
    "#ARRAY 2 ALT 1\n",
    "array_2_alt_1.divergent_pointing(div, az=az,alt=alt_1)\n",
    "array_2_alt_1_div_2.divergent_pointing(div_2, az=az,alt=alt_1)\n",
    "array_2_alt_1_div_3.divergent_pointing(div_3, az=az,alt=alt_1)\n",
    "#ARRAY 3 ALT 1\n",
    "array_3_alt_1.divergent_pointing(div, az=az,alt=alt_1)\n",
    "array_3_alt_1_div_2.divergent_pointing(div_2, az=az,alt=alt_1)\n",
    "array_3_alt_1_div_3.divergent_pointing(div_3, az=az,alt=alt_1)\n",
    "# ARRAY 1 ALT 2\n",
    "array_alt_2.divergent_pointing(div, az=az,alt=alt_2)\n",
    "array_alt_2_div_2.divergent_pointing(div_2, az=az,alt=alt_2)\n",
    "array_alt_2_div_3.divergent_pointing(div_3, az=az,alt=alt_2)\n",
    "# ARRAY 2 ALT 2\n",
    "array_2_alt_2.divergent_pointing(div, az=az,alt=alt_2)\n",
    "array_2_alt_2_div_2.divergent_pointing(div_2, az=az,alt=alt_2)\n",
    "array_2_alt_2_div_3.divergent_pointing(div_3, az=az,alt=alt_2)\n",
    "#ARRAY 3 ALT 2\n",
    "array_3_alt_2.divergent_pointing(div, az=az,alt=alt_2)\n",
    "array_3_alt_2_div_2.divergent_pointing(div_2, az=az,alt=alt_2)\n",
    "array_3_alt_2_div_3.divergent_pointing(div_3, az=az,alt=alt_2)\n",
    "# ARRAY 1 ALT 3\n",
    "array_alt_3.divergent_pointing(div, az=az,alt=alt_3)\n",
    "array_alt_3_div_2.divergent_pointing(div_2, az=az,alt=alt_3)\n",
    "array_alt_3_div_3.divergent_pointing(div_3, az=az,alt=alt_3)\n",
    "# ARRAY 2 ALT 3\n",
    "array_2_alt_3.divergent_pointing(div, az=az,alt=alt_3)\n",
    "array_2_alt_3_div_2.divergent_pointing(div_2, az=az,alt=alt_3)\n",
    "array_2_alt_3_div_3.divergent_pointing(div_3, az=az,alt=alt_3)\n",
    "#ARRAY 3 ALT 3\n",
    "array_3_alt_3.divergent_pointing(div, az=az,alt=alt_3)\n",
    "array_3_alt_3_div_2.divergent_pointing(div_2, az=az,alt=alt_3)\n",
    "array_3_alt_3_div_3.divergent_pointing(div_3, az=az,alt=alt_3)\n",
    "\n",
    "#array_3_alt_3.divergent_pointing(div, az=az, alt=alt_3)"
   ]
  },
  {
   "cell_type": "markdown",
   "metadata": {},
   "source": [
    "# THE FIELD OF VIEW"
   ]
  },
  {
   "cell_type": "code",
   "execution_count": 30,
   "metadata": {},
   "outputs": [
    {
     "name": "stderr",
     "output_type": "stream",
     "text": [
      "4it [00:00,  7.37it/s]\n"
     ]
    },
    {
     "name": "stdout",
     "output_type": "stream",
     "text": [
      "The FoV and the average multiplicity is for array_1 with divergence0.05 and altitude70.00 : (170.53397753634394, 3.8235158412796064)\n"
     ]
    },
    {
     "name": "stderr",
     "output_type": "stream",
     "text": [
      "4it [00:00,  7.07it/s]\n"
     ]
    },
    {
     "name": "stdout",
     "output_type": "stream",
     "text": [
      "The FoV and the average multiplicity is for array_1 with divergence0.10 and altitude70.00 : (93.09602480240738, 4.0)\n"
     ]
    },
    {
     "name": "stderr",
     "output_type": "stream",
     "text": [
      "4it [00:00,  6.79it/s]\n"
     ]
    },
    {
     "name": "stdout",
     "output_type": "stream",
     "text": [
      "array_alt_1_div_3 hFoV: (186.21827753122764, 1.0)\n"
     ]
    },
    {
     "name": "stderr",
     "output_type": "stream",
     "text": [
      "4it [00:00,  6.98it/s]\n"
     ]
    },
    {
     "name": "stdout",
     "output_type": "stream",
     "text": [
      "The FoV and the average multiplicity is for array_1 with divergence0.35 and altitude70.00 : (93.21405047126521, 4.0)\n"
     ]
    },
    {
     "name": "stderr",
     "output_type": "stream",
     "text": [
      "4it [00:00,  6.73it/s]\n"
     ]
    },
    {
     "name": "stdout",
     "output_type": "stream",
     "text": [
      "array_alt_2 hFoV: (165.72115303958617, 1.1235261533591834)\n"
     ]
    },
    {
     "name": "stderr",
     "output_type": "stream",
     "text": [
      "4it [00:00,  6.82it/s]\n"
     ]
    },
    {
     "name": "stdout",
     "output_type": "stream",
     "text": [
      "The FoV and the average multiplicity is for array_1 with divergence0.05 and altitude50.00 : (92.21738926757695, 4.674345847554038)\n"
     ]
    },
    {
     "name": "stderr",
     "output_type": "stream",
     "text": [
      "4it [00:00,  6.40it/s]\n"
     ]
    },
    {
     "name": "stdout",
     "output_type": "stream",
     "text": [
      "array_alt_2_div_2 hFoV: (186.29696131046617, 1.0)\n"
     ]
    },
    {
     "name": "stderr",
     "output_type": "stream",
     "text": [
      "4it [00:00,  5.68it/s]\n"
     ]
    },
    {
     "name": "stdout",
     "output_type": "stream",
     "text": [
      "The FoV and the average multiplicity is for array_1 with divergence0.10 and altitude50.00 : (93.16159461843951, 4.0)\n"
     ]
    },
    {
     "name": "stderr",
     "output_type": "stream",
     "text": [
      "4it [00:00,  6.70it/s]\n"
     ]
    },
    {
     "name": "stdout",
     "output_type": "stream",
     "text": [
      "array_alt_2_div_3 hFoV: (186.1527077151955, 1.0)\n"
     ]
    },
    {
     "name": "stderr",
     "output_type": "stream",
     "text": [
      "4it [00:00,  7.09it/s]\n"
     ]
    },
    {
     "name": "stdout",
     "output_type": "stream",
     "text": [
      "The FoV and the average multiplicity is for array_1 with divergence0.35 and altitude50.00 : (93.01734102316884, 4.0)\n"
     ]
    },
    {
     "name": "stderr",
     "output_type": "stream",
     "text": [
      "4it [00:00,  6.75it/s]\n"
     ]
    },
    {
     "name": "stdout",
     "output_type": "stream",
     "text": [
      "array_alt_3 hFoV: (141.65703055579723, 1.3129050175893353)\n"
     ]
    },
    {
     "name": "stderr",
     "output_type": "stream",
     "text": [
      "4it [00:00,  6.78it/s]\n"
     ]
    },
    {
     "name": "stdout",
     "output_type": "stream",
     "text": [
      "The FoV and the average multiplicity is for array_1 with divergence0.05 and altitude30.00 : (90.30275063943898, 5.502904443799013)\n"
     ]
    },
    {
     "name": "stderr",
     "output_type": "stream",
     "text": [
      "4it [00:00,  7.00it/s]\n"
     ]
    },
    {
     "name": "stdout",
     "output_type": "stream",
     "text": [
      "array_alt_3_div_2 hFoV: (186.21827753122764, 1.0)\n"
     ]
    },
    {
     "name": "stderr",
     "output_type": "stream",
     "text": [
      "4it [00:00,  7.03it/s]\n"
     ]
    },
    {
     "name": "stdout",
     "output_type": "stream",
     "text": [
      "The FoV and the average multiplicity is for array_1 with divergence0.10 and altitude30.00 : (93.18782254485237, 4.0)\n"
     ]
    },
    {
     "name": "stderr",
     "output_type": "stream",
     "text": [
      "4it [00:00,  6.30it/s]\n"
     ]
    },
    {
     "name": "stdout",
     "output_type": "stream",
     "text": [
      "array_alt_3_div_3 hFoV: (186.11336582557624, 1.0)\n"
     ]
    },
    {
     "name": "stderr",
     "output_type": "stream",
     "text": [
      "4it [00:00,  5.10it/s]\n"
     ]
    },
    {
     "name": "stdout",
     "output_type": "stream",
     "text": [
      "The FoV and the average multiplicity is for array_1 with divergence0.35 and altitude30.00 : (92.95177120713672, 4.0)\n"
     ]
    },
    {
     "name": "stderr",
     "output_type": "stream",
     "text": [
      "4it [00:00,  4.87it/s]\n"
     ]
    },
    {
     "name": "stdout",
     "output_type": "stream",
     "text": [
      "array_2_alt_1 hFoV: (167.6751335573434, 1.1104332864070077)\n"
     ]
    },
    {
     "name": "stderr",
     "output_type": "stream",
     "text": [
      "4it [00:00,  5.93it/s]\n"
     ]
    },
    {
     "name": "stdout",
     "output_type": "stream",
     "text": [
      "The FoV and the average multiplicity is for array_2 with divergence0.05 and altitude70.00 : (87.7979836670119, 4.692755787901419)\n"
     ]
    },
    {
     "name": "stderr",
     "output_type": "stream",
     "text": [
      "4it [00:00,  5.10it/s]\n"
     ]
    },
    {
     "name": "stdout",
     "output_type": "stream",
     "text": [
      "array_2_alt_1_div_2 hFoV: (186.34941716329186, 1.0)\n"
     ]
    },
    {
     "name": "stderr",
     "output_type": "stream",
     "text": [
      "4it [00:00,  5.35it/s]\n"
     ]
    },
    {
     "name": "stdout",
     "output_type": "stream",
     "text": [
      "The FoV and the average multiplicity is for array_2 with divergence0.10 and altitude70.00 : (93.14848065523309, 4.0)\n"
     ]
    },
    {
     "name": "stderr",
     "output_type": "stream",
     "text": [
      "4it [00:00,  5.80it/s]\n"
     ]
    },
    {
     "name": "stdout",
     "output_type": "stream",
     "text": [
      "array_2_alt_1_div_3 hFoV: (186.13959375198908, 1.0)\n"
     ]
    },
    {
     "name": "stderr",
     "output_type": "stream",
     "text": [
      "4it [00:00,  5.46it/s]\n"
     ]
    },
    {
     "name": "stdout",
     "output_type": "stream",
     "text": [
      "The FoV and the average multiplicity is for array_2 with divergence0.35 and altitude70.00 : (93.06979687599454, 4.0)\n"
     ]
    },
    {
     "name": "stderr",
     "output_type": "stream",
     "text": [
      "4it [00:00,  6.60it/s]\n"
     ]
    },
    {
     "name": "stdout",
     "output_type": "stream",
     "text": [
      "array_2_alt_2 hFoV: (158.84943631941974, 1.172624453066953)\n"
     ]
    },
    {
     "name": "stderr",
     "output_type": "stream",
     "text": [
      "4it [00:00,  6.88it/s]\n"
     ]
    },
    {
     "name": "stdout",
     "output_type": "stream",
     "text": [
      "The FoV and the average multiplicity is for array_2 with divergence0.05 and altitude50.00 : (85.80466125963538, 5.044475011462632)\n"
     ]
    },
    {
     "name": "stderr",
     "output_type": "stream",
     "text": [
      "4it [00:00,  4.92it/s]\n"
     ]
    },
    {
     "name": "stdout",
     "output_type": "stream",
     "text": [
      "array_2_alt_2_div_2 hFoV: (186.12647978878266, 1.0)\n"
     ]
    },
    {
     "name": "stderr",
     "output_type": "stream",
     "text": [
      "4it [00:00,  5.54it/s]\n"
     ]
    },
    {
     "name": "stdout",
     "output_type": "stream",
     "text": [
      "The FoV and the average multiplicity is for array_2 with divergence0.10 and altitude50.00 : (93.09602480240738, 4.0)\n"
     ]
    },
    {
     "name": "stderr",
     "output_type": "stream",
     "text": [
      "4it [00:00,  5.39it/s]\n"
     ]
    },
    {
     "name": "stdout",
     "output_type": "stream",
     "text": [
      "array_2_alt_2_div_3 hFoV: (186.2051635680212, 1.0)\n"
     ]
    },
    {
     "name": "stderr",
     "output_type": "stream",
     "text": [
      "4it [00:00,  6.29it/s]\n"
     ]
    },
    {
     "name": "stdout",
     "output_type": "stream",
     "text": [
      "The FoV and the average multiplicity is for array_2 with divergence0.35 and altitude50.00 : (93.10913876561382, 4.0)\n"
     ]
    },
    {
     "name": "stderr",
     "output_type": "stream",
     "text": [
      "4it [00:00,  6.52it/s]\n"
     ]
    },
    {
     "name": "stdout",
     "output_type": "stream",
     "text": [
      "array_2_alt_3 hFoV: (136.3852173468146, 1.3667307692307693)\n"
     ]
    },
    {
     "name": "stderr",
     "output_type": "stream",
     "text": [
      "4it [00:00,  5.25it/s]\n"
     ]
    },
    {
     "name": "stdout",
     "output_type": "stream",
     "text": [
      "The FoV and the average multiplicity is for array_2 with divergence0.05 and altitude30.00 : (82.15897948824937, 5.960893854748603)\n"
     ]
    },
    {
     "name": "stderr",
     "output_type": "stream",
     "text": [
      "4it [00:00,  5.75it/s]\n"
     ]
    },
    {
     "name": "stdout",
     "output_type": "stream",
     "text": [
      "The FoV and the average multiplicity is for array_2 with divergence0.10 and altitude30.00 : (93.12225272882024, 4.0)\n"
     ]
    },
    {
     "name": "stderr",
     "output_type": "stream",
     "text": [
      "4it [00:00,  4.97it/s]\n"
     ]
    },
    {
     "name": "stdout",
     "output_type": "stream",
     "text": [
      "The FoV and the average multiplicity is for array_2 with divergence0.35 and altitude30.00 : (93.08291083920096, 4.0)\n"
     ]
    },
    {
     "name": "stderr",
     "output_type": "stream",
     "text": [
      "4it [00:00,  5.86it/s]\n"
     ]
    },
    {
     "name": "stdout",
     "output_type": "stream",
     "text": [
      "The FoV and the average multiplicity is for array_3 with divergence0.05 and altitude70.00 : (184.3298668295025, 3.5308053500284577)\n"
     ]
    },
    {
     "name": "stderr",
     "output_type": "stream",
     "text": [
      "4it [00:00,  5.83it/s]\n"
     ]
    },
    {
     "name": "stdout",
     "output_type": "stream",
     "text": [
      "The FoV and the average multiplicity is for array_3 with divergence0.10 and altitude70.00 : (186.3625311264983, 3.500598128210541)\n"
     ]
    },
    {
     "name": "stderr",
     "output_type": "stream",
     "text": [
      "4it [00:00,  5.74it/s]\n"
     ]
    },
    {
     "name": "stdout",
     "output_type": "stream",
     "text": [
      "The FoV and the average multiplicity is for array_3 with divergence0.35 and altitude70.00 : (185.95599826709915, 3.5)\n"
     ]
    },
    {
     "name": "stderr",
     "output_type": "stream",
     "text": [
      "4it [00:00,  6.02it/s]\n"
     ]
    },
    {
     "name": "stdout",
     "output_type": "stream",
     "text": [
      "The FoV and the average multiplicity is for array_3 with divergence0.05 and altitude50.00 : (181.83821382028185, 3.5818548968700417)\n"
     ]
    },
    {
     "name": "stderr",
     "output_type": "stream",
     "text": [
      "4it [00:00,  5.55it/s]\n"
     ]
    },
    {
     "name": "stdout",
     "output_type": "stream",
     "text": [
      "The FoV and the average multiplicity is for array_3 with divergence0.10 and altitude50.00 : (185.96911223030557, 3.4999647415556026)\n"
     ]
    },
    {
     "name": "stderr",
     "output_type": "stream",
     "text": [
      "4it [00:00,  5.84it/s]\n"
     ]
    },
    {
     "name": "stdout",
     "output_type": "stream",
     "text": [
      "The FoV and the average multiplicity is for array_3 with divergence0.35 and altitude50.00 : (185.9953401567184, 3.4996122118028627)\n"
     ]
    },
    {
     "name": "stderr",
     "output_type": "stream",
     "text": [
      "4it [00:00,  5.86it/s]\n"
     ]
    },
    {
     "name": "stdout",
     "output_type": "stream",
     "text": [
      "The FoV and the average multiplicity is for array_3 with divergence0.05 and altitude30.00 : (168.77670646668307, 3.8573426573426572)\n"
     ]
    },
    {
     "name": "stderr",
     "output_type": "stream",
     "text": [
      "4it [00:00,  5.77it/s]\n"
     ]
    },
    {
     "name": "stdout",
     "output_type": "stream",
     "text": [
      "The FoV and the average multiplicity is for array_3 with divergence0.10 and altitude30.00 : (186.34941716329186, 3.500774102744546)\n"
     ]
    },
    {
     "name": "stderr",
     "output_type": "stream",
     "text": [
      "4it [00:00,  6.77it/s]"
     ]
    },
    {
     "name": "stdout",
     "output_type": "stream",
     "text": [
      "The FoV and the average multiplicity is for array_3 with divergence0.35 and altitude30.00 : (186.1527077151955, 3.5001761183515323)\n"
     ]
    },
    {
     "name": "stderr",
     "output_type": "stream",
     "text": [
      "\n"
     ]
    }
   ],
   "source": [
    "# print(\"array_alt_1 hFoV:\", array_alt_1.hFoV())\n",
    "print(f\"The FoV and the average multiplicity is for array_1 with divergence{div:.2f} and altitude{alt_1:.2f} :\",array_alt_1.hFoV(subarray_mult=number_of_telescopes_subarray_1))\n",
    "#print(\"array_alt_1_div_2 hFoV:\", array_alt_1_div_2.hFoV())\n",
    "print(f\"The FoV and the average multiplicity is for array_1 with divergence{div_2:.2f} and altitude{alt_1:.2f} :\",array_alt_1_div_2.hFoV(subarray_mult=number_of_telescopes_subarray_1, m_cut=3))\n",
    "print(\"array_alt_1_div_3 hFoV:\", array_alt_1_div_3.hFoV())\n",
    "print(f\"The FoV and the average multiplicity is for array_1 with divergence{div_3:.2f} and altitude{alt_1:.2f} :\",array_alt_1_div_3.hFoV(subarray_mult=number_of_telescopes_subarray_1, m_cut=3))\n",
    "\n",
    "print(\"array_alt_2 hFoV:\", array_alt_2.hFoV())\n",
    "print(f\"The FoV and the average multiplicity is for array_1 with divergence{div:.2f} and altitude{alt_2:.2f} :\",array_alt_2.hFoV(subarray_mult=number_of_telescopes_subarray_1, m_cut=3))\n",
    "print(\"array_alt_2_div_2 hFoV:\", array_alt_2_div_2.hFoV())\n",
    "print(f\"The FoV and the average multiplicity is for array_1 with divergence{div_2:.2f} and altitude{alt_2:.2f} :\",array_alt_2_div_2.hFoV(subarray_mult=number_of_telescopes_subarray_1, m_cut=3))\n",
    "print(\"array_alt_2_div_3 hFoV:\", array_alt_2_div_3.hFoV())\n",
    "print(f\"The FoV and the average multiplicity is for array_1 with divergence{div_3:.2f} and altitude{alt_2:.2f} :\",array_alt_2_div_3.hFoV(subarray_mult=number_of_telescopes_subarray_1, m_cut=3))\n",
    "\n",
    "print(\"array_alt_3 hFoV:\", array_alt_3.hFoV())\n",
    "print(f\"The FoV and the average multiplicity is for array_1 with divergence{div:.2f} and altitude{alt_3:.2f} :\",array_alt_3.hFoV(subarray_mult=number_of_telescopes_subarray_1, m_cut=3))\n",
    "print(\"array_alt_3_div_2 hFoV:\", array_alt_3_div_2.hFoV())\n",
    "print(f\"The FoV and the average multiplicity is for array_1 with divergence{div_2:.2f} and altitude{alt_3:.2f} :\",array_alt_3_div_2.hFoV(subarray_mult=number_of_telescopes_subarray_1, m_cut=3))\n",
    "print(\"array_alt_3_div_3 hFoV:\", array_alt_3_div_3.hFoV())\n",
    "print(f\"The FoV and the average multiplicity is for array_1 with divergence{div_3:.2f} and altitude{alt_3:.2f} :\",array_alt_3_div_3.hFoV(subarray_mult=number_of_telescopes_subarray_1, m_cut=3))\n",
    "\n",
    "print(\"array_2_alt_1 hFoV:\", array_2_alt_1.hFoV())\n",
    "print(f\"The FoV and the average multiplicity is for array_2 with divergence{div:.2f} and altitude{alt_1:.2f} :\",array_2_alt_1.hFoV(subarray_mult=number_of_telescopes_subarray_2, m_cut=3))\n",
    "print(\"array_2_alt_1_div_2 hFoV:\", array_2_alt_1_div_2.hFoV())\n",
    "print(f\"The FoV and the average multiplicity is for array_2 with divergence{div_2:.2f} and altitude{alt_1:.2f} :\", array_2_alt_1_div_2.hFoV(subarray_mult=number_of_telescopes_subarray_2, m_cut=3))\n",
    "print(\"array_2_alt_1_div_3 hFoV:\", array_2_alt_1_div_3.hFoV())\n",
    "print(f\"The FoV and the average multiplicity is for array_2 with divergence{div_3:.2f} and altitude{alt_1:.2f} :\",array_2_alt_1_div_3.hFoV(subarray_mult=number_of_telescopes_subarray_2, m_cut=3))\n",
    "\n",
    "print(\"array_2_alt_2 hFoV:\", array_2_alt_2.hFoV())\n",
    "print(f\"The FoV and the average multiplicity is for array_2 with divergence{div:.2f} and altitude{alt_2:.2f} :\",array_2_alt_2.hFoV(subarray_mult=number_of_telescopes_subarray_2, m_cut=3))\n",
    "print(\"array_2_alt_2_div_2 hFoV:\", array_2_alt_2_div_2.hFoV())\n",
    "print(f\"The FoV and the average multiplicity is for array_2 with divergence{div_2:.2f} and altitude{alt_2:.2f} :\",array_2_alt_2_div_2.hFoV(subarray_mult=number_of_telescopes_subarray_2, m_cut=3))\n",
    "print(\"array_2_alt_2_div_3 hFoV:\", array_2_alt_2_div_3.hFoV())\n",
    "print(f\"The FoV and the average multiplicity is for array_2 with divergence{div_3:.2f} and altitude{alt_2:.2f} :\",array_2_alt_2_div_3.hFoV(subarray_mult=number_of_telescopes_subarray_2, m_cut=3))\n",
    "\n",
    "print(\"array_2_alt_3 hFoV:\", array_2_alt_3.hFoV())\n",
    "print(f\"The FoV and the average multiplicity is for array_2 with divergence{div:.2f} and altitude{alt_3:.2f} :\",array_2_alt_3.hFoV(subarray_mult=number_of_telescopes_subarray_2, m_cut=3))\n",
    "\n",
    "print(f\"The FoV and the average multiplicity is for array_2 with divergence{div_2:.2f} and altitude{alt_3:.2f} :\",array_2_alt_3_div_2.hFoV(subarray_mult=number_of_telescopes_subarray_2, m_cut=3))\n",
    "\n",
    "print(f\"The FoV and the average multiplicity is for array_2 with divergence{div_3:.2f} and altitude{alt_3:.2f} :\",array_2_alt_3_div_3.hFoV(subarray_mult=number_of_telescopes_subarray_2, m_cut=3))\n",
    "\n",
    "# ARRAY 3\n",
    "print(f\"The FoV and the average multiplicity is for array_3 with divergence{div:.2f} and altitude{alt_1:.2f} :\",array_3_alt_1.hFoV(subarray_mult=number_of_telescopes_subarray_3))\n",
    "#print(\"array_alt_1_div_2 hFoV:\", array_alt_1_div_2.hFoV())\n",
    "print(f\"The FoV and the average multiplicity is for array_3 with divergence{div_2:.2f} and altitude{alt_1:.2f} :\",array_3_alt_1_div_2.hFoV(subarray_mult=number_of_telescopes_subarray_3))\n",
    "\n",
    "print(f\"The FoV and the average multiplicity is for array_3 with divergence{div_3:.2f} and altitude{alt_1:.2f} :\",array_3_alt_1_div_3.hFoV(subarray_mult=number_of_telescopes_subarray_3))\n",
    "\n",
    "\n",
    "print(f\"The FoV and the average multiplicity is for array_3 with divergence{div:.2f} and altitude{alt_2:.2f} :\",array_3_alt_2.hFoV(subarray_mult=number_of_telescopes_subarray_3))\n",
    "\n",
    "print(f\"The FoV and the average multiplicity is for array_3 with divergence{div_2:.2f} and altitude{alt_2:.2f} :\",array_3_alt_2_div_2.hFoV(subarray_mult=number_of_telescopes_subarray_3))\n",
    "\n",
    "print(f\"The FoV and the average multiplicity is for array_3 with divergence{div_3:.2f} and altitude{alt_2:.2f} :\",array_3_alt_2_div_3.hFoV(subarray_mult=number_of_telescopes_subarray_3))\n",
    "\n",
    "\n",
    "print(f\"The FoV and the average multiplicity is for array_3 with divergence{div:.2f} and altitude{alt_3:.2f} :\",array_3_alt_3.hFoV(subarray_mult=number_of_telescopes_subarray_3))\n",
    "\n",
    "print(f\"The FoV and the average multiplicity is for array_3 with divergence{div_2:.2f} and altitude{alt_3:.2f} :\",array_3_alt_3_div_2.hFoV(subarray_mult=number_of_telescopes_subarray_3))\n",
    "\n",
    "print(f\"The FoV and the average multiplicity is for array_3 with divergence{div_3:.2f} and altitude{alt_3:.2f} :\",array_3_alt_3_div_3.hFoV(subarray_mult=number_of_telescopes_subarray_3))\n"
   ]
  },
  {
   "cell_type": "code",
   "execution_count": 31,
   "metadata": {},
   "outputs": [
    {
     "data": {
      "text/html": [
       "<div><i>Table length=4</i>\n",
       "<table id=\"table4961833504\" class=\"table-striped table-bordered table-condensed\">\n",
       "<thead><tr><th>id</th><th>x</th><th>y</th><th>z</th><th>az</th><th>alt</th><th>zn</th><th>focal</th><th>radius</th><th>fov</th><th>p_x</th><th>p_y</th><th>p_z</th><th>d_tel</th></tr></thead>\n",
       "<thead><tr><th></th><th>m</th><th>m</th><th>m</th><th>deg</th><th>deg</th><th>deg</th><th>m</th><th>deg</th><th>deg2</th><th></th><th></th><th></th><th>m</th></tr></thead>\n",
       "<thead><tr><th>int64</th><th>float64</th><th>float64</th><th>float64</th><th>float64</th><th>float64</th><th>float64</th><th>float64</th><th>float64</th><th>float64</th><th>float64</th><th>float64</th><th>float64</th><th>float64</th></tr></thead>\n",
       "<tr><td>1</td><td>100.0</td><td>-105.33</td><td>27.33</td><td>2.836</td><td>28.240</td><td>61.760</td><td>16.000</td><td>3.850</td><td>46.707</td><td>0.880</td><td>-0.044</td><td>0.473</td><td>156.04</td></tr>\n",
       "<tr><td>2</td><td>-153.25</td><td>81.75</td><td>27.38</td><td>356.603</td><td>31.868</td><td>58.132</td><td>16.000</td><td>3.850</td><td>46.707</td><td>0.848</td><td>0.050</td><td>0.528</td><td>158.82</td></tr>\n",
       "<tr><td>3</td><td>-204.33</td><td>-109.0</td><td>33.83</td><td>3.526</td><td>32.871</td><td>57.129</td><td>16.000</td><td>3.850</td><td>46.707</td><td>0.838</td><td>-0.052</td><td>0.543</td><td>202.35</td></tr>\n",
       "<tr><td>4</td><td>153.25</td><td>79.0</td><td>23.5</td><td>357.229</td><td>27.481</td><td>62.519</td><td>16.000</td><td>3.850</td><td>46.707</td><td>0.886</td><td>0.043</td><td>0.461</td><td>201.79</td></tr>\n",
       "</table></div>"
      ],
      "text/plain": [
       "<Table length=4>\n",
       "  id     x       y       z       az   ...   p_x     p_y     p_z    d_tel \n",
       "         m       m       m      deg   ...                            m   \n",
       "int64 float64 float64 float64 float64 ... float64 float64 float64 float64\n",
       "----- ------- ------- ------- ------- ... ------- ------- ------- -------\n",
       "    1   100.0 -105.33   27.33   2.836 ...   0.880  -0.044   0.473  156.04\n",
       "    2 -153.25   81.75   27.38 356.603 ...   0.848   0.050   0.528  158.82\n",
       "    3 -204.33  -109.0   33.83   3.526 ...   0.838  -0.052   0.543  202.35\n",
       "    4  153.25    79.0    23.5 357.229 ...   0.886   0.043   0.461  201.79"
      ]
     },
     "execution_count": 31,
     "metadata": {},
     "output_type": "execute_result"
    }
   ],
   "source": [
    "array_alt_3.table"
   ]
  },
  {
   "cell_type": "code",
   "execution_count": 32,
   "metadata": {},
   "outputs": [
    {
     "data": {
      "text/html": [
       "<div><i>Table length=4</i>\n",
       "<table id=\"table4960067680\" class=\"table-striped table-bordered table-condensed\">\n",
       "<thead><tr><th>id</th><th>x</th><th>y</th><th>z</th><th>az</th><th>alt</th><th>zn</th><th>focal</th><th>radius</th><th>fov</th><th>p_x</th><th>p_y</th><th>p_z</th><th>d_tel</th></tr></thead>\n",
       "<thead><tr><th></th><th>m</th><th>m</th><th>m</th><th>deg</th><th>deg</th><th>deg</th><th>m</th><th>deg</th><th>deg2</th><th></th><th></th><th></th><th>m</th></tr></thead>\n",
       "<thead><tr><th>int64</th><th>float64</th><th>float64</th><th>float64</th><th>float64</th><th>float64</th><th>float64</th><th>float64</th><th>float64</th><th>float64</th><th>float64</th><th>float64</th><th>float64</th><th>float64</th></tr></thead>\n",
       "<tr><td>1</td><td>100.0</td><td>-105.33</td><td>27.33</td><td>6.481</td><td>66.536</td><td>23.464</td><td>16.000</td><td>3.850</td><td>46.707</td><td>0.396</td><td>-0.045</td><td>0.917</td><td>156.04</td></tr>\n",
       "<tr><td>2</td><td>-153.25</td><td>81.75</td><td>27.38</td><td>350.290</td><td>73.268</td><td>16.732</td><td>16.000</td><td>3.850</td><td>46.707</td><td>0.284</td><td>0.049</td><td>0.958</td><td>158.82</td></tr>\n",
       "<tr><td>3</td><td>-204.33</td><td>-109.0</td><td>33.83</td><td>10.721</td><td>74.733</td><td>15.267</td><td>16.000</td><td>3.850</td><td>46.707</td><td>0.259</td><td>-0.049</td><td>0.965</td><td>202.35</td></tr>\n",
       "<tr><td>4</td><td>153.25</td><td>79.0</td><td>23.5</td><td>353.886</td><td>65.144</td><td>24.856</td><td>16.000</td><td>3.850</td><td>46.707</td><td>0.418</td><td>0.045</td><td>0.907</td><td>201.79</td></tr>\n",
       "</table></div>"
      ],
      "text/plain": [
       "<Table length=4>\n",
       "  id     x       y       z       az   ...   p_x     p_y     p_z    d_tel \n",
       "         m       m       m      deg   ...                            m   \n",
       "int64 float64 float64 float64 float64 ... float64 float64 float64 float64\n",
       "----- ------- ------- ------- ------- ... ------- ------- ------- -------\n",
       "    1   100.0 -105.33   27.33   6.481 ...   0.396  -0.045   0.917  156.04\n",
       "    2 -153.25   81.75   27.38 350.290 ...   0.284   0.049   0.958  158.82\n",
       "    3 -204.33  -109.0   33.83  10.721 ...   0.259  -0.049   0.965  202.35\n",
       "    4  153.25    79.0    23.5 353.886 ...   0.418   0.045   0.907  201.79"
      ]
     },
     "execution_count": 32,
     "metadata": {},
     "output_type": "execute_result"
    }
   ],
   "source": [
    "array_alt_1.table\n"
   ]
  },
  {
   "cell_type": "markdown",
   "metadata": {},
   "source": [
    "# SUB_ARRAY_1 DIV 1"
   ]
  },
  {
   "cell_type": "code",
   "execution_count": null,
   "metadata": {},
   "outputs": [
    {
     "name": "stderr",
     "output_type": "stream",
     "text": [
      "1it [00:00,  6.78it/s]"
     ]
    }
   ],
   "source": [
    "\n",
    "array_alt_1.multiplicity_plot(subarray_mult=number_of_telescopes_subarray_1 )# Set the main title for the entire figure\n",
    "array_alt_2.multiplicity_plot(subarray_mult=number_of_telescopes_subarray_1 )\n",
    "array_alt_3.multiplicity_plot(subarray_mult=number_of_telescopes_subarray_1 )\n",
    "\n",
    "\n",
    "\n"
   ]
  },
  {
   "cell_type": "markdown",
   "metadata": {},
   "source": [
    "# SUB_ARRAY_1 DIV 2"
   ]
  },
  {
   "cell_type": "code",
   "execution_count": null,
   "metadata": {},
   "outputs": [],
   "source": [
    "\n",
    "array_alt_1_div_2.multiplicity_plot(subarray_mult=number_of_telescopes_subarray_1 )# Set the main title for the entire figure\n",
    "array_alt_2_div_2.multiplicity_plot(subarray_mult=number_of_telescopes_subarray_1 )\n",
    "array_alt_3_div_2.multiplicity_plot(subarray_mult=number_of_telescopes_subarray_1 )\n"
   ]
  },
  {
   "cell_type": "markdown",
   "metadata": {},
   "source": [
    "# SUB_ARRAY_1 DIV 3"
   ]
  },
  {
   "cell_type": "code",
   "execution_count": null,
   "metadata": {},
   "outputs": [],
   "source": [
    "array_alt_1_div_3.multiplicity_plot(subarray_mult=number_of_telescopes_subarray_1 )# Set the main title for the entire figure\n",
    "array_alt_2_div_3.multiplicity_plot(subarray_mult=number_of_telescopes_subarray_1 )\n",
    "array_alt_3_div_3.multiplicity_plot(subarray_mult=number_of_telescopes_subarray_1 )\n",
    "\n"
   ]
  },
  {
   "cell_type": "markdown",
   "metadata": {},
   "source": [
    "# SUB_ARRAY_2 DIV_1"
   ]
  },
  {
   "cell_type": "code",
   "execution_count": null,
   "metadata": {},
   "outputs": [],
   "source": [
    "array_2_alt_1.multiplicity_plot(subarray_mult=number_of_telescopes_subarray_2 )# Set the main title for the entire figure\n",
    "array_2_alt_2.multiplicity_plot(subarray_mult=number_of_telescopes_subarray_2 )\n",
    "array_2_alt_3.multiplicity_plot(subarray_mult=number_of_telescopes_subarray_2 )\n",
    "\n"
   ]
  },
  {
   "cell_type": "markdown",
   "metadata": {},
   "source": [
    "# SUB_ARRAY_2 DIV_2"
   ]
  },
  {
   "cell_type": "code",
   "execution_count": null,
   "metadata": {},
   "outputs": [],
   "source": [
    "\n",
    "array_2_alt_1_div_2.multiplicity_plot(subarray_mult=number_of_telescopes_subarray_2 )# Set the main title for the entire figure\n",
    "array_2_alt_2_div_2.multiplicity_plot(subarray_mult=number_of_telescopes_subarray_2 )\n",
    "array_2_alt_3_div_2.multiplicity_plot(subarray_mult=number_of_telescopes_subarray_2 )\n"
   ]
  },
  {
   "cell_type": "markdown",
   "metadata": {},
   "source": [
    "# SUB_ARRAY_2 DIV_3 "
   ]
  },
  {
   "cell_type": "code",
   "execution_count": null,
   "metadata": {},
   "outputs": [],
   "source": [
    "array_2_alt_1_div_3.multiplicity_plot(subarray_mult=number_of_telescopes_subarray_2 )# Set the main title for the entire figure\n",
    "array_2_alt_2_div_3.multiplicity_plot(subarray_mult=number_of_telescopes_subarray_2 )\n",
    "array_2_alt_3_div_3.multiplicity_plot(subarray_mult=number_of_telescopes_subarray_2 )\n"
   ]
  },
  {
   "cell_type": "markdown",
   "metadata": {},
   "source": [
    "## SUBARRAY_3_DIV_1"
   ]
  },
  {
   "cell_type": "code",
   "execution_count": null,
   "metadata": {},
   "outputs": [],
   "source": [
    "array_3_alt_1.multiplicity_plot(subarray_mult=number_of_telescopes_subarray_3 )# Set the main title for the entire figure\n",
    "array_3_alt_2.multiplicity_plot(subarray_mult=number_of_telescopes_subarray_3 )\n",
    "array_3_alt_3.multiplicity_plot(subarray_mult=number_of_telescopes_subarray_3 )\n",
    "\n"
   ]
  },
  {
   "cell_type": "markdown",
   "metadata": {},
   "source": [
    "## SUBARRAY_3_DIV_2"
   ]
  },
  {
   "cell_type": "code",
   "execution_count": null,
   "metadata": {},
   "outputs": [],
   "source": [
    "array_3_alt_1_div_2.multiplicity_plot(subarray_mult=number_of_telescopes_subarray_3 )# Set the main title for the entire figure\n",
    "array_3_alt_2_div_2.multiplicity_plot(subarray_mult=number_of_telescopes_subarray_3 )\n",
    "array_3_alt_3_div_2.multiplicity_plot(subarray_mult=number_of_telescopes_subarray_3 )\n"
   ]
  },
  {
   "cell_type": "markdown",
   "metadata": {},
   "source": [
    "## SUBARRAY_3_DIV_3"
   ]
  },
  {
   "cell_type": "code",
   "execution_count": null,
   "metadata": {},
   "outputs": [],
   "source": [
    "array_3_alt_1_div_3.multiplicity_plot(subarray_mult=number_of_telescopes_subarray_3 )# Set the main title for the entire figure\n",
    "array_3_alt_2_div_3.multiplicity_plot(subarray_mult=number_of_telescopes_subarray_3 )\n",
    "array_3_alt_3_div_3.multiplicity_plot(subarray_mult=number_of_telescopes_subarray_3 )\n"
   ]
  },
  {
   "cell_type": "markdown",
   "metadata": {},
   "source": [
    "array_3_alt_1.display(\"xyz\")\n",
    "plt.title(\"Array of only MST subarray 20 gradi\")\n",
    "array_3_alt_2.display(\"xyz\")\n",
    "plt.title(\"Array of only MST subarray 40 gradi\")\n",
    "array_3_alt_3.display(\"xyz\")\n",
    "plt.title(\"Array of only MST subarray 60 gradi\")\n",
    "plt.show()"
   ]
  },
  {
   "cell_type": "markdown",
   "metadata": {},
   "source": [
    "## GRAPHING MULTIPLICITY AND FOV to understand what is going on "
   ]
  },
  {
   "cell_type": "code",
   "execution_count": null,
   "metadata": {},
   "outputs": [],
   "source": [
    "array= LoadConfig(\"./subarray_1_2_SOUTH.txt\", frame=cta, pointing2src=True)\n",
    "array_2= LoadConfig(\"./subarray_2_SOUTH.txt\", frame=cta, pointing2src=True)\n",
    "array_3= LoadConfig(\"./subarray_3_SOUTH.txt\", frame=cta, pointing2src=True)"
   ]
  },
  {
   "cell_type": "code",
   "execution_count": null,
   "metadata": {},
   "outputs": [],
   "source": [
    "array.table"
   ]
  },
  {
   "cell_type": "code",
   "execution_count": null,
   "metadata": {},
   "outputs": [],
   "source": [
    "full_array.table"
   ]
  },
  {
   "cell_type": "code",
   "execution_count": null,
   "metadata": {},
   "outputs": [],
   "source": [
    "array.table"
   ]
  },
  {
   "cell_type": "code",
   "execution_count": null,
   "metadata": {},
   "outputs": [],
   "source": [
    "full_array.divergent_pointing(0.05, az=0,alt=70)"
   ]
  },
  {
   "cell_type": "code",
   "execution_count": null,
   "metadata": {},
   "outputs": [],
   "source": [
    "full_array.hFoV(m_cut=3)[0]"
   ]
  },
  {
   "cell_type": "code",
   "execution_count": null,
   "metadata": {},
   "outputs": [],
   "source": [
    "full_array.hFoV()[0]"
   ]
  },
  {
   "cell_type": "code",
   "execution_count": null,
   "metadata": {},
   "outputs": [],
   "source": [
    "full_array.multiplicity_plot()"
   ]
  },
  {
   "cell_type": "code",
   "execution_count": null,
   "metadata": {},
   "outputs": [],
   "source": [
    "div=[]\n",
    "\n",
    "div=np.linspace(0,0.1, 15)\n",
    "div_no_saturation_full_array=[]#So we can get an array with all the divergence in the full_array\n",
    "div_no_saturation_sub_1=[]\n",
    "div_no_saturstion_sub_2=[]"
   ]
  },
  {
   "cell_type": "code",
   "execution_count": null,
   "metadata": {},
   "outputs": [],
   "source": [
    "FoV_full_array=[]\n",
    "multiplicity_full_array=[]\n",
    "for divergence in div:\n",
    "    full_array.divergent_pointing(divergence, az=0,alt=70)\n",
    "    if full_array.hFoV(m_cut=3)[0] != 0: #To get the no saturation\n",
    "        FoV=full_array.hFoV(m_cut=3)[0]\n",
    "        multiplicity=full_array.hFoV(m_cut=3)[1]\n",
    "        FoV_full_array.append(FoV)\n",
    "        multiplicity_full_array.append(multiplicity)\n",
    "        div_no_saturation_full_array.append(divergence)"
   ]
  },
  {
   "cell_type": "code",
   "execution_count": null,
   "metadata": {},
   "outputs": [],
   "source": [
    "div_no_saturation_full_array"
   ]
  },
  {
   "cell_type": "code",
   "execution_count": null,
   "metadata": {},
   "outputs": [],
   "source": [
    "array.table"
   ]
  },
  {
   "cell_type": "code",
   "execution_count": null,
   "metadata": {},
   "outputs": [],
   "source": [
    "FoV_array_complete=[]\n",
    "multiplicity_array_complete=[]\n",
    "FoV_array=[]#This will be the one without saturation\n",
    "multiplicity_array=[] #This will be the one without saturation\n",
    "for divergence in div:\n",
    "    array.divergent_pointing(divergence, az=0,alt=70)    \n",
    "    FoV=array.hFoV(subarray_mult=number_of_telescopes_subarray_1)[0]\n",
    "    multiplicity=array.hFoV(subarray_mult=number_of_telescopes_subarray_1)[1]\n",
    "    FoV_array_complete.append(FoV)\n",
    "    multiplicity_array_complete.append(multiplicity)\n",
    "    "
   ]
  },
  {
   "cell_type": "code",
   "execution_count": null,
   "metadata": {},
   "outputs": [],
   "source": [
    "\n",
    "FoV_array=[]#This will be the one without saturation\n",
    "multiplicity_array=[] #This will be the one without saturation\n",
    "div_no_saturation_sub_1=[]\n",
    "for i in range(np.size(FoV_array_complete)-1):\n",
    "        if np.round(FoV_array_complete[i+1])!=np.round(FoV_array_complete[i]):\n",
    "            FoV_array.append(FoV_array_complete[i])\n",
    "            multiplicity_array.append(multiplicity_array_complete[i])\n",
    "print(np.size(FoV_array))\n",
    "div_stop=np.size(FoV_array)\n",
    "div_no_saturation_sub_1=div[:div_stop] \n",
    "print(FoV_array)"
   ]
  },
  {
   "cell_type": "code",
   "execution_count": null,
   "metadata": {},
   "outputs": [],
   "source": [
    "div_no_saturation_sub_1"
   ]
  },
  {
   "cell_type": "code",
   "execution_count": null,
   "metadata": {},
   "outputs": [],
   "source": [
    "array_2.table"
   ]
  },
  {
   "cell_type": "code",
   "execution_count": null,
   "metadata": {},
   "outputs": [],
   "source": [
    "FoV_array_complete_2=[]\n",
    "multiplicity_array_complete_2=[]\n",
    "FoV_array_2=[]#This will be the one without saturation\n",
    "multiplicity_array_2=[] #This will be the one without saturation\n",
    "for divergence in div:\n",
    "    array_2.divergent_pointing(divergence, az=0,alt=70)    \n",
    "    FoV=array_2.hFoV(subarray_mult=number_of_telescopes_subarray_2)[0]\n",
    "    multiplicity=array_2.hFoV(subarray_mult=number_of_telescopes_subarray_2)[1]\n",
    "    FoV_array_complete_2.append(FoV)\n",
    "    multiplicity_array_complete_2.append(multiplicity)\n",
    "    \n",
    "FoV_array_2=[]#This will be the one without saturation\n",
    "multiplicity_array_2=[] #This will be the one without saturation\n",
    "div_no_saturation_sub_2=[]\n"
   ]
  },
  {
   "cell_type": "code",
   "execution_count": null,
   "metadata": {},
   "outputs": [],
   "source": [
    "\n",
    "for i in range(np.size(FoV_array_complete_2)-1):\n",
    "        if np.round(FoV_array_complete_2[i+1])!=np.round(FoV_array_complete_2[i]):\n",
    "            FoV_array_2.append(FoV_array_complete_2[i])\n",
    "            multiplicity_array_2.append(multiplicity_array_complete_2[i])\n",
    "print(np.size(FoV_array_2))\n",
    "div_stop_2=np.size(FoV_array_2)\n",
    "div_no_saturation_sub_2=div[:div_stop_2] \n",
    "print(FoV_array_2)"
   ]
  },
  {
   "cell_type": "code",
   "execution_count": null,
   "metadata": {},
   "outputs": [],
   "source": [
    "# SUBARRAY 3 \n",
    "\n",
    "FoV_array_complete_3=[]\n",
    "multiplicity_array_complete_3=[]\n",
    "FoV_array_3=[]#This will be the one without saturation\n",
    "multiplicity_array_3=[] #This will be the one without saturation\n",
    "for divergence in div:\n",
    "    array_3.divergent_pointing(divergence, az=0,alt=70)    \n",
    "    FoV=array_3.hFoV(subarray_mult=number_of_telescopes_subarray_3)[0]\n",
    "    multiplicity=array_3.hFoV(subarray_mult=number_of_telescopes_subarray_3)[1]\n",
    "    FoV_array_complete_3.append(FoV)\n",
    "    multiplicity_array_complete_3.append(multiplicity)\n",
    "    \n",
    "FoV_array_3=[]#This will be the one without saturation\n",
    "multiplicity_array_3=[] #This will be the one without saturation\n",
    "div_no_saturation_sub_3=[]\n",
    "\n",
    "for i in range(np.size(FoV_array_complete_3)-1):\n",
    "        if np.round(FoV_array_complete_3[i+1])!=np.round(FoV_array_complete_3[i]):\n",
    "            FoV_array_3.append(FoV_array_complete_3[i])\n",
    "            multiplicity_array_3.append(multiplicity_array_complete_3[i])\n",
    "print(np.size(FoV_array_3))\n",
    "div_stop_3=np.size(FoV_array_3)\n",
    "div_no_saturation_sub_3=div[:div_stop_3] \n",
    "print(FoV_array_3)"
   ]
  },
  {
   "cell_type": "code",
   "execution_count": null,
   "metadata": {},
   "outputs": [],
   "source": [
    "print(len(div), len(FoV_full_array), len(FoV_array))"
   ]
  },
  {
   "cell_type": "code",
   "execution_count": null,
   "metadata": {},
   "outputs": [],
   "source": [
    "## First to start understanding what is going on I wanted to graph in the 4 plots together "
   ]
  },
  {
   "cell_type": "code",
   "execution_count": null,
   "metadata": {},
   "outputs": [],
   "source": [
    "FoV_array"
   ]
  },
  {
   "cell_type": "code",
   "execution_count": null,
   "metadata": {},
   "outputs": [],
   "source": [
    "FoV_array_2"
   ]
  },
  {
   "cell_type": "code",
   "execution_count": null,
   "metadata": {},
   "outputs": [],
   "source": [
    "number_of_telescopes_subarray_2"
   ]
  },
  {
   "cell_type": "code",
   "execution_count": null,
   "metadata": {},
   "outputs": [],
   "source": [
    "number_of_telescopes_subarray_3"
   ]
  },
  {
   "cell_type": "markdown",
   "metadata": {},
   "source": [
    "## PENSAR COMO AUTOMIZAR LO SIGUIENTE EL FOV CHE STUDIO TIENE QUE SER SI O SI DEL FULL ARRAY CON EL MINIMO DEL ARRAY DE TELESCOPIOS QUE TENGO PRARA PODER CONFRONTAR MEJOR. En cambio no poner ningun limite para los subarrays"
   ]
  },
  {
   "cell_type": "code",
   "execution_count": null,
   "metadata": {},
   "outputs": [],
   "source": [
    "number_of_telescopes_subarray_1"
   ]
  },
  {
   "cell_type": "markdown",
   "metadata": {},
   "source": [
    "# hFoV and multiplicities graphs "
   ]
  },
  {
   "cell_type": "code",
   "execution_count": null,
   "metadata": {},
   "outputs": [],
   "source": [
    "fig, axes = plt.subplots(2, 2, figsize=(12, 12)) \n",
    "# Plot Full Array\n",
    "# Full Array with m_cut = 3\n",
    "l1=axes[0,0].plot(div_no_saturation_full_array, FoV_full_array, label='FoV', marker='o', color='darkgreen')\n",
    "ax2 = axes[0,0].twinx()\n",
    "l2=ax2.plot(div_no_saturation_full_array, multiplicity_full_array, label='Multiplicities',marker='*', color='limegreen')\n",
    "axes[0,0].set_title('Full Array m_cut 3')\n",
    "axes[0,0].set_xlabel('Divergence')\n",
    "axes[0,0].set_ylabel('Field of view (m > 3) [deg$^2$]')\n",
    "ax2.set_ylabel('Multiplicities (m>3)')\n",
    "axeslegend = l1+l2\n",
    "axes[0,0].legend(axeslegend, [l.get_label() for l in axeslegend])\n",
    "\n",
    "\n",
    "\n",
    "#Plot the ones for subarray 1\n",
    "l1=axes[0,1].plot(div_no_saturation_sub_1, FoV_array, label='FoV',marker='o', color='darkgreen')\n",
    "ax5=axes[0,1].twinx()\n",
    "l2=ax5.plot(div_no_saturation_sub_1, multiplicity_array, label='Multiplicity', marker='*', color='limegreen')\n",
    "axes[0,1].set_title('SUBARRAY 1')\n",
    "axes[0,1].set_xlabel('Divergence')\n",
    "axes[0,1].set_ylabel('Field of view [deg$^2$]')\n",
    "ax5.set_ylabel('Multiplicities')\n",
    "axeslegend = l1+l2\n",
    "axes[0,1].legend(axeslegend, [l.get_label() for l in axeslegend])\n",
    "#Plot the ones for subarray 2\n",
    "l1=axes[1,0].plot(div_no_saturation_sub_2, FoV_array_2, label='FoV',marker='o', color='darkgreen')\n",
    "ax5=axes[1,0].twinx()\n",
    "l2=ax5.plot(div_no_saturation_sub_2, multiplicity_array_2, label='Multiplicity', marker='*', color='limegreen')\n",
    "axes[1,0].set_title('SUBARRAY 2')\n",
    "axes[1,0].set_xlabel('Divergence')\n",
    "axes[1,0].set_ylabel('Field of view[deg$^2$]')\n",
    "ax5.set_ylabel('Multiplicities')\n",
    "axeslegend = l1+l2\n",
    "axes[1,0].legend(axeslegend, [l.get_label() for l in axeslegend])\n",
    "\n",
    "# Subarray 3\n",
    "l1=axes[1,1].plot(div_no_saturation_sub_3, FoV_array_3, label='FoV',marker='o', color='darkgreen')\n",
    "ax3 = axes[1,1].twinx()\n",
    "l2=ax3.plot(div_no_saturation_sub_3,multiplicity_array_3, label='Multiplicities', marker='*', color='limegreen')\n",
    "plt.title('Subarray 3')\n",
    "plt.xlabel('Divergence')\n",
    "plt.ylabel('Field of view  [deg$^2$]')\n",
    "plt.ylabel('Multiplicities')\n",
    "axeslegend = l1+l2\n",
    "axes[1,1].legend(axeslegend, [l.get_label() for l in axeslegend])\n",
    "# Adjust layout\n",
    "plt.tight_layout()\n",
    "\n",
    "\n",
    "\n",
    "plt.show()"
   ]
  },
  {
   "cell_type": "code",
   "execution_count": null,
   "metadata": {},
   "outputs": [],
   "source": [
    "#mask[:100]\n",
    "multiplicity_full_array"
   ]
  },
  {
   "cell_type": "code",
   "execution_count": null,
   "metadata": {},
   "outputs": [],
   "source": [
    " FoV_full_array"
   ]
  },
  {
   "cell_type": "code",
   "execution_count": null,
   "metadata": {},
   "outputs": [],
   "source": [
    "# Plot array 3\n",
    "\n",
    "l1=plt.plot(div_no_saturation_sub_3[:15], FoV_array_3[:15], label='FoV',marker='o', color='darkgreen')\n",
    "ax3 = plt.twinx()\n",
    "l2=ax3.plot(div_no_saturation_sub_3[:15],multiplicity_array_3[:15], label='Multiplicities', marker='*', color='limegreen')\n",
    "plt.title('Subarray 3')\n",
    "plt.xlabel('Divergence')\n",
    "plt.ylabel('Field of view  [deg$^2$]')\n",
    "plt.ylabel('Multiplicities')\n",
    "axeslegend = l1+l2\n",
    "plt.legend(axeslegend, [l.get_label() for l in axeslegend])\n",
    "plt.show()"
   ]
  },
  {
   "cell_type": "code",
   "execution_count": null,
   "metadata": {},
   "outputs": [],
   "source": [
    "plt.plot(div_no_saturation_full_array, FoV_full_array, label='Full Array m_cut=3')\n",
    "\n",
    "plt.plot(div_no_saturation_sub_1, FoV_array, label='Sub Array 1')\n",
    "plt.plot(div_no_saturation_sub_2, FoV_array_2, label='Sub Array 2')\n",
    "plt.plot(div_no_saturation_sub_3, FoV_array_3, label='Sub Array 3')\n",
    "# Add labels and title\n",
    "plt.xlabel(\"Divergence (deg)\")  \n",
    "plt.ylabel(\"Field of View\")  \n",
    "plt.title(\"FoV vs Divergence\")  \n",
    "\n",
    "# Add legend\n",
    "plt.legend()\n",
    "\n",
    "# Display the plot\n",
    "plt.show()"
   ]
  },
  {
   "cell_type": "code",
   "execution_count": null,
   "metadata": {},
   "outputs": [],
   "source": [
    "plt.plot(div_no_saturation_full_array, multiplicity_full_array, label='Full Array')\n",
    "plt.plot(div_no_saturation_sub_1,  multiplicity_array, label='Subarray 1')\n",
    "plt.plot(div_no_saturation_sub_2,  multiplicity_array_2, label='Subarray 2')\n",
    "plt.plot(div_no_saturation_sub_3,  multiplicity_array_3, label='Subarray 3')\n",
    "plt.xlabel(\"Divergence\")  \n",
    "plt.ylabel(\"Multiplicity\")  # Y-axis label\n",
    "plt.title(\"Multiplicity vs Divergence\")  # Title of the plot\n",
    "plt.legend()\n",
    "plt.show()"
   ]
  },
  {
   "cell_type": "code",
   "execution_count": null,
   "metadata": {},
   "outputs": [],
   "source": [
    "print(f\"The FoV difference between subarray 1 and 2\", np.mean(FoV_array)/np.mean(FoV_array_2))\n",
    "print(f\"The FoV difference between subarray 2 and 3\", np.mean(FoV_array_2)/np.mean(FoV_array_3))\n",
    "print(f\"The FoV difference between subarray 1 and 3\", np.mean(FoV_array)/np.mean(FoV_array_3))\n",
    "print(f\"The FoV differenve between subarray 1 and the full array m_cut=3 is\", np.mean(FoV_full_array)/np.mean(FoV_array) )\n",
    "print(f\"The FoV differenve between subarray 2 and the full array m_cut=3 is\", np.mean(FoV_full_array)/np.mean(FoV_array_2) )\n",
    "print(f\"The FoV differenve between subarray 3 and the full array m_cut=3 is\", np.mean(FoV_full_array)/np.mean(FoV_array_3) )"
   ]
  },
  {
   "cell_type": "code",
   "execution_count": null,
   "metadata": {},
   "outputs": [],
   "source": [
    "FoV_array = np.array(FoV_array)\n",
    "FoV_array_2 = np.array(FoV_array_2)\n",
    "#FoV_mult_cut_2_array = np.array(FoV_full_array_mult_cut_2)\n",
    "FoV_array_3=np.array(FoV_array_3)"
   ]
  },
  {
   "cell_type": "code",
   "execution_count": null,
   "metadata": {},
   "outputs": [],
   "source": [
    "\n",
    "stop=np.size(FoV_full_array)\n",
    "plt.plot(div_no_saturation_full_array, FoV_full_array/FoV_array_2[:stop], label='Full Array m_cut =3/Sub Array 2')\n",
    "plt.plot(div_no_saturation_full_array, FoV_full_array/FoV_array_3[:stop], label='Full Array m_cut =3/Sub Array 3')\n",
    "plt.plot(div_no_saturation_full_array, FoV_full_array/FoV_array[:stop], label='Full Array m_cut= 3/Sub Array 1', marker='s')\n",
    "\n",
    "plt.xlabel(\"Divergence \")  \n",
    "plt.ylabel(\"Ratio of Field of View\")  \n",
    "plt.title(\"Ratio FoV vs Divergence\")  \n",
    "plt.legend()\n",
    "\n",
    "plt.show()"
   ]
  },
  {
   "cell_type": "code",
   "execution_count": null,
   "metadata": {},
   "outputs": [],
   "source": [
    "#hfov = hp.nside2pixarea(nside, True)*np.sum(mask_fov)\n",
    "multiplicity_full_array"
   ]
  },
  {
   "cell_type": "code",
   "execution_count": null,
   "metadata": {},
   "outputs": [],
   "source": [
    "multiplicity_full_array = np.array(multiplicity_full_array)\n",
    "multiplicity_array_2 = np.array(multiplicity_array_2)\n",
    "multiplicity_array_3 = np.array(multiplicity_array_3)\n",
    "multiplicity_array = np.array(multiplicity_array)\n",
    "#multiplicity_full_array_mult_2 = np.array(multiplicity_full_array_mult_cut_2)"
   ]
  },
  {
   "cell_type": "code",
   "execution_count": null,
   "metadata": {},
   "outputs": [],
   "source": [
    "plt.plot(div_no_saturation_full_array, multiplicity_full_array, label='Full Array m_cut=3', marker='s')\n",
    "plt.plot(div_no_saturation_sub_2,  multiplicity_array_2, label='Sub Array 2')\n",
    "plt.plot(div_no_saturation_sub_3,  multiplicity_array_3, label='Sub Array 3')\n",
    "plt.plot(div_no_saturation_sub_1,  multiplicity_array, label='Sub Array 1')\n",
    "#plt.plot(div[:10],  multiplicity_full_array_mult_cut_2[:10], label='Full Array m_cut=2', marker='s')\n",
    "plt.xlabel(\"Divergence\")  \n",
    "plt.ylabel(\"Multiplicity\")  # Y-axis label\n",
    "plt.title(\"Multiplicity vs Divergence\")  # Title of the plot\n",
    "plt.legend()\n",
    "plt.show()"
   ]
  },
  {
   "cell_type": "code",
   "execution_count": null,
   "metadata": {},
   "outputs": [],
   "source": [
    "print(np.mean(multiplicity_array_2)/np.mean(multiplicity_array))"
   ]
  },
  {
   "cell_type": "code",
   "execution_count": null,
   "metadata": {},
   "outputs": [],
   "source": [
    "#plt.plot(div[:12], multiplicity_full_array[:12]/multiplicity_array[:12], label='Full Array m_cut=3/Sub Array 1', color='blue', marker='s')\n",
    "plt.plot(div_no_saturation_full_array, multiplicity_full_array/multiplicity_array_2[:stop], label='Full Array m_cut=3/Sub Array 2', color='limegreen', marker='o')\n",
    "plt.plot(div_no_saturation_full_array, multiplicity_full_array/multiplicity_array_3[:stop], label='Full Array m_cut=3/Sub Array 3', marker='o')\n",
    "plt.plot(div_no_saturation_full_array, multiplicity_full_array/multiplicity_array[:stop], label='Full Array m_cut=3/Sub Array 1', color='cornflowerblue', marker='s')\n",
    "#plt.plot(div[:12], multiplicity_full_array_mult_cut_2[:12]/multiplicity_array_2[:12], label='Full Array m_cut=2/Sub Array 2', color='darkgreen', marker='o')\n",
    "\n",
    "plt.xlabel(\"Divergence \")  \n",
    "plt.ylabel(\"Ratio of Multiplicities\")  \n",
    "plt.title(\"Multiplicities ratios\")  \n",
    "plt.legend()\n",
    "\n",
    "plt.show()\n",
    "#print(multiplicity_full_array[5])\n",
    "#print(multiplicity_array[5])\n",
    "#1.62/4.15"
   ]
  },
  {
   "cell_type": "code",
   "execution_count": null,
   "metadata": {},
   "outputs": [],
   "source": [
    "plt.plot(div_no_saturation_sub_1, multiplicity_array_2[:10]/multiplicity_array)\n",
    "plt.title('Multiplicity Plot')\n",
    "plt.show()"
   ]
  },
  {
   "cell_type": "markdown",
   "metadata": {},
   "source": [
    "## SHOWING WHAT HAPPENS RUGHT AFTER 0.05 "
   ]
  },
  {
   "cell_type": "code",
   "execution_count": null,
   "metadata": {},
   "outputs": [],
   "source": [
    "array.divergent_pointing(div=0.05, az=0, alt=70)\n",
    "array.multiplicity_plot(number_of_telescopes_subarray_1)\n",
    "array_2.divergent_pointing(div=0.05, az=0, alt=70)\n",
    "array_2.multiplicity_plot(number_of_telescopes_subarray_2)\n",
    "array_3.divergent_pointing(div=0.05, az=0, alt=70)\n",
    "array_3.multiplicity_plot(number_of_telescopes_subarray_3)"
   ]
  },
  {
   "cell_type": "code",
   "execution_count": null,
   "metadata": {},
   "outputs": [],
   "source": [
    "array.divergent_pointing(div=0.06, az=0, alt=70)\n",
    "array.multiplicity_plot(number_of_telescopes_subarray_1)\n",
    "array_3.divergent_pointing(div=0.06, az=0, alt=70)\n",
    "array_3.multiplicity_plot(number_of_telescopes_subarray_3)"
   ]
  },
  {
   "cell_type": "raw",
   "metadata": {},
   "source": [
    "plt.plot(div, multiplicity_array/multiplicity_full_array, label='Sub Array 1/Full Array m_cut 3')\n",
    "plt.plot(div, multiplicity_array_2/multiplicity_full_array, label='Sub Array 2/Full Array m_cut 3')\n",
    "plt.plot(div, multiplicity_array_3/multiplicity_full_array, label='Sub Array 3/Full Array m_cut 3')\n",
    "plt.plot(div, multiplicity_array/multiplicity_array_2, label='Sub Array 1/Sub 2')\n",
    "plt.plot(div, multiplicity_array_3/multiplicity_array_2, label='Sub Array 3/Sub 2')\n",
    "plt.xlabel(\"Divergence \")  \n",
    "plt.ylabel(\"Ratio of Multiplicities\")  \n",
    "plt.title(\"Ratio Multiplicities vs Divergence\")  \n",
    "plt.legend()\n",
    "\n",
    "plt.show()"
   ]
  },
  {
   "cell_type": "code",
   "execution_count": null,
   "metadata": {},
   "outputs": [],
   "source": [
    "plt.figure(figsize=(10, 6))  \n",
    "\n",
    "# Scatter plots for Multiplicity ratios m_cut =3\n",
    "plt.plot(div_no_saturation_full_array, multiplicity_array[:stop]/multiplicity_full_array, label='Multiplicity: Sub 1/Full m _cut=3', marker='o', color='darkgreen')\n",
    "plt.plot(div_no_saturation_full_array,  multiplicity_array_2[:stop]/multiplicity_full_array, label='Multiplicity: Sub 2/Full m_cut=3',marker='o', color='darkorchid')\n",
    "plt.plot(div_no_saturation_full_array,  multiplicity_array_3[:stop]/multiplicity_full_array, label='Multiplicity: Sub 3/Full m_cut=3',marker='o', color='steelblue')\n",
    "\n",
    "# Scatter plots for FoV ratios\n",
    "plt.plot(div_no_saturation_full_array, FoV_full_array/ FoV_array[:stop], label='FoV: Full m_cut=3/Sub 1',marker='s', color='limegreen')\n",
    "plt.plot(div_no_saturation_full_array,FoV_full_array/ FoV_array_2[:stop], label='FoV: Full m_cut=3/Sub 2', marker='s', color='mediumorchid')\n",
    "plt.plot(div_no_saturation_full_array,FoV_full_array/ FoV_array_3[:stop], label='FoV: Full m_cut=3/Sub 3', marker='s', color='dodgerblue')\n",
    "\n",
    "\n",
    "\n",
    "# Add labels, title, and legend\n",
    "plt.xlabel(\"Divergence \")  \n",
    "plt.ylabel(\"Ratios (Multiplicity and FoV)\")  \n",
    "plt.title(\"Ratios of Multiplicities and FoV vs Divergence\")  \n",
    "plt.legend(loc='upper right', bbox_to_anchor=(1.5, 1))\n",
    "\n",
    "# Display the plot\n",
    "plt.show()"
   ]
  },
  {
   "cell_type": "code",
   "execution_count": null,
   "metadata": {},
   "outputs": [],
   "source": [
    "fig, axes = plt.subplots(1, 2, figsize=(12, 6)) \n",
    "# Plot Full ArrayFoV_mult_cut_2_array multiplicity_full_array_mult_cut_2\n",
    "# Scatter plots for Multiplicity ratios m_cut =3\n",
    "axes[0].plot(div_no_saturation_full_array, multiplicity_array[:stop]/multiplicity_full_array, label='Multiplicity: Sub 1/Full m _cut=3', marker='o', color='darkgreen')\n",
    "axes[0].plot(div_no_saturation_full_array, FoV_full_array/ FoV_array[stop], label='FoV: Full m_cut=3/Sub 1',marker='*', color='limegreen')\n",
    "axes[0].set_title('Ratios of Multiplicities and FoV vs Divergence')\n",
    "axes[0].set_xlabel('Divergence')\n",
    "axes[0].set_ylabel('Ratios (Multiplicity and FoV)')\n",
    "axes[0].legend()\n",
    "\n",
    "# Plot Full Array 2\n",
    "axes[1].plot(div_no_saturation_full_array, multiplicity_array_2[:stop]/multiplicity_full_array, label='Multiplicity: Sub 2/Full m_cut=3',marker='o', color='darkorchid')\n",
    "axes[1].plot(div_no_saturation_full_array, FoV_full_array/ FoV_array_2[:stop], label='FoV: Full m_cut=3/Sub 2', marker='*', color='mediumorchid')\n",
    "axes[1].set_title('Ratios of Multiplicities and FoV vs Divergence')\n",
    "axes[1].set_xlabel('Divergence')\n",
    "axes[1].set_ylabel('Ratios (Multiplicity and FoV)')\n",
    "axes[1].legend()\n",
    "\n",
    "# Adjust layout\n",
    "plt.tight_layout()\n",
    "plt.show()"
   ]
  },
  {
   "cell_type": "code",
   "execution_count": null,
   "metadata": {},
   "outputs": [],
   "source": [
    " multiplicity_array_2"
   ]
  },
  {
   "cell_type": "code",
   "execution_count": null,
   "metadata": {},
   "outputs": [],
   "source": [
    "multiplicity_full_array"
   ]
  },
  {
   "cell_type": "code",
   "execution_count": null,
   "metadata": {},
   "outputs": [],
   "source": [
    "plt.plot(div_no_saturation_sub_1, multiplicity_array/multiplicity_array_3[:np.size(multiplicity_array)], label='Multiplicity: Sub 1/Sub 3', marker='o', color='darkgreen')\n",
    "#plt.plot(div[:12], multiplicity_array_cut_4[:12]/multiplicity_array_2[:12], label='Multiplicity: Sub 1/Sub 2 cut 4', marker='o')\n",
    "#plt.plot(div[:8],  FoV_array_cut_4[:8]/FoV_array_2[:8], label='FoV: Sub 1/Sub2 cut 4',marker='o', color='darkorchid')\n",
    "plt.plot(div_no_saturation_sub_1,  FoV_array/FoV_array_3[:np.size(multiplicity_array)], label='FoV: Sub 1/Sub3',marker='o', color='darkorchid')\n",
    "plt.title(\"Subarrays confronting them\")\n",
    "plt.legend()\n",
    "plt.show()\n"
   ]
  },
  {
   "cell_type": "code",
   "execution_count": null,
   "metadata": {},
   "outputs": [],
   "source": [
    "array_2.table"
   ]
  },
  {
   "cell_type": "code",
   "execution_count": null,
   "metadata": {},
   "outputs": [],
   "source": [
    "array.table"
   ]
  },
  {
   "cell_type": "code",
   "execution_count": null,
   "metadata": {},
   "outputs": [],
   "source": [
    "array_3.table"
   ]
  },
  {
   "cell_type": "code",
   "execution_count": null,
   "metadata": {},
   "outputs": [],
   "source": [
    "#array_alt_1.display(\"xyz\")\n",
    "#fig = plt.figure()\n",
    "ax = array.display(\"xyz\")\n",
    "ax_2 = array_2.display(\"xyz\")\n",
    "ax_3 = array_3.display(\"xyz\")\n",
    "colors = [\n",
    "    'lightseagreen' if np.isclose(fov, 14.5356) else\n",
    "    'blueviolet' if np.isclose(fov, 46.707) else \n",
    "    'green' if np.isclose(fov, 62.462) else\n",
    "    'red'  # Default color if none of the conditions match\n",
    "    for fov in array.table[\"fov\"]\n",
    "]\n",
    "fov_labels = {\n",
    "    'lightseagreen': 'LST',\n",
    "    'blueviolet': 'MST',\n",
    "    'green': 'SST'\n",
    "}\n",
    "colors_2 = [\n",
    "    'lightseagreen' if np.isclose(fov, 14.5356) else\n",
    "    'blueviolet' if np.isclose(fov, 46.707) else \n",
    "    'green' if np.isclose(fov, 62.462) else\n",
    "    'red'  # Default color if none of the conditions match\n",
    "    for fov in array.table[\"fov\"]\n",
    "]\n",
    "fov_labels_2 = {\n",
    "    'lightseagreen': 'LST',\n",
    "    'blueviolet': 'MST',\n",
    "    'green': 'SST'\n",
    "}\n",
    "colors_3 = [\n",
    "    'lightseagreen' if np.isclose(fov, 14.5356) else\n",
    "    'blueviolet' if np.isclose(fov, 46.707) else \n",
    "    'green' if np.isclose(fov, 62.462) else\n",
    "    'red'  # Default color if none of the conditions match\n",
    "    for fov in array.table[\"fov\"]\n",
    "]\n",
    "fov_labels_3 = {\n",
    "    'lightseagreen': 'LST',\n",
    "    'blueviolet': 'MST',\n",
    "    'green': 'SST'\n",
    "}\n",
    "\n",
    "#array_3.display(\"xyz\",color=c,label=label)\n",
    "\n",
    "for i in range(len(array.table)):\n",
    "    # Color each telescope point according to the FoV\n",
    "    ax.scatter(array.table['x'][i], array.table['y'][i], array.table['z'][i], \n",
    "               color=colors[i], label=fov_labels[colors[i]])\n",
    "\n",
    "# Display a legend with unique labels\n",
    "handles, labels = plt.gca().get_legend_handles_labels()\n",
    "by_label = dict(zip(labels, handles))\n",
    "\n",
    "ax.legend(by_label.values(), by_label.keys(), loc='lower left')\n",
    "ax.text2D(0.05, 0.95, \"Array_1 of MST \", \n",
    "          transform=ax.transAxes, fontsize=18)\n",
    "\n",
    "\n",
    "#SECOND ALTITUDE\n",
    "\n",
    "\n",
    "\n",
    "for i in range(len(array_2.table)):\n",
    "    # Color each telescope point according to the FoV\n",
    "    ax_2.scatter(array_2.table['x'][i], array_2.table['y'][i], array_2.table['z'][i], \n",
    "               color=colors_2[i], label=fov_labels_2[colors_2[i]])\n",
    "\n",
    "# Display a legend with unique labels\n",
    "handles, labels = plt.gca().get_legend_handles_labels()\n",
    "by_label = dict(zip(labels, handles))\n",
    "print(by_label)\n",
    "ax_2.legend(by_label.values(), by_label.keys())\n",
    "ax_2.text2D(0.05, 0.95, \"Array_2 of MST\", \n",
    "            transform=ax_2.transAxes, fontsize=18)\n",
    "\n",
    "\n",
    "#THIRD ALTITUDE\n",
    "\n",
    "\n",
    "for i in range(len(array_3.table)):\n",
    "    # Color each telescope point according to the FoV\n",
    "    ax_3.scatter(array_3.table['x'][i], array_3.table['y'][i], array_3.table['z'][i], \n",
    "               color=colors_3[i], label=fov_labels_3[colors_3[i]])\n",
    "\n",
    "# Display a legend with unique labels\n",
    "handles, labels = plt.gca().get_legend_handles_labels()\n",
    "by_label = dict(zip(labels, handles))\n",
    "ax_3.legend(by_label.values(), by_label.keys())\n",
    "ax_3.text2D(0.05, 0.95, \"Array_3 of MST\", \n",
    "            transform=ax_2.transAxes, fontsize=18)\n",
    "\n",
    "plt.legend(by_label.values(), by_label.keys())\n",
    "\n",
    "plt.show()\n",
    "##SST IN GREEN \n",
    "#VIOLET ARE THE MST \n",
    "#LIGHT GREEN IS THE LST "
   ]
  },
  {
   "cell_type": "markdown",
   "metadata": {},
   "source": [
    "# MULTIPLICITY PLOTS WITH THE RANGES "
   ]
  },
  {
   "cell_type": "code",
   "execution_count": null,
   "metadata": {},
   "outputs": [],
   "source": [
    "for divergence in div_no_saturation_full_array:\n",
    "    full_array.divergent_pointing(div=divergence, az=0, alt=70)\n",
    "    full_array.multiplicity_plot()\n"
   ]
  },
  {
   "cell_type": "code",
   "execution_count": null,
   "metadata": {},
   "outputs": [],
   "source": [
    "for divergence in div_no_saturation_sub_1:\n",
    "    array.divergent_pointing(div=divergence, az=0, alt=70)\n",
    "    array.multiplicity_plot(number_of_telescopes_subarray_1)"
   ]
  },
  {
   "cell_type": "code",
   "execution_count": null,
   "metadata": {},
   "outputs": [],
   "source": [
    "for divergence in div_no_saturation_sub_2:\n",
    "    array_2.divergent_pointing(div=divergence, az=0, alt=70)\n",
    "    array_2.multiplicity_plot(number_of_telescopes_subarray_2)"
   ]
  },
  {
   "cell_type": "code",
   "execution_count": null,
   "metadata": {},
   "outputs": [],
   "source": [
    "for divergence in div_no_saturation_sub_3:\n",
    "    array_3.divergent_pointing(div=divergence, az=0, alt=70)\n",
    "    array_3.multiplicity_plot(number_of_telescopes_subarray_3)"
   ]
  },
  {
   "cell_type": "code",
   "execution_count": null,
   "metadata": {},
   "outputs": [],
   "source": [
    "#FoV in 0.021 for sub 2 and 0.023 for sub 3\n",
    "FoV_array\n"
   ]
  },
  {
   "cell_type": "code",
   "execution_count": null,
   "metadata": {},
   "outputs": [],
   "source": [
    "FoV_array_2"
   ]
  },
  {
   "cell_type": "code",
   "execution_count": null,
   "metadata": {},
   "outputs": [],
   "source": [
    "div_no_saturation_sub_1"
   ]
  },
  {
   "cell_type": "code",
   "execution_count": null,
   "metadata": {},
   "outputs": [],
   "source": [
    "FoV_array_3"
   ]
  },
  {
   "cell_type": "code",
   "execution_count": null,
   "metadata": {},
   "outputs": [],
   "source": []
  },
  {
   "cell_type": "code",
   "execution_count": null,
   "metadata": {},
   "outputs": [],
   "source": []
  },
  {
   "cell_type": "code",
   "execution_count": null,
   "metadata": {},
   "outputs": [],
   "source": []
  },
  {
   "cell_type": "code",
   "execution_count": null,
   "metadata": {},
   "outputs": [],
   "source": []
  },
  {
   "cell_type": "code",
   "execution_count": null,
   "metadata": {},
   "outputs": [],
   "source": []
  },
  {
   "cell_type": "code",
   "execution_count": null,
   "metadata": {},
   "outputs": [],
   "source": []
  },
  {
   "cell_type": "code",
   "execution_count": null,
   "metadata": {},
   "outputs": [],
   "source": []
  },
  {
   "cell_type": "code",
   "execution_count": null,
   "metadata": {},
   "outputs": [],
   "source": []
  },
  {
   "cell_type": "code",
   "execution_count": null,
   "metadata": {},
   "outputs": [],
   "source": []
  },
  {
   "cell_type": "code",
   "execution_count": null,
   "metadata": {},
   "outputs": [],
   "source": []
  },
  {
   "cell_type": "code",
   "execution_count": null,
   "metadata": {},
   "outputs": [],
   "source": []
  },
  {
   "cell_type": "code",
   "execution_count": null,
   "metadata": {},
   "outputs": [],
   "source": []
  },
  {
   "cell_type": "code",
   "execution_count": null,
   "metadata": {},
   "outputs": [],
   "source": []
  },
  {
   "cell_type": "code",
   "execution_count": null,
   "metadata": {},
   "outputs": [],
   "source": []
  },
  {
   "cell_type": "code",
   "execution_count": null,
   "metadata": {},
   "outputs": [],
   "source": []
  },
  {
   "cell_type": "code",
   "execution_count": null,
   "metadata": {},
   "outputs": [],
   "source": []
  },
  {
   "cell_type": "code",
   "execution_count": null,
   "metadata": {},
   "outputs": [],
   "source": []
  },
  {
   "cell_type": "code",
   "execution_count": null,
   "metadata": {},
   "outputs": [],
   "source": []
  },
  {
   "cell_type": "code",
   "execution_count": null,
   "metadata": {},
   "outputs": [],
   "source": []
  },
  {
   "cell_type": "code",
   "execution_count": null,
   "metadata": {},
   "outputs": [],
   "source": []
  },
  {
   "cell_type": "code",
   "execution_count": null,
   "metadata": {},
   "outputs": [],
   "source": []
  },
  {
   "cell_type": "code",
   "execution_count": null,
   "metadata": {},
   "outputs": [],
   "source": []
  }
 ],
 "metadata": {
  "kernelspec": {
   "display_name": "Python 3 (ipykernel)",
   "language": "python",
   "name": "python3"
  },
  "language_info": {
   "codemirror_mode": {
    "name": "ipython",
    "version": 3
   },
   "file_extension": ".py",
   "mimetype": "text/x-python",
   "name": "python",
   "nbconvert_exporter": "python",
   "pygments_lexer": "ipython3",
   "version": "3.12.4"
  }
 },
 "nbformat": 4,
 "nbformat_minor": 4
}
